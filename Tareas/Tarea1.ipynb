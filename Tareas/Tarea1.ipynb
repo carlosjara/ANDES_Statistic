{
 "cells": [
  {
   "cell_type": "code",
   "execution_count": 28,
   "id": "02bc86b0",
   "metadata": {},
   "outputs": [
    {
     "name": "stdout",
     "output_type": "stream",
     "text": [
      "Requirement already satisfied: xlsxwriter in c:\\users\\carlos\\anaconda3\\lib\\site-packages (3.1.2)\n"
     ]
    }
   ],
   "source": [
    "!pip install xlsxwriter "
   ]
  },
  {
   "cell_type": "code",
   "execution_count": 106,
   "id": "3052d85c",
   "metadata": {},
   "outputs": [],
   "source": [
    "import numpy as np\n",
    "import pandas as pd\n",
    "import matplotlib.pyplot as plt\n",
    "import seaborn as sns\n",
    "from tqdm import tqdm\n",
    "from itertools import accumulate"
   ]
  },
  {
   "cell_type": "markdown",
   "id": "a41e9e75",
   "metadata": {},
   "source": [
    "1) Genere una discretización del dominio de -5 a 5, N = 20 puntos."
   ]
  },
  {
   "cell_type": "code",
   "execution_count": 107,
   "id": "700fed32",
   "metadata": {},
   "outputs": [
    {
     "data": {
      "text/plain": [
       "array([-5.        , -4.47368421, -3.94736842, -3.42105263, -2.89473684,\n",
       "       -2.36842105, -1.84210526, -1.31578947, -0.78947368, -0.26315789,\n",
       "        0.26315789,  0.78947368,  1.31578947,  1.84210526,  2.36842105,\n",
       "        2.89473684,  3.42105263,  3.94736842,  4.47368421,  5.        ])"
      ]
     },
     "execution_count": 107,
     "metadata": {},
     "output_type": "execute_result"
    }
   ],
   "source": [
    "x = np.linspace(-5.,5.,20)\n",
    "x"
   ]
  },
  {
   "cell_type": "markdown",
   "id": "837d16f6",
   "metadata": {},
   "source": [
    "2) Calcule la función exponencial en esa discretización."
   ]
  },
  {
   "cell_type": "code",
   "execution_count": 108,
   "id": "eccbf96e",
   "metadata": {},
   "outputs": [
    {
     "data": {
      "text/plain": [
       "array([1.48413159e+02, 8.76791572e+01, 5.17988745e+01, 3.06016103e+01,\n",
       "       1.80787433e+01, 1.06805150e+01, 6.30980809e+00, 3.72769274e+00,\n",
       "       2.20223705e+00, 1.30103213e+00, 7.68620527e-01, 4.54083724e-01,\n",
       "       2.68262453e-01, 1.58483425e-01, 9.36284440e-02, 5.53135794e-02,\n",
       "       3.26780189e-02, 1.93054388e-02, 1.14052191e-02, 6.73794700e-03])"
      ]
     },
     "execution_count": 108,
     "metadata": {},
     "output_type": "execute_result"
    }
   ],
   "source": [
    "def Exponencial (x,lambda_=1):\n",
    "    return lambda_ * np.exp( -lambda_ * x)\n",
    "y_exp = np.exp(x)\n",
    "y1 = Exponencial(x)\n",
    "y1"
   ]
  },
  {
   "cell_type": "markdown",
   "id": "61e7621c",
   "metadata": {},
   "source": [
    "3) Calcule la función gaussiana en esa discretización.\n"
   ]
  },
  {
   "cell_type": "code",
   "execution_count": 166,
   "id": "e1e87d5f",
   "metadata": {},
   "outputs": [],
   "source": [
    "def funcion_gaussiana(x, media, desviacion):\n",
    "    exponente = -((x - media) ** 2) / (2 * desviacion ** 2)\n",
    "    return np.exp(exponente) / (desviacion * np.sqrt(2 * np.pi))\n",
    "\n",
    "y2 = funcion_gaussiana(x,0,1)\n"
   ]
  },
  {
   "cell_type": "markdown",
   "id": "d03cff84",
   "metadata": {},
   "source": [
    "4) Guarde en un dataframe: la discretización, la función exponencial y la función gaussiana."
   ]
  },
  {
   "cell_type": "code",
   "execution_count": 167,
   "id": "7c7e537f",
   "metadata": {},
   "outputs": [
    {
     "data": {
      "text/html": [
       "<div>\n",
       "<style scoped>\n",
       "    .dataframe tbody tr th:only-of-type {\n",
       "        vertical-align: middle;\n",
       "    }\n",
       "\n",
       "    .dataframe tbody tr th {\n",
       "        vertical-align: top;\n",
       "    }\n",
       "\n",
       "    .dataframe thead th {\n",
       "        text-align: right;\n",
       "    }\n",
       "</style>\n",
       "<table border=\"1\" class=\"dataframe\">\n",
       "  <thead>\n",
       "    <tr style=\"text-align: right;\">\n",
       "      <th></th>\n",
       "      <th>Data</th>\n",
       "      <th>Exp_Dist</th>\n",
       "      <th>Gauss_Dist</th>\n",
       "    </tr>\n",
       "  </thead>\n",
       "  <tbody>\n",
       "    <tr>\n",
       "      <th>0</th>\n",
       "      <td>-5.000000</td>\n",
       "      <td>148.413159</td>\n",
       "      <td>0.000001</td>\n",
       "    </tr>\n",
       "    <tr>\n",
       "      <th>1</th>\n",
       "      <td>-4.473684</td>\n",
       "      <td>87.679157</td>\n",
       "      <td>0.000018</td>\n",
       "    </tr>\n",
       "    <tr>\n",
       "      <th>2</th>\n",
       "      <td>-3.947368</td>\n",
       "      <td>51.798874</td>\n",
       "      <td>0.000165</td>\n",
       "    </tr>\n",
       "    <tr>\n",
       "      <th>3</th>\n",
       "      <td>-3.421053</td>\n",
       "      <td>30.601610</td>\n",
       "      <td>0.001147</td>\n",
       "    </tr>\n",
       "    <tr>\n",
       "      <th>4</th>\n",
       "      <td>-2.894737</td>\n",
       "      <td>18.078743</td>\n",
       "      <td>0.006044</td>\n",
       "    </tr>\n",
       "    <tr>\n",
       "      <th>5</th>\n",
       "      <td>-2.368421</td>\n",
       "      <td>10.680515</td>\n",
       "      <td>0.024146</td>\n",
       "    </tr>\n",
       "    <tr>\n",
       "      <th>6</th>\n",
       "      <td>-1.842105</td>\n",
       "      <td>6.309808</td>\n",
       "      <td>0.073123</td>\n",
       "    </tr>\n",
       "    <tr>\n",
       "      <th>7</th>\n",
       "      <td>-1.315789</td>\n",
       "      <td>3.727693</td>\n",
       "      <td>0.167866</td>\n",
       "    </tr>\n",
       "    <tr>\n",
       "      <th>8</th>\n",
       "      <td>-0.789474</td>\n",
       "      <td>2.202237</td>\n",
       "      <td>0.292125</td>\n",
       "    </tr>\n",
       "    <tr>\n",
       "      <th>9</th>\n",
       "      <td>-0.263158</td>\n",
       "      <td>1.301032</td>\n",
       "      <td>0.385365</td>\n",
       "    </tr>\n",
       "    <tr>\n",
       "      <th>10</th>\n",
       "      <td>0.263158</td>\n",
       "      <td>0.768621</td>\n",
       "      <td>0.385365</td>\n",
       "    </tr>\n",
       "    <tr>\n",
       "      <th>11</th>\n",
       "      <td>0.789474</td>\n",
       "      <td>0.454084</td>\n",
       "      <td>0.292125</td>\n",
       "    </tr>\n",
       "    <tr>\n",
       "      <th>12</th>\n",
       "      <td>1.315789</td>\n",
       "      <td>0.268262</td>\n",
       "      <td>0.167866</td>\n",
       "    </tr>\n",
       "    <tr>\n",
       "      <th>13</th>\n",
       "      <td>1.842105</td>\n",
       "      <td>0.158483</td>\n",
       "      <td>0.073123</td>\n",
       "    </tr>\n",
       "    <tr>\n",
       "      <th>14</th>\n",
       "      <td>2.368421</td>\n",
       "      <td>0.093628</td>\n",
       "      <td>0.024146</td>\n",
       "    </tr>\n",
       "    <tr>\n",
       "      <th>15</th>\n",
       "      <td>2.894737</td>\n",
       "      <td>0.055314</td>\n",
       "      <td>0.006044</td>\n",
       "    </tr>\n",
       "    <tr>\n",
       "      <th>16</th>\n",
       "      <td>3.421053</td>\n",
       "      <td>0.032678</td>\n",
       "      <td>0.001147</td>\n",
       "    </tr>\n",
       "    <tr>\n",
       "      <th>17</th>\n",
       "      <td>3.947368</td>\n",
       "      <td>0.019305</td>\n",
       "      <td>0.000165</td>\n",
       "    </tr>\n",
       "    <tr>\n",
       "      <th>18</th>\n",
       "      <td>4.473684</td>\n",
       "      <td>0.011405</td>\n",
       "      <td>0.000018</td>\n",
       "    </tr>\n",
       "    <tr>\n",
       "      <th>19</th>\n",
       "      <td>5.000000</td>\n",
       "      <td>0.006738</td>\n",
       "      <td>0.000001</td>\n",
       "    </tr>\n",
       "  </tbody>\n",
       "</table>\n",
       "</div>"
      ],
      "text/plain": [
       "        Data    Exp_Dist  Gauss_Dist\n",
       "0  -5.000000  148.413159    0.000001\n",
       "1  -4.473684   87.679157    0.000018\n",
       "2  -3.947368   51.798874    0.000165\n",
       "3  -3.421053   30.601610    0.001147\n",
       "4  -2.894737   18.078743    0.006044\n",
       "5  -2.368421   10.680515    0.024146\n",
       "6  -1.842105    6.309808    0.073123\n",
       "7  -1.315789    3.727693    0.167866\n",
       "8  -0.789474    2.202237    0.292125\n",
       "9  -0.263158    1.301032    0.385365\n",
       "10  0.263158    0.768621    0.385365\n",
       "11  0.789474    0.454084    0.292125\n",
       "12  1.315789    0.268262    0.167866\n",
       "13  1.842105    0.158483    0.073123\n",
       "14  2.368421    0.093628    0.024146\n",
       "15  2.894737    0.055314    0.006044\n",
       "16  3.421053    0.032678    0.001147\n",
       "17  3.947368    0.019305    0.000165\n",
       "18  4.473684    0.011405    0.000018\n",
       "19  5.000000    0.006738    0.000001"
      ]
     },
     "execution_count": 167,
     "metadata": {},
     "output_type": "execute_result"
    }
   ],
   "source": [
    "Dict = {'Data': x, 'Exp_Dist':y1, 'Gauss_Dist':y2}\n",
    "df = pd.DataFrame(Dict)\n",
    "df"
   ]
  },
  {
   "cell_type": "markdown",
   "id": "99a91de6",
   "metadata": {},
   "source": [
    "5) En la cuarta columna del dataframe calcule el valor medio de la función exponencial."
   ]
  },
  {
   "cell_type": "code",
   "execution_count": 168,
   "id": "6ad88725",
   "metadata": {},
   "outputs": [],
   "source": [
    "df = df.assign(VlrMedioE = 0.5*df.Exp_Dist)"
   ]
  },
  {
   "cell_type": "markdown",
   "id": "a98c8483",
   "metadata": {},
   "source": [
    "6) En la quinta columna del dataframe calcule el valor medio de la función gaussiana"
   ]
  },
  {
   "cell_type": "code",
   "execution_count": 169,
   "id": "7231bfbb",
   "metadata": {},
   "outputs": [],
   "source": [
    "df = df.assign(VlrMedioG = 0.5*df.Gauss_Dist)"
   ]
  },
  {
   "cell_type": "markdown",
   "id": "a15465c2",
   "metadata": {},
   "source": [
    "7) Guarde esta información en una hija de cálculo de excel y ponga el nombre de hoja como: distribuciones."
   ]
  },
  {
   "cell_type": "code",
   "execution_count": 170,
   "id": "8cfb14cd",
   "metadata": {},
   "outputs": [
    {
     "name": "stderr",
     "output_type": "stream",
     "text": [
      "C:\\Users\\CARLOS\\AppData\\Local\\Temp\\ipykernel_11440\\3002485840.py:3: FutureWarning: save is not part of the public API, usage can give unexpected results and will be removed in a future version\n",
      "  output.save()\n"
     ]
    }
   ],
   "source": [
    "output = pd.ExcelWriter('Rest.xlsx',engine='xlsxwriter')\n",
    "df.to_excel(output, index=False, sheet_name ='Distribuciones')\n",
    "output.save()"
   ]
  },
  {
   "cell_type": "markdown",
   "id": "607ce31d",
   "metadata": {},
   "source": [
    "8) En el caso de los 3 dados, calcule la probabilidad de que la suma sea menor o igual  15, usando el histograma de frecuencias relativas y por otro lado, la función de distribución acumulada."
   ]
  },
  {
   "cell_type": "code",
   "execution_count": 171,
   "id": "57f86a36",
   "metadata": {},
   "outputs": [],
   "source": [
    "def lanzar_Dados(N = 1000):\n",
    "    NumeroExistos = 0\n",
    "    D1 = np.zeros(N).astype(int)\n",
    "    D2 = np.zeros(N).astype(int)\n",
    "    D3 = np.zeros(N).astype(int)\n",
    "    for i in range (N):    \n",
    "        EventoD1 = np.random.randint(1,7) #Se excluye el ultimo valor (7)\n",
    "        EventoD2 = np.random.randint(1,7) #Se excluye el ultimo valor (7)\n",
    "        EventoD3= np.random.randint(1,7) #Se excluye el ultimo valor (7)\n",
    "        D1[i] = EventoD1\n",
    "        D2[i] = EventoD2\n",
    "        D3[i] = EventoD3\n",
    "        #print(\"Dado1: \",EventoD1,\"Dado1: \",EventoD1)\n",
    "    return D1,D2,D3"
   ]
  },
  {
   "cell_type": "code",
   "execution_count": 172,
   "id": "26c5d3c2",
   "metadata": {},
   "outputs": [],
   "source": [
    "N=10000\n",
    "Dado1, Dado2, Dado3 = lanzar_Dados(N)"
   ]
  },
  {
   "cell_type": "code",
   "execution_count": 173,
   "id": "00ca6210",
   "metadata": {},
   "outputs": [],
   "source": [
    "bins = np.linspace(3,19,17)\n",
    "H, bines = np.histogram(Dado1+Dado2+Dado3, bins=bins)\n",
    "#Ancho de Clase\n",
    "w=np.diff(bines)\n",
    "#marcas de clase\n",
    "m=bines[:-1] +0.5*w[0]"
   ]
  },
  {
   "cell_type": "code",
   "execution_count": 174,
   "id": "64da343b",
   "metadata": {},
   "outputs": [],
   "source": [
    "#plt.bar(m,H,width=w,ec='k') # la marca de clase la usa bar plot para poner la primera barra \n",
    "#y el valor de H para la frecuencia abs"
   ]
  },
  {
   "cell_type": "code",
   "execution_count": 175,
   "id": "34a0847b",
   "metadata": {},
   "outputs": [
    {
     "data": {
      "image/png": "[encoded data removed]",
      "text/plain": [
       "<Figure size 640x480 with 1 Axes>"
      ]
     },
     "metadata": {},
     "output_type": "display_data"
    }
   ],
   "source": [
    "HNorm = H/N\n",
    "plt.bar(m,HNorm,width=w,ec='k')\n",
    "plt.title('Frecuencias Relativas', loc = \"center\") \n",
    "plt.xlabel('Combinaciones', fontsize=12)\n",
    "plt.ylabel('FrecuenciaRelativa', fontsize=12)\n",
    "plt.show ()"
   ]
  },
  {
   "cell_type": "code",
   "execution_count": 121,
   "id": "129740cf",
   "metadata": {},
   "outputs": [
    {
     "data": {
      "text/plain": [
       "0.9820000000000001"
      ]
     },
     "execution_count": 121,
     "metadata": {},
     "output_type": "execute_result"
    }
   ],
   "source": [
    "np.sum(HNorm[:14])"
   ]
  },
  {
   "cell_type": "code",
   "execution_count": 122,
   "id": "d943014d",
   "metadata": {},
   "outputs": [],
   "source": [
    "HCum = np.array(list(accumulate(HNorm, lambda x, y: x + y))) # Mi solucion\n",
    "for i in range (len(HNorm)):\n",
    "    HCum[i] = np.sum(HNorm[:i+1])"
   ]
  },
  {
   "cell_type": "code",
   "execution_count": 176,
   "id": "283a7747",
   "metadata": {},
   "outputs": [
    {
     "data": {
      "image/png": "[encoded data removed]",
      "text/plain": [
       "<Figure size 640x480 with 1 Axes>"
      ]
     },
     "metadata": {},
     "output_type": "display_data"
    }
   ],
   "source": [
    "plt.bar(m,HCum,width=w,ec='k')\n",
    "plt.axhline(y=1,color='r')\n",
    "plt.title('Distribución acumulada', loc = \"center\") \n",
    "plt.show ()"
   ]
  }
 ],
 "metadata": {
  "kernelspec": {
   "display_name": "Python 3 (ipykernel)",
   "language": "python",
   "name": "python3"
  },
  "language_info": {
   "codemirror_mode": {
    "name": "ipython",
    "version": 3
   },
   "file_extension": ".py",
   "mimetype": "text/x-python",
   "name": "python",
   "nbconvert_exporter": "python",
   "pygments_lexer": "ipython3",
   "version": "3.10.9"
  }
 },
 "nbformat": 4,
 "nbformat_minor": 5
}
