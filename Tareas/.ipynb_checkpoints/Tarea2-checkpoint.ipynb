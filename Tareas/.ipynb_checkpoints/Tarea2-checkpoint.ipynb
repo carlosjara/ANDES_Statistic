{
 "cells": [
  {
   "cell_type": "code",
   "execution_count": 54,
   "id": "79bd78a5",
   "metadata": {},
   "outputs": [],
   "source": [
    "import numpy as np\n",
    "import matplotlib.pyplot as plt\n",
    "import pandas as pd\n",
    "import seaborn as sns"
   ]
  },
  {
   "cell_type": "code",
   "execution_count": 55,
   "id": "0c0baedd",
   "metadata": {},
   "outputs": [
    {
     "data": {
      "text/html": [
       "<div>\n",
       "<style scoped>\n",
       "    .dataframe tbody tr th:only-of-type {\n",
       "        vertical-align: middle;\n",
       "    }\n",
       "\n",
       "    .dataframe tbody tr th {\n",
       "        vertical-align: top;\n",
       "    }\n",
       "\n",
       "    .dataframe thead th {\n",
       "        text-align: right;\n",
       "    }\n",
       "</style>\n",
       "<table border=\"1\" class=\"dataframe\">\n",
       "  <thead>\n",
       "    <tr style=\"text-align: right;\">\n",
       "      <th></th>\n",
       "      <th>CASO</th>\n",
       "      <th>FECHA_DE_INICIO_DE_SINTOMAS</th>\n",
       "      <th>FECHA_DIAGNOSTICO</th>\n",
       "      <th>CIUDAD</th>\n",
       "      <th>LOCALIDAD_ASIS</th>\n",
       "      <th>EDAD</th>\n",
       "      <th>UNI_MED</th>\n",
       "      <th>SEXO</th>\n",
       "      <th>FUENTE_O_TIPO_DE_CONTAGIO</th>\n",
       "      <th>UBICACION</th>\n",
       "      <th>ESTADO</th>\n",
       "    </tr>\n",
       "  </thead>\n",
       "  <tbody>\n",
       "    <tr>\n",
       "      <th>0</th>\n",
       "      <td>1</td>\n",
       "      <td>2020-02-26</td>\n",
       "      <td>2020-03-06</td>\n",
       "      <td>Bogotá</td>\n",
       "      <td>Usaquén</td>\n",
       "      <td>19</td>\n",
       "      <td>1</td>\n",
       "      <td>F</td>\n",
       "      <td>Importado</td>\n",
       "      <td>Casa</td>\n",
       "      <td>Recuperado</td>\n",
       "    </tr>\n",
       "    <tr>\n",
       "      <th>1</th>\n",
       "      <td>2</td>\n",
       "      <td>2020-03-04</td>\n",
       "      <td>2020-03-10</td>\n",
       "      <td>Bogotá</td>\n",
       "      <td>Engativá</td>\n",
       "      <td>22</td>\n",
       "      <td>1</td>\n",
       "      <td>F</td>\n",
       "      <td>Importado</td>\n",
       "      <td>Casa</td>\n",
       "      <td>Recuperado</td>\n",
       "    </tr>\n",
       "    <tr>\n",
       "      <th>2</th>\n",
       "      <td>3</td>\n",
       "      <td>2020-03-07</td>\n",
       "      <td>2020-03-10</td>\n",
       "      <td>Bogotá</td>\n",
       "      <td>Engativá</td>\n",
       "      <td>28</td>\n",
       "      <td>1</td>\n",
       "      <td>F</td>\n",
       "      <td>Importado</td>\n",
       "      <td>Casa</td>\n",
       "      <td>Recuperado</td>\n",
       "    </tr>\n",
       "    <tr>\n",
       "      <th>3</th>\n",
       "      <td>4</td>\n",
       "      <td>2020-03-06</td>\n",
       "      <td>2020-03-12</td>\n",
       "      <td>Bogotá</td>\n",
       "      <td>Fontibón</td>\n",
       "      <td>36</td>\n",
       "      <td>1</td>\n",
       "      <td>F</td>\n",
       "      <td>Importado</td>\n",
       "      <td>Casa</td>\n",
       "      <td>Recuperado</td>\n",
       "    </tr>\n",
       "    <tr>\n",
       "      <th>4</th>\n",
       "      <td>5</td>\n",
       "      <td>2020-03-06</td>\n",
       "      <td>2020-03-12</td>\n",
       "      <td>Bogotá</td>\n",
       "      <td>Kennedy</td>\n",
       "      <td>42</td>\n",
       "      <td>1</td>\n",
       "      <td>F</td>\n",
       "      <td>Importado</td>\n",
       "      <td>Casa</td>\n",
       "      <td>Recuperado</td>\n",
       "    </tr>\n",
       "    <tr>\n",
       "      <th>...</th>\n",
       "      <td>...</td>\n",
       "      <td>...</td>\n",
       "      <td>...</td>\n",
       "      <td>...</td>\n",
       "      <td>...</td>\n",
       "      <td>...</td>\n",
       "      <td>...</td>\n",
       "      <td>...</td>\n",
       "      <td>...</td>\n",
       "      <td>...</td>\n",
       "      <td>...</td>\n",
       "    </tr>\n",
       "    <tr>\n",
       "      <th>9994</th>\n",
       "      <td>9995</td>\n",
       "      <td>2020-05-29</td>\n",
       "      <td>2020-05-31</td>\n",
       "      <td>Bogotá</td>\n",
       "      <td>Kennedy</td>\n",
       "      <td>32</td>\n",
       "      <td>1</td>\n",
       "      <td>F</td>\n",
       "      <td>Relacionado</td>\n",
       "      <td>Casa</td>\n",
       "      <td>Recuperado</td>\n",
       "    </tr>\n",
       "    <tr>\n",
       "      <th>9995</th>\n",
       "      <td>9996</td>\n",
       "      <td>2020-05-28</td>\n",
       "      <td>2020-05-31</td>\n",
       "      <td>Bogotá</td>\n",
       "      <td>Usaquén</td>\n",
       "      <td>70</td>\n",
       "      <td>1</td>\n",
       "      <td>F</td>\n",
       "      <td>En estudio</td>\n",
       "      <td>Casa</td>\n",
       "      <td>Recuperado</td>\n",
       "    </tr>\n",
       "    <tr>\n",
       "      <th>9996</th>\n",
       "      <td>9997</td>\n",
       "      <td>2020-05-27</td>\n",
       "      <td>2020-05-31</td>\n",
       "      <td>Bogotá</td>\n",
       "      <td>Suba</td>\n",
       "      <td>32</td>\n",
       "      <td>1</td>\n",
       "      <td>F</td>\n",
       "      <td>Relacionado</td>\n",
       "      <td>Casa</td>\n",
       "      <td>Recuperado</td>\n",
       "    </tr>\n",
       "    <tr>\n",
       "      <th>9997</th>\n",
       "      <td>9998</td>\n",
       "      <td>2020-05-27</td>\n",
       "      <td>2020-05-31</td>\n",
       "      <td>Bogotá</td>\n",
       "      <td>Suba</td>\n",
       "      <td>2</td>\n",
       "      <td>1</td>\n",
       "      <td>M</td>\n",
       "      <td>Relacionado</td>\n",
       "      <td>Casa</td>\n",
       "      <td>Recuperado</td>\n",
       "    </tr>\n",
       "    <tr>\n",
       "      <th>9998</th>\n",
       "      <td>9999</td>\n",
       "      <td>2020-05-25</td>\n",
       "      <td>2020-05-31</td>\n",
       "      <td>Bogotá</td>\n",
       "      <td>Suba</td>\n",
       "      <td>32</td>\n",
       "      <td>1</td>\n",
       "      <td>F</td>\n",
       "      <td>Relacionado</td>\n",
       "      <td>Casa</td>\n",
       "      <td>Recuperado</td>\n",
       "    </tr>\n",
       "  </tbody>\n",
       "</table>\n",
       "<p>9999 rows × 11 columns</p>\n",
       "</div>"
      ],
      "text/plain": [
       "      CASO FECHA_DE_INICIO_DE_SINTOMAS FECHA_DIAGNOSTICO  CIUDAD  \\\n",
       "0        1                  2020-02-26        2020-03-06  Bogotá   \n",
       "1        2                  2020-03-04        2020-03-10  Bogotá   \n",
       "2        3                  2020-03-07        2020-03-10  Bogotá   \n",
       "3        4                  2020-03-06        2020-03-12  Bogotá   \n",
       "4        5                  2020-03-06        2020-03-12  Bogotá   \n",
       "...    ...                         ...               ...     ...   \n",
       "9994  9995                  2020-05-29        2020-05-31  Bogotá   \n",
       "9995  9996                  2020-05-28        2020-05-31  Bogotá   \n",
       "9996  9997                  2020-05-27        2020-05-31  Bogotá   \n",
       "9997  9998                  2020-05-27        2020-05-31  Bogotá   \n",
       "9998  9999                  2020-05-25        2020-05-31  Bogotá   \n",
       "\n",
       "     LOCALIDAD_ASIS  EDAD  UNI_MED SEXO FUENTE_O_TIPO_DE_CONTAGIO UBICACION  \\\n",
       "0           Usaquén    19        1    F                 Importado      Casa   \n",
       "1          Engativá    22        1    F                 Importado      Casa   \n",
       "2          Engativá    28        1    F                 Importado      Casa   \n",
       "3          Fontibón    36        1    F                 Importado      Casa   \n",
       "4           Kennedy    42        1    F                 Importado      Casa   \n",
       "...             ...   ...      ...  ...                       ...       ...   \n",
       "9994        Kennedy    32        1    F               Relacionado      Casa   \n",
       "9995        Usaquén    70        1    F                En estudio      Casa   \n",
       "9996           Suba    32        1    F               Relacionado      Casa   \n",
       "9997           Suba     2        1    M               Relacionado      Casa   \n",
       "9998           Suba    32        1    F               Relacionado      Casa   \n",
       "\n",
       "          ESTADO  \n",
       "0     Recuperado  \n",
       "1     Recuperado  \n",
       "2     Recuperado  \n",
       "3     Recuperado  \n",
       "4     Recuperado  \n",
       "...          ...  \n",
       "9994  Recuperado  \n",
       "9995  Recuperado  \n",
       "9996  Recuperado  \n",
       "9997  Recuperado  \n",
       "9998  Recuperado  \n",
       "\n",
       "[9999 rows x 11 columns]"
      ]
     },
     "execution_count": 55,
     "metadata": {},
     "output_type": "execute_result"
    }
   ],
   "source": [
    "df = pd.read_csv('Database/CovidSample.csv', sep=';')\n",
    "df"
   ]
  },
  {
   "cell_type": "code",
   "execution_count": 56,
   "id": "a29dce05",
   "metadata": {},
   "outputs": [],
   "source": [
    "N = df.shape[0] #Poblacion"
   ]
  },
  {
   "cell_type": "code",
   "execution_count": 57,
   "id": "1ccefe6e",
   "metadata": {},
   "outputs": [],
   "source": [
    "maskF = df['SEXO'] == 'F' #Casos Mujeres\n",
    "maskM = df['SEXO'] == 'M' #Casos Hombres\n",
    "maskFallecidos = df['ESTADO'] == 'Fallecido' #Casos Fallecidos"
   ]
  },
  {
   "cell_type": "code",
   "execution_count": 58,
   "id": "4b9d84ae",
   "metadata": {},
   "outputs": [],
   "source": [
    "df_Female = df[maskF] #DataFrame Mujeres\n",
    "df_Male = df[maskM]   #DataFrame Hombres"
   ]
  },
  {
   "cell_type": "code",
   "execution_count": 59,
   "id": "4139a60d",
   "metadata": {},
   "outputs": [],
   "source": [
    "NF = df_Female.shape[0] #Total Mujeres\n",
    "NM = df_Male.shape[0]   #Total Hombres"
   ]
  },
  {
   "cell_type": "code",
   "execution_count": 60,
   "id": "6d2a9d65",
   "metadata": {},
   "outputs": [],
   "source": [
    "PF = NF/N #Probabilidad Mujeres\n",
    "PM = NM/N #Probabilidad Hombres"
   ]
  },
  {
   "cell_type": "code",
   "execution_count": 61,
   "id": "3b75d1dc",
   "metadata": {},
   "outputs": [
    {
     "name": "stdout",
     "output_type": "stream",
     "text": [
      "P(MujerAfectada):  0.4821482148214821 \n",
      "P(HombreAfectado):  0.5178517851785178 \n",
      "P(Total): 1.0\n"
     ]
    }
   ],
   "source": [
    "print(f\"P(MujerAfectada): \", PF, f\"\\nP(HombreAfectado): \" , PM , f\"\\nP(Total):\", PF+PM)"
   ]
  },
  {
   "cell_type": "code",
   "execution_count": 62,
   "id": "3f0a54ba",
   "metadata": {},
   "outputs": [],
   "source": [
    "#tarea 1 : Edad media de fallecimientos de M\n",
    "#tarea 2 : Probabildiad de fallecimientos de M"
   ]
  },
  {
   "cell_type": "code",
   "execution_count": 63,
   "id": "dc6fa2c7",
   "metadata": {},
   "outputs": [],
   "source": [
    "dfFemaleFallecido = df[ maskF & maskFallecidos ]\n",
    "dfMaleFallecido = df[ maskM & maskFallecidos ] ## TAREA 1"
   ]
  },
  {
   "cell_type": "code",
   "execution_count": 64,
   "id": "09b20a94",
   "metadata": {},
   "outputs": [],
   "source": [
    "CrossEdadF = pd.crosstab( index = dfFemaleFallecido['EDAD'], columns = dfFemaleFallecido['ESTADO'])\n",
    "CrossEdadM = pd.crosstab( index = dfMaleFallecido['EDAD'], columns = dfMaleFallecido['ESTADO'])"
   ]
  },
  {
   "cell_type": "code",
   "execution_count": 65,
   "id": "2ff206f3",
   "metadata": {},
   "outputs": [
    {
     "data": {
      "text/plain": [
       "<Axes: xlabel='EDAD'>"
      ]
     },
     "execution_count": 65,
     "metadata": {},
     "output_type": "execute_result"
    }
   ],
   "source": [
    "CrossEdadM.plot(kind='bar')"
   ]
  },
  {
   "cell_type": "code",
   "execution_count": 66,
   "id": "d1e1f176",
   "metadata": {},
   "outputs": [],
   "source": [
    "#Calculo de la media de la distribucion de hombre y mujeres que fallecen\n",
    "EdadF = np.array(CrossEdadF.index) \n",
    "EdadM = np.array(CrossEdadM.index) # selecciono un array con los indices de la tabla de contingencia"
   ]
  },
  {
   "cell_type": "code",
   "execution_count": 67,
   "id": "a86519e8",
   "metadata": {},
   "outputs": [],
   "source": [
    "F_fabs = np.array(CrossEdadF.Fallecido)\n",
    "M_fabs = np.array(CrossEdadM.Fallecido)"
   ]
  },
  {
   "cell_type": "code",
   "execution_count": 68,
   "id": "c2968869",
   "metadata": {},
   "outputs": [],
   "source": [
    "PFallecimientoF = F_fabs/np.sum(F_fabs)\n",
    "PFallecimientoM = M_fabs/np.sum(M_fabs)"
   ]
  },
  {
   "cell_type": "code",
   "execution_count": 69,
   "id": "e3a94610",
   "metadata": {},
   "outputs": [],
   "source": [
    "meanF = np.sum(EdadF*PFallecimientoF)\n",
    "meanM = np.sum(EdadM*PFallecimientoM)"
   ]
  },
  {
   "cell_type": "code",
   "execution_count": 70,
   "id": "fdd685c0",
   "metadata": {},
   "outputs": [
    {
     "name": "stdout",
     "output_type": "stream",
     "text": [
      "Edad media Hombres:  65.75609756097562 \n",
      "Edad media Mujeres:  71.03149606299213\n"
     ]
    }
   ],
   "source": [
    "print(\"Edad media Hombres: \",meanM,f\"\\nEdad media Mujeres: \",meanF)"
   ]
  },
  {
   "cell_type": "code",
   "execution_count": 71,
   "id": "4c6fdb94",
   "metadata": {},
   "outputs": [],
   "source": [
    "#print(f\"Probabilidad\\n Hombres: \",PFallecimientoF,f\"\\nEdad media Mujeres: \",PFallecimientoM)"
   ]
  },
  {
   "cell_type": "code",
   "execution_count": 72,
   "id": "3fee5ca7",
   "metadata": {},
   "outputs": [],
   "source": [
    "DictF ={'EdadF':EdadF, 'P(F)':PFallecimientoF}\n",
    "DictM  ={'EdadM':EdadM, 'P(M)':PFallecimientoM}"
   ]
  },
  {
   "cell_type": "code",
   "execution_count": 73,
   "id": "62b4f2ea",
   "metadata": {},
   "outputs": [],
   "source": [
    "df_salidaF = pd.DataFrame(DictF)\n",
    "df_salidaM = pd.DataFrame(DictM)"
   ]
  },
  {
   "cell_type": "code",
   "execution_count": 74,
   "id": "a2bbe323",
   "metadata": {},
   "outputs": [
    {
     "data": {
      "text/plain": [
       "<matplotlib.lines.Line2D at 0x21a3350ad40>"
      ]
     },
     "execution_count": 74,
     "metadata": {},
     "output_type": "execute_result"
    }
   ],
   "source": [
    "plt.bar(EdadF,PFallecimientoF, width=1)\n",
    "plt.axvline(x=meanF, color='r')"
   ]
  },
  {
   "cell_type": "code",
   "execution_count": 75,
   "id": "c710b179",
   "metadata": {},
   "outputs": [
    {
     "data": {
      "text/plain": [
       "<matplotlib.lines.Line2D at 0x21a3357c160>"
      ]
     },
     "execution_count": 75,
     "metadata": {},
     "output_type": "execute_result"
    }
   ],
   "source": [
    "plt.bar(EdadM,PFallecimientoM, width=1)\n",
    "plt.axvline(x=meanM, color='r')"
   ]
  },
  {
   "cell_type": "code",
   "execution_count": 76,
   "id": "7e32055f",
   "metadata": {},
   "outputs": [
    {
     "data": {
      "text/plain": [
       "<Axes: xlabel='EDAD', ylabel='SEXO'>"
      ]
     },
     "execution_count": 76,
     "metadata": {},
     "output_type": "execute_result"
    }
   ],
   "source": [
    "sns.catplot( x = 'EDAD', y = 'SEXO', data = dfFemaleFallecido, kind='violin',color='.9', inner=None)\n",
    "sns.swarmplot( x = 'EDAD', y = 'SEXO', data = dfFemaleFallecido, size=3 )"
   ]
  },
  {
   "cell_type": "code",
   "execution_count": 77,
   "id": "4b6e0ebf",
   "metadata": {},
   "outputs": [],
   "source": [
    "df2 = df[maskFallecidos]"
   ]
  },
  {
   "cell_type": "code",
   "execution_count": 78,
   "id": "b378399e",
   "metadata": {},
   "outputs": [
    {
     "data": {
      "text/plain": [
       "<Axes: xlabel='EDAD', ylabel='SEXO'>"
      ]
     },
     "execution_count": 78,
     "metadata": {},
     "output_type": "execute_result"
    }
   ],
   "source": [
    "sns.catplot( x = 'EDAD', y = 'SEXO', data = df2, kind='violin',color='.9', inner=None)\n",
    "sns.swarmplot( x = 'EDAD', y = 'SEXO', data = df2, size=3 )"
   ]
  },
  {
   "cell_type": "code",
   "execution_count": 79,
   "id": "a7535f75",
   "metadata": {},
   "outputs": [
    {
     "data": {
      "text/plain": [
       "<seaborn.axisgrid.FacetGrid at 0x21a347a62f0>"
      ]
     },
     "execution_count": 79,
     "metadata": {},
     "output_type": "execute_result"
    }
   ],
   "source": [
    "sns.catplot( x = 'LOCALIDAD_ASIS', y='EDAD', data = df2, kind='violin', inner=None)"
   ]
  },
  {
   "cell_type": "code",
   "execution_count": 81,
   "id": "a0ab0aa4",
   "metadata": {},
   "outputs": [
    {
     "data": {
      "text/plain": [
       "<seaborn.axisgrid.FacetGrid at 0x21a29cb2410>"
      ]
     },
     "execution_count": 81,
     "metadata": {},
     "output_type": "execute_result"
    }
   ],
   "source": [
    "sns.catplot(x=\"LOCALIDAD_ASIS\",y=\"EDAD\",data=df2, kind=\"violin\")"
   ]
  },
  {
   "cell_type": "code",
   "execution_count": null,
   "id": "0c7b2b53",
   "metadata": {},
   "outputs": [],
   "source": []
  }
 ],
 "metadata": {
  "kernelspec": {
   "display_name": "Python 3 (ipykernel)",
   "language": "python",
   "name": "python3"
  },
  "language_info": {
   "codemirror_mode": {
    "name": "ipython",
    "version": 3
   },
   "file_extension": ".py",
   "mimetype": "text/x-python",
   "name": "python",
   "nbconvert_exporter": "python",
   "pygments_lexer": "ipython3",
   "version": "3.10.9"
  }
 },
 "nbformat": 4,
 "nbformat_minor": 5
}
