{
 "cells": [
  {
   "cell_type": "code",
   "execution_count": 54,
   "id": "0f7d3563",
   "metadata": {},
   "outputs": [],
   "source": [
    "import numpy as np\n",
    "import matplotlib.pyplot as plt"
   ]
  },
  {
   "cell_type": "markdown",
   "id": "84e989b8",
   "metadata": {},
   "source": [
    "# Python es tipado dinamico\n",
    "## Contenedor = Contenido\n",
    "## Enteros (int)\n",
    "## Decimales (float)\n",
    "## Letras (string)"
   ]
  },
  {
   "cell_type": "code",
   "execution_count": 5,
   "id": "11d17cec",
   "metadata": {},
   "outputs": [
    {
     "name": "stdout",
     "output_type": "stream",
     "text": [
      "5.12 <class 'float'>\n"
     ]
    }
   ],
   "source": [
    "a = 5.12\n",
    "print(a,type(a))"
   ]
  },
  {
   "cell_type": "code",
   "execution_count": 6,
   "id": "349b9b13",
   "metadata": {},
   "outputs": [
    {
     "name": "stdout",
     "output_type": "stream",
     "text": [
      "<class 'str'>\n"
     ]
    }
   ],
   "source": [
    "Nombre = \"Alejandro\"\n",
    "print(type(Nombre))"
   ]
  },
  {
   "cell_type": "markdown",
   "id": "c6919426",
   "metadata": {},
   "source": [
    "# Jerarquía\n",
    "## Primero hacemos * y /, y luego hacemos + - ; sin signos de agrupación"
   ]
  },
  {
   "cell_type": "code",
   "execution_count": 7,
   "id": "a1b56aa7",
   "metadata": {},
   "outputs": [
    {
     "data": {
      "text/plain": [
       "5"
      ]
     },
     "execution_count": 7,
     "metadata": {},
     "output_type": "execute_result"
    }
   ],
   "source": [
    "2*2+1"
   ]
  },
  {
   "cell_type": "code",
   "execution_count": 8,
   "id": "6cc93dc4",
   "metadata": {},
   "outputs": [
    {
     "data": {
      "text/plain": [
       "6"
      ]
     },
     "execution_count": 8,
     "metadata": {},
     "output_type": "execute_result"
    }
   ],
   "source": [
    "# Vamos a agrupar\n",
    "2*(2+1)"
   ]
  },
  {
   "cell_type": "code",
   "execution_count": 9,
   "id": "39a4efa0",
   "metadata": {},
   "outputs": [
    {
     "ename": "ZeroDivisionError",
     "evalue": "division by zero",
     "output_type": "error",
     "traceback": [
      "\u001b[1;31m---------------------------------------------------------------------------\u001b[0m",
      "\u001b[1;31mZeroDivisionError\u001b[0m                         Traceback (most recent call last)",
      "Input \u001b[1;32mIn [9]\u001b[0m, in \u001b[0;36m<cell line: 1>\u001b[1;34m()\u001b[0m\n\u001b[1;32m----> 1\u001b[0m \u001b[38;5;241;43m2\u001b[39;49m\u001b[38;5;241;43m/\u001b[39;49m\u001b[43m(\u001b[49m\u001b[38;5;241;43m2\u001b[39;49m\u001b[38;5;241;43m-\u001b[39;49m\u001b[38;5;241;43m2\u001b[39;49m\u001b[43m)\u001b[49m\n",
      "\u001b[1;31mZeroDivisionError\u001b[0m: division by zero"
     ]
    }
   ],
   "source": [
    "2/(2-2)"
   ]
  },
  {
   "cell_type": "code",
   "execution_count": 10,
   "id": "9f48408a",
   "metadata": {},
   "outputs": [
    {
     "data": {
      "text/plain": [
       "-1.0"
      ]
     },
     "execution_count": 10,
     "metadata": {},
     "output_type": "execute_result"
    }
   ],
   "source": [
    "2/2 - 2"
   ]
  },
  {
   "cell_type": "markdown",
   "id": "5c1a9473",
   "metadata": {},
   "source": [
    "# Funciones\n",
    "## Reciclar código, modificar el valor de las variables y \n",
    "## Devolver o retornar información especifica.\n",
    "\n",
    "# Los ambientes de python están definidos por identación"
   ]
  },
  {
   "cell_type": "code",
   "execution_count": 14,
   "id": "d2f64d87",
   "metadata": {},
   "outputs": [],
   "source": [
    "# Definicion\n",
    "def Multiplicar(x): # Ambiente de la función\n",
    "    return 2*x"
   ]
  },
  {
   "cell_type": "code",
   "execution_count": 16,
   "id": "0ba307bf",
   "metadata": {},
   "outputs": [
    {
     "data": {
      "text/plain": [
       "6.283384"
      ]
     },
     "execution_count": 16,
     "metadata": {},
     "output_type": "execute_result"
    }
   ],
   "source": [
    "# Ejecucion\n",
    "Multiplicar(3.141692)"
   ]
  },
  {
   "cell_type": "code",
   "execution_count": 26,
   "id": "a16fd2ca",
   "metadata": {},
   "outputs": [
    {
     "name": "stdout",
     "output_type": "stream",
     "text": [
      "[12.   3.6  4. ] <class 'numpy.ndarray'>\n"
     ]
    }
   ],
   "source": [
    "# Primera estructura de datos, incluyendo a numpy\n",
    "lista1 = np.array([12.,3.6,4], dtype=np.float64)\n",
    "print(lista1,type(lista1))"
   ]
  },
  {
   "cell_type": "code",
   "execution_count": 27,
   "id": "be1b76ed",
   "metadata": {},
   "outputs": [
    {
     "data": {
      "text/plain": [
       "array([24. ,  7.2,  8. ])"
      ]
     },
     "execution_count": 27,
     "metadata": {},
     "output_type": "execute_result"
    }
   ],
   "source": [
    "# Funcionará\n",
    "Multiplicar(lista1)"
   ]
  },
  {
   "cell_type": "code",
   "execution_count": 30,
   "id": "0f1a1bfe",
   "metadata": {},
   "outputs": [],
   "source": [
    "# Usando solo listas\n",
    "lista2 = [12.,3.6,4]\n",
    "# La información está encapsulada"
   ]
  },
  {
   "cell_type": "code",
   "execution_count": 32,
   "id": "301c91a7",
   "metadata": {},
   "outputs": [
    {
     "data": {
      "text/plain": [
       "12.0"
      ]
     },
     "execution_count": 32,
     "metadata": {},
     "output_type": "execute_result"
    }
   ],
   "source": [
    "# primer indice 0\n",
    "lista2[0]"
   ]
  },
  {
   "cell_type": "code",
   "execution_count": 33,
   "id": "161a0fb7",
   "metadata": {},
   "outputs": [
    {
     "data": {
      "text/plain": [
       "24.0"
      ]
     },
     "execution_count": 33,
     "metadata": {},
     "output_type": "execute_result"
    }
   ],
   "source": [
    "Multiplicar(lista2[0])"
   ]
  },
  {
   "cell_type": "code",
   "execution_count": 34,
   "id": "1c518cfd",
   "metadata": {},
   "outputs": [
    {
     "data": {
      "text/plain": [
       "3.6"
      ]
     },
     "execution_count": 34,
     "metadata": {},
     "output_type": "execute_result"
    }
   ],
   "source": [
    "lista2[1]"
   ]
  },
  {
   "cell_type": "code",
   "execution_count": 35,
   "id": "f3617ed9",
   "metadata": {},
   "outputs": [
    {
     "data": {
      "text/plain": [
       "7.2"
      ]
     },
     "execution_count": 35,
     "metadata": {},
     "output_type": "execute_result"
    }
   ],
   "source": [
    "Multiplicar(lista2[1])"
   ]
  },
  {
   "cell_type": "code",
   "execution_count": 36,
   "id": "5efba057",
   "metadata": {},
   "outputs": [
    {
     "data": {
      "text/plain": [
       "8"
      ]
     },
     "execution_count": 36,
     "metadata": {},
     "output_type": "execute_result"
    }
   ],
   "source": [
    "Multiplicar(lista2[2])"
   ]
  },
  {
   "cell_type": "code",
   "execution_count": 37,
   "id": "7f15ed33",
   "metadata": {},
   "outputs": [
    {
     "ename": "IndexError",
     "evalue": "list index out of range",
     "output_type": "error",
     "traceback": [
      "\u001b[1;31m---------------------------------------------------------------------------\u001b[0m",
      "\u001b[1;31mIndexError\u001b[0m                                Traceback (most recent call last)",
      "Input \u001b[1;32mIn [37]\u001b[0m, in \u001b[0;36m<cell line: 1>\u001b[1;34m()\u001b[0m\n\u001b[1;32m----> 1\u001b[0m Multiplicar(\u001b[43mlista2\u001b[49m\u001b[43m[\u001b[49m\u001b[38;5;241;43m3\u001b[39;49m\u001b[43m]\u001b[49m)\n",
      "\u001b[1;31mIndexError\u001b[0m: list index out of range"
     ]
    }
   ],
   "source": [
    "Multiplicar(lista2[3])"
   ]
  },
  {
   "cell_type": "code",
   "execution_count": 39,
   "id": "cbb4507f",
   "metadata": {},
   "outputs": [
    {
     "data": {
      "text/plain": [
       "3"
      ]
     },
     "execution_count": 39,
     "metadata": {},
     "output_type": "execute_result"
    }
   ],
   "source": [
    "len(lista2)"
   ]
  },
  {
   "cell_type": "markdown",
   "id": "1b84ca43",
   "metadata": {},
   "source": [
    "# Ciclo, repetir procesos ejecutando funciones"
   ]
  },
  {
   "cell_type": "code",
   "execution_count": 41,
   "id": "e4777c7c",
   "metadata": {},
   "outputs": [
    {
     "name": "stdout",
     "output_type": "stream",
     "text": [
      "0 12.0 24.0\n",
      "1 3.6 7.2\n",
      "2 4 8\n"
     ]
    }
   ],
   "source": [
    "for i in range(len(lista2)):\n",
    "    print(i,lista2[i],Multiplicar(lista2[i]))"
   ]
  },
  {
   "cell_type": "code",
   "execution_count": 43,
   "id": "df943325",
   "metadata": {},
   "outputs": [
    {
     "data": {
      "text/plain": [
       "[24.0, 7.2, 8]"
      ]
     },
     "execution_count": 43,
     "metadata": {},
     "output_type": "execute_result"
    }
   ],
   "source": [
    "valores = list( map(lambda x: Multiplicar(x), lista2) )\n",
    "valores"
   ]
  },
  {
   "cell_type": "markdown",
   "id": "3c59a013",
   "metadata": {},
   "source": [
    "# Hacer las tablas de multiplicar del 1 al 10\n",
    "\n",
    "## Imprimir el valor"
   ]
  },
  {
   "cell_type": "code",
   "execution_count": 53,
   "id": "480a9c08",
   "metadata": {},
   "outputs": [
    {
     "name": "stdout",
     "output_type": "stream",
     "text": [
      "Tabla:  1\n",
      "1 1 1\n",
      "1 2 2\n",
      "1 3 3\n",
      "1 4 4\n",
      "1 5 5\n",
      "1 6 6\n",
      "1 7 7\n",
      "1 8 8\n",
      "1 9 9\n",
      "1 10 10\n",
      "Tabla:  2\n",
      "2 1 2\n",
      "2 2 4\n",
      "2 3 6\n",
      "2 4 8\n",
      "2 5 10\n",
      "2 6 12\n",
      "2 7 14\n",
      "2 8 16\n",
      "2 9 18\n",
      "2 10 20\n",
      "Tabla:  3\n",
      "3 1 3\n",
      "3 2 6\n",
      "3 3 9\n",
      "3 4 12\n",
      "3 5 15\n",
      "3 6 18\n",
      "3 7 21\n",
      "3 8 24\n",
      "3 9 27\n",
      "3 10 30\n",
      "Tabla:  4\n",
      "4 1 4\n",
      "4 2 8\n",
      "4 3 12\n",
      "4 4 16\n",
      "4 5 20\n",
      "4 6 24\n",
      "4 7 28\n",
      "4 8 32\n",
      "4 9 36\n",
      "4 10 40\n",
      "Tabla:  5\n",
      "5 1 5\n",
      "5 2 10\n",
      "5 3 15\n",
      "5 4 20\n",
      "5 5 25\n",
      "5 6 30\n",
      "5 7 35\n",
      "5 8 40\n",
      "5 9 45\n",
      "5 10 50\n",
      "Tabla:  6\n",
      "6 1 6\n",
      "6 2 12\n",
      "6 3 18\n",
      "6 4 24\n",
      "6 5 30\n",
      "6 6 36\n",
      "6 7 42\n",
      "6 8 48\n",
      "6 9 54\n",
      "6 10 60\n",
      "Tabla:  7\n",
      "7 1 7\n",
      "7 2 14\n",
      "7 3 21\n",
      "7 4 28\n",
      "7 5 35\n",
      "7 6 42\n",
      "7 7 49\n",
      "7 8 56\n",
      "7 9 63\n",
      "7 10 70\n",
      "Tabla:  8\n",
      "8 1 8\n",
      "8 2 16\n",
      "8 3 24\n",
      "8 4 32\n",
      "8 5 40\n",
      "8 6 48\n",
      "8 7 56\n",
      "8 8 64\n",
      "8 9 72\n",
      "8 10 80\n",
      "Tabla:  9\n",
      "9 1 9\n",
      "9 2 18\n",
      "9 3 27\n",
      "9 4 36\n",
      "9 5 45\n",
      "9 6 54\n",
      "9 7 63\n",
      "9 8 72\n",
      "9 9 81\n",
      "9 10 90\n",
      "Tabla:  10\n",
      "10 1 10\n",
      "10 2 20\n",
      "10 3 30\n",
      "10 4 40\n",
      "10 5 50\n",
      "10 6 60\n",
      "10 7 70\n",
      "10 8 80\n",
      "10 9 90\n",
      "10 10 100\n"
     ]
    }
   ],
   "source": [
    "for i in range(1,11):\n",
    "    print('Tabla: ',i)\n",
    "    for j in range(1,11):\n",
    "        print(i,j,i*j)"
   ]
  },
  {
   "cell_type": "code",
   "execution_count": 55,
   "id": "63aeb278",
   "metadata": {},
   "outputs": [],
   "source": [
    "# Dominio\n",
    "_x = [1,2,3,4,5,6,7,8,9,10]\n",
    "y = list( map(lambda x: Multiplicar(x), _x) )"
   ]
  },
  {
   "cell_type": "code",
   "execution_count": 56,
   "id": "59f8c0d3",
   "metadata": {},
   "outputs": [
    {
     "data": {
      "text/plain": [
       "[2, 4, 6, 8, 10, 12, 14, 16, 18, 20]"
      ]
     },
     "execution_count": 56,
     "metadata": {},
     "output_type": "execute_result"
    }
   ],
   "source": [
    "y"
   ]
  },
  {
   "cell_type": "code",
   "execution_count": 74,
   "id": "d5f30c19",
   "metadata": {},
   "outputs": [],
   "source": [
    "y1 = list( map(lambda x: x*x, _x) )"
   ]
  },
  {
   "cell_type": "code",
   "execution_count": 76,
   "id": "ab8ec476",
   "metadata": {},
   "outputs": [
    {
     "data": {
      "text/plain": [
       "<matplotlib.legend.Legend at 0x29221a568b0>"
      ]
     },
     "execution_count": 76,
     "metadata": {},
     "output_type": "execute_result"
    },
    {
     "data": {
      "image/png": "[encoded data removed]",
      "text/plain": [
       "<Figure size 432x288 with 1 Axes>"
      ]
     },
     "metadata": {
      "needs_background": "light"
     },
     "output_type": "display_data"
    }
   ],
   "source": [
    "plt.plot(_x,y)\n",
    "plt.scatter(_x,y,color='r',label=r'$f(x)=2x$')\n",
    "plt.scatter(_x,y1,color='b',label=r'$f(x)=x^{2}$')\n",
    "plt.title('Función multiplicar')\n",
    "plt.xlabel(r'$x$',fontsize=15)\n",
    "plt.ylabel(r'$f(x)$',fontsize=15)\n",
    "plt.legend(loc='upper center', bbox_to_anchor=(0.4,0.8), frameon=False, fontsize=15)"
   ]
  },
  {
   "cell_type": "code",
   "execution_count": null,
   "id": "bb1dcf48",
   "metadata": {},
   "outputs": [],
   "source": []
  }
 ],
 "metadata": {
  "kernelspec": {
   "display_name": "Python 3 (ipykernel)",
   "language": "python",
   "name": "python3"
  },
  "language_info": {
   "codemirror_mode": {
    "name": "ipython",
    "version": 3
   },
   "file_extension": ".py",
   "mimetype": "text/x-python",
   "name": "python",
   "nbconvert_exporter": "python",
   "pygments_lexer": "ipython3",
   "version": "3.9.12"
  }
 },
 "nbformat": 4,
 "nbformat_minor": 5
}
