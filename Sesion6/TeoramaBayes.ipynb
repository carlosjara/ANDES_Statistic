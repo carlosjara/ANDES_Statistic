{
 "cells": [
  {
   "cell_type": "code",
   "execution_count": 1,
   "id": "2cf43469",
   "metadata": {},
   "outputs": [],
   "source": [
    "import numpy as np\n",
    "import matplotlib.pyplot as plt"
   ]
  },
  {
   "cell_type": "markdown",
   "id": "9fcccca1",
   "metadata": {},
   "source": [
    "# Caso 1\n",
    "\n",
    "## El 85% de los pacientes con cancer de pultmon son fumadores\n",
    "### F = Fumador -  C = Cancer Pulmon\n",
    "\n",
    "$$ P(F/C) = 0.85 $$\n",
    "\n",
    "\n",
    "$$ P(C/F) = \\frac{P(F/C)P(C)}{P(F)} $$\n",
    "\n",
    "### Tasa de prevalencia de fumar\n",
    "P(F) = 0.2\n",
    "\n",
    "### Tasa de prevalencia de tener cancer\n",
    "\n",
    "P(C) = 0.001"
   ]
  },
  {
   "cell_type": "code",
   "execution_count": 9,
   "id": "01e9a25d",
   "metadata": {},
   "outputs": [],
   "source": [
    "PF = 0.2\n",
    "PC = 0.001\n",
    "PFC = 0.85"
   ]
  },
  {
   "cell_type": "code",
   "execution_count": 10,
   "id": "1a68a8f7",
   "metadata": {},
   "outputs": [
    {
     "data": {
      "text/plain": [
       "0.0042499999999999994"
      ]
     },
     "execution_count": 10,
     "metadata": {},
     "output_type": "execute_result"
    }
   ],
   "source": [
    "PCF = PFC*PC/PF\n",
    "PCF"
   ]
  },
  {
   "cell_type": "code",
   "execution_count": 11,
   "id": "76a2268d",
   "metadata": {},
   "outputs": [
    {
     "data": {
      "text/plain": [
       "235.29411764705887"
      ]
     },
     "execution_count": 11,
     "metadata": {},
     "output_type": "execute_result"
    }
   ],
   "source": [
    "1/PCF # de de cada cuantas personas que fuman tienen cancer"
   ]
  },
  {
   "cell_type": "markdown",
   "id": "cc684a74",
   "metadata": {},
   "source": [
    "## Cual es la probabilidad de tener cancer si no fumo"
   ]
  },
  {
   "cell_type": "code",
   "execution_count": 12,
   "id": "04104fc6",
   "metadata": {},
   "outputs": [
    {
     "data": {
      "text/plain": [
       "0.0001875"
      ]
     },
     "execution_count": 12,
     "metadata": {},
     "output_type": "execute_result"
    }
   ],
   "source": [
    "PCNF = (1-PFC)*PC/(1-PF)\n",
    "PCNF"
   ]
  },
  {
   "cell_type": "code",
   "execution_count": 13,
   "id": "a1ed99fc",
   "metadata": {},
   "outputs": [
    {
     "data": {
      "text/plain": [
       "5333.333333333333"
      ]
     },
     "execution_count": 13,
     "metadata": {},
     "output_type": "execute_result"
    }
   ],
   "source": [
    "1/PCNF"
   ]
  },
  {
   "cell_type": "code",
   "execution_count": 16,
   "id": "074db591",
   "metadata": {},
   "outputs": [
    {
     "data": {
      "text/plain": [
       "22.666666666666664"
      ]
     },
     "execution_count": 16,
     "metadata": {},
     "output_type": "execute_result"
    }
   ],
   "source": [
    "PCF/PCNF # 22 veces mas propenso a adquirir cancer si tengo el habito de fumar"
   ]
  },
  {
   "cell_type": "markdown",
   "id": "ba1f5e25",
   "metadata": {},
   "source": [
    "# Caso 2\n",
    "\n",
    "### A = El aparato diagnostica VIH\n",
    "### B = La persona efectivamente tiene VIH\n",
    "\n",
    "#### Prueba con persona que saben que tienen VIH\n",
    "#### Prueba con personas que saben que NO tienen VIH\n",
    "\n",
    "$$ P(A/B) = 0.99 $$ \n",
    "$$ P(A/B^{c}) = 0.01$$ \n",
    "\n",
    "$$ P(B/A) = \\frac{P(A/B)P(B)}{P(A)} = \\frac{P(A/B)P(B)}{\\sum_{k}P(A/B_{k})P(B_{k})} $$\n",
    "##### Si el aparato diagnostica que si - cual es la probabilidad realmente tenga VIH"
   ]
  },
  {
   "cell_type": "code",
   "execution_count": 17,
   "id": "c81e93d3",
   "metadata": {},
   "outputs": [],
   "source": [
    "def Posterior(p):\n",
    "    PAB = 0.99\n",
    "    PABC = 0.01\n",
    "    \n",
    "    return (PAB*p)/( PAB*p + PABC*(1-p) )"
   ]
  },
  {
   "cell_type": "code",
   "execution_count": 18,
   "id": "4dd3b834",
   "metadata": {},
   "outputs": [],
   "source": [
    "p = np.linspace(0,1,100)\n",
    "Pos = Posterior(p)"
   ]
  },
  {
   "cell_type": "code",
   "execution_count": 19,
   "id": "264ab16b",
   "metadata": {},
   "outputs": [
    {
     "data": {
      "text/plain": [
       "[<matplotlib.lines.Line2D at 0x1b3e720b0a0>]"
      ]
     },
     "execution_count": 19,
     "metadata": {},
     "output_type": "execute_result"
    },
    {
     "data": {
      "image/png": "[encoded data removed]",
      "text/plain": [
       "<Figure size 640x480 with 1 Axes>"
      ]
     },
     "metadata": {},
     "output_type": "display_data"
    }
   ],
   "source": [
    "plt.plot(p,Pos)"
   ]
  },
  {
   "cell_type": "code",
   "execution_count": 21,
   "id": "543d904d",
   "metadata": {},
   "outputs": [
    {
     "data": {
      "text/plain": [
       "0.9611650485436893"
      ]
     },
     "execution_count": 21,
     "metadata": {},
     "output_type": "execute_result"
    }
   ],
   "source": [
    "Posterior(0.2)"
   ]
  },
  {
   "cell_type": "code",
   "execution_count": 22,
   "id": "eb550c74",
   "metadata": {},
   "outputs": [],
   "source": [
    "# En colobmia menos de una persona de cada 100 vive con VIH\n",
    "p = 0.0059"
   ]
  },
  {
   "cell_type": "code",
   "execution_count": 25,
   "id": "8f103cdb",
   "metadata": {},
   "outputs": [
    {
     "data": {
      "text/plain": [
       "0.3701051831200101"
      ]
     },
     "execution_count": 25,
     "metadata": {},
     "output_type": "execute_result"
    }
   ],
   "source": [
    "Posterior(p) # probabilidad de estar realmente\n",
    "#enfermo dado que la herramienta diga que si"
   ]
  },
  {
   "cell_type": "code",
   "execution_count": null,
   "id": "f1a7a078",
   "metadata": {},
   "outputs": [],
   "source": []
  }
 ],
 "metadata": {
  "kernelspec": {
   "display_name": "Python 3 (ipykernel)",
   "language": "python",
   "name": "python3"
  },
  "language_info": {
   "codemirror_mode": {
    "name": "ipython",
    "version": 3
   },
   "file_extension": ".py",
   "mimetype": "text/x-python",
   "name": "python",
   "nbconvert_exporter": "python",
   "pygments_lexer": "ipython3",
   "version": "3.10.9"
  }
 },
 "nbformat": 4,
 "nbformat_minor": 5
}
