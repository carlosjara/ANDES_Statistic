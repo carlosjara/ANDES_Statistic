{
 "cells": [
  {
   "cell_type": "code",
   "execution_count": 2,
   "id": "af846d48",
   "metadata": {},
   "outputs": [],
   "source": [
    "import numpy as np\n",
    "import pandas as pd"
   ]
  },
  {
   "cell_type": "code",
   "execution_count": 3,
   "id": "6ff1c64b",
   "metadata": {},
   "outputs": [],
   "source": [
    "l = [ 0,-1,-3,-5,5,7,4,10,12,15,20,19,50,55,60,45,36,75,18,35,23,56,87,4,-3,-1,-10,-5]"
   ]
  },
  {
   "cell_type": "code",
   "execution_count": 5,
   "id": "e64157b7",
   "metadata": {},
   "outputs": [
    {
     "data": {
      "text/plain": [
       "28"
      ]
     },
     "execution_count": 5,
     "metadata": {},
     "output_type": "execute_result"
    }
   ],
   "source": [
    "N = len (l)\n",
    "N"
   ]
  },
  {
   "cell_type": "code",
   "execution_count": 46,
   "id": "f5031751",
   "metadata": {},
   "outputs": [],
   "source": [
    "# Para tomar sistematicamente\n",
    "n=6\n",
    "#valor de intervalo de muestreo\n",
    "k = int(N / n) #tomar el menor entero"
   ]
  },
  {
   "cell_type": "code",
   "execution_count": 47,
   "id": "b39f1dbd",
   "metadata": {},
   "outputs": [
    {
     "data": {
      "text/plain": [
       "array([ 87,  75,  60,  56,  55,  50,  45,  36,  35,  23,  20,  19,  18,\n",
       "        15,  12,  10,   7,   5,   4,   4,   0,  -1,  -1,  -3,  -3,  -5,\n",
       "        -5, -10])"
      ]
     },
     "execution_count": 47,
     "metadata": {},
     "output_type": "execute_result"
    }
   ],
   "source": [
    "# ordenar la problacion (algoritmo de ordenamiento)\n",
    "sort_l = np.sort(l)[::-1] #Doble slicing es para max to min\n",
    "sort_l"
   ]
  },
  {
   "cell_type": "code",
   "execution_count": 53,
   "id": "dc8b0805",
   "metadata": {},
   "outputs": [],
   "source": [
    "i0 = np.random.randint(k)"
   ]
  },
  {
   "cell_type": "code",
   "execution_count": 54,
   "id": "491bf6ce",
   "metadata": {},
   "outputs": [],
   "source": [
    "s = np.zeros(n)\n",
    "s[0] = sort_l[i0]"
   ]
  },
  {
   "cell_type": "code",
   "execution_count": 55,
   "id": "5c6bad53",
   "metadata": {},
   "outputs": [],
   "source": [
    "for i in range(1,n):\n",
    "    i0 += k\n",
    "    s[i] = sort_l[i0]"
   ]
  },
  {
   "cell_type": "code",
   "execution_count": 59,
   "id": "fefec41f",
   "metadata": {},
   "outputs": [
    {
     "name": "stdout",
     "output_type": "stream",
     "text": [
      " Nueva Lista Sistematica:  [60. 45. 20. 12.  4. -1.]\n"
     ]
    }
   ],
   "source": [
    "print(\" Nueva Lista Sistematica: \", s)"
   ]
  },
  {
   "cell_type": "code",
   "execution_count": null,
   "id": "9ea23b87",
   "metadata": {},
   "outputs": [],
   "source": []
  }
 ],
 "metadata": {
  "kernelspec": {
   "display_name": "Python 3 (ipykernel)",
   "language": "python",
   "name": "python3"
  },
  "language_info": {
   "codemirror_mode": {
    "name": "ipython",
    "version": 3
   },
   "file_extension": ".py",
   "mimetype": "text/x-python",
   "name": "python",
   "nbconvert_exporter": "python",
   "pygments_lexer": "ipython3",
   "version": "3.10.9"
  },
  "widgets": {
   "application/vnd.jupyter.widget-state+json": {
    "state": {},
    "version_major": 2,
    "version_minor": 0
   }
  }
 },
 "nbformat": 4,
 "nbformat_minor": 5
}
