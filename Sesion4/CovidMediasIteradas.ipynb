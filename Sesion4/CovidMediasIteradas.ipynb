{
 "cells": [
  {
   "cell_type": "code",
   "execution_count": 4,
   "id": "a0faabdd",
   "metadata": {},
   "outputs": [],
   "source": [
    "import numpy as np\n",
    "import matplotlib.pyplot as plt\n",
    "import pandas as pd\n",
    "import seaborn as sns"
   ]
  },
  {
   "cell_type": "code",
   "execution_count": 5,
   "id": "a314e78b",
   "metadata": {},
   "outputs": [],
   "source": [
    "#Medias Iteradas"
   ]
  },
  {
   "cell_type": "code",
   "execution_count": 8,
   "id": "8f71422f",
   "metadata": {},
   "outputs": [],
   "source": [
    "#df = pd.read_csv('Database/CovidSample.csv') #separador mal seleccionado\n",
    "df = pd.read_csv('Database/CovidSample.csv', sep=';')"
   ]
  },
  {
   "cell_type": "code",
   "execution_count": 85,
   "id": "6b3f80b0",
   "metadata": {},
   "outputs": [
    {
     "data": {
      "text/html": [
       "<div>\n",
       "<style scoped>\n",
       "    .dataframe tbody tr th:only-of-type {\n",
       "        vertical-align: middle;\n",
       "    }\n",
       "\n",
       "    .dataframe tbody tr th {\n",
       "        vertical-align: top;\n",
       "    }\n",
       "\n",
       "    .dataframe thead th {\n",
       "        text-align: right;\n",
       "    }\n",
       "</style>\n",
       "<table border=\"1\" class=\"dataframe\">\n",
       "  <thead>\n",
       "    <tr style=\"text-align: right;\">\n",
       "      <th></th>\n",
       "      <th>CASO</th>\n",
       "      <th>FECHA_DE_INICIO_DE_SINTOMAS</th>\n",
       "      <th>FECHA_DIAGNOSTICO</th>\n",
       "      <th>CIUDAD</th>\n",
       "      <th>LOCALIDAD_ASIS</th>\n",
       "      <th>EDAD</th>\n",
       "      <th>UNI_MED</th>\n",
       "      <th>SEXO</th>\n",
       "      <th>FUENTE_O_TIPO_DE_CONTAGIO</th>\n",
       "      <th>UBICACION</th>\n",
       "      <th>ESTADO</th>\n",
       "    </tr>\n",
       "  </thead>\n",
       "  <tbody>\n",
       "    <tr>\n",
       "      <th>0</th>\n",
       "      <td>1</td>\n",
       "      <td>2020-02-26</td>\n",
       "      <td>2020-03-06</td>\n",
       "      <td>Bogotá</td>\n",
       "      <td>Usaquén</td>\n",
       "      <td>19</td>\n",
       "      <td>1</td>\n",
       "      <td>F</td>\n",
       "      <td>Importado</td>\n",
       "      <td>Casa</td>\n",
       "      <td>Recuperado</td>\n",
       "    </tr>\n",
       "    <tr>\n",
       "      <th>1</th>\n",
       "      <td>2</td>\n",
       "      <td>2020-03-04</td>\n",
       "      <td>2020-03-10</td>\n",
       "      <td>Bogotá</td>\n",
       "      <td>Engativá</td>\n",
       "      <td>22</td>\n",
       "      <td>1</td>\n",
       "      <td>F</td>\n",
       "      <td>Importado</td>\n",
       "      <td>Casa</td>\n",
       "      <td>Recuperado</td>\n",
       "    </tr>\n",
       "    <tr>\n",
       "      <th>2</th>\n",
       "      <td>3</td>\n",
       "      <td>2020-03-07</td>\n",
       "      <td>2020-03-10</td>\n",
       "      <td>Bogotá</td>\n",
       "      <td>Engativá</td>\n",
       "      <td>28</td>\n",
       "      <td>1</td>\n",
       "      <td>F</td>\n",
       "      <td>Importado</td>\n",
       "      <td>Casa</td>\n",
       "      <td>Recuperado</td>\n",
       "    </tr>\n",
       "    <tr>\n",
       "      <th>3</th>\n",
       "      <td>4</td>\n",
       "      <td>2020-03-06</td>\n",
       "      <td>2020-03-12</td>\n",
       "      <td>Bogotá</td>\n",
       "      <td>Fontibón</td>\n",
       "      <td>36</td>\n",
       "      <td>1</td>\n",
       "      <td>F</td>\n",
       "      <td>Importado</td>\n",
       "      <td>Casa</td>\n",
       "      <td>Recuperado</td>\n",
       "    </tr>\n",
       "    <tr>\n",
       "      <th>4</th>\n",
       "      <td>5</td>\n",
       "      <td>2020-03-06</td>\n",
       "      <td>2020-03-12</td>\n",
       "      <td>Bogotá</td>\n",
       "      <td>Kennedy</td>\n",
       "      <td>42</td>\n",
       "      <td>1</td>\n",
       "      <td>F</td>\n",
       "      <td>Importado</td>\n",
       "      <td>Casa</td>\n",
       "      <td>Recuperado</td>\n",
       "    </tr>\n",
       "    <tr>\n",
       "      <th>...</th>\n",
       "      <td>...</td>\n",
       "      <td>...</td>\n",
       "      <td>...</td>\n",
       "      <td>...</td>\n",
       "      <td>...</td>\n",
       "      <td>...</td>\n",
       "      <td>...</td>\n",
       "      <td>...</td>\n",
       "      <td>...</td>\n",
       "      <td>...</td>\n",
       "      <td>...</td>\n",
       "    </tr>\n",
       "    <tr>\n",
       "      <th>9994</th>\n",
       "      <td>9995</td>\n",
       "      <td>2020-05-29</td>\n",
       "      <td>2020-05-31</td>\n",
       "      <td>Bogotá</td>\n",
       "      <td>Kennedy</td>\n",
       "      <td>32</td>\n",
       "      <td>1</td>\n",
       "      <td>F</td>\n",
       "      <td>Relacionado</td>\n",
       "      <td>Casa</td>\n",
       "      <td>Recuperado</td>\n",
       "    </tr>\n",
       "    <tr>\n",
       "      <th>9995</th>\n",
       "      <td>9996</td>\n",
       "      <td>2020-05-28</td>\n",
       "      <td>2020-05-31</td>\n",
       "      <td>Bogotá</td>\n",
       "      <td>Usaquén</td>\n",
       "      <td>70</td>\n",
       "      <td>1</td>\n",
       "      <td>F</td>\n",
       "      <td>En estudio</td>\n",
       "      <td>Casa</td>\n",
       "      <td>Recuperado</td>\n",
       "    </tr>\n",
       "    <tr>\n",
       "      <th>9996</th>\n",
       "      <td>9997</td>\n",
       "      <td>2020-05-27</td>\n",
       "      <td>2020-05-31</td>\n",
       "      <td>Bogotá</td>\n",
       "      <td>Suba</td>\n",
       "      <td>32</td>\n",
       "      <td>1</td>\n",
       "      <td>F</td>\n",
       "      <td>Relacionado</td>\n",
       "      <td>Casa</td>\n",
       "      <td>Recuperado</td>\n",
       "    </tr>\n",
       "    <tr>\n",
       "      <th>9997</th>\n",
       "      <td>9998</td>\n",
       "      <td>2020-05-27</td>\n",
       "      <td>2020-05-31</td>\n",
       "      <td>Bogotá</td>\n",
       "      <td>Suba</td>\n",
       "      <td>2</td>\n",
       "      <td>1</td>\n",
       "      <td>M</td>\n",
       "      <td>Relacionado</td>\n",
       "      <td>Casa</td>\n",
       "      <td>Recuperado</td>\n",
       "    </tr>\n",
       "    <tr>\n",
       "      <th>9998</th>\n",
       "      <td>9999</td>\n",
       "      <td>2020-05-25</td>\n",
       "      <td>2020-05-31</td>\n",
       "      <td>Bogotá</td>\n",
       "      <td>Suba</td>\n",
       "      <td>32</td>\n",
       "      <td>1</td>\n",
       "      <td>F</td>\n",
       "      <td>Relacionado</td>\n",
       "      <td>Casa</td>\n",
       "      <td>Recuperado</td>\n",
       "    </tr>\n",
       "  </tbody>\n",
       "</table>\n",
       "<p>9999 rows × 11 columns</p>\n",
       "</div>"
      ],
      "text/plain": [
       "      CASO FECHA_DE_INICIO_DE_SINTOMAS FECHA_DIAGNOSTICO  CIUDAD  \\\n",
       "0        1                  2020-02-26        2020-03-06  Bogotá   \n",
       "1        2                  2020-03-04        2020-03-10  Bogotá   \n",
       "2        3                  2020-03-07        2020-03-10  Bogotá   \n",
       "3        4                  2020-03-06        2020-03-12  Bogotá   \n",
       "4        5                  2020-03-06        2020-03-12  Bogotá   \n",
       "...    ...                         ...               ...     ...   \n",
       "9994  9995                  2020-05-29        2020-05-31  Bogotá   \n",
       "9995  9996                  2020-05-28        2020-05-31  Bogotá   \n",
       "9996  9997                  2020-05-27        2020-05-31  Bogotá   \n",
       "9997  9998                  2020-05-27        2020-05-31  Bogotá   \n",
       "9998  9999                  2020-05-25        2020-05-31  Bogotá   \n",
       "\n",
       "     LOCALIDAD_ASIS  EDAD  UNI_MED SEXO FUENTE_O_TIPO_DE_CONTAGIO UBICACION  \\\n",
       "0           Usaquén    19        1    F                 Importado      Casa   \n",
       "1          Engativá    22        1    F                 Importado      Casa   \n",
       "2          Engativá    28        1    F                 Importado      Casa   \n",
       "3          Fontibón    36        1    F                 Importado      Casa   \n",
       "4           Kennedy    42        1    F                 Importado      Casa   \n",
       "...             ...   ...      ...  ...                       ...       ...   \n",
       "9994        Kennedy    32        1    F               Relacionado      Casa   \n",
       "9995        Usaquén    70        1    F                En estudio      Casa   \n",
       "9996           Suba    32        1    F               Relacionado      Casa   \n",
       "9997           Suba     2        1    M               Relacionado      Casa   \n",
       "9998           Suba    32        1    F               Relacionado      Casa   \n",
       "\n",
       "          ESTADO  \n",
       "0     Recuperado  \n",
       "1     Recuperado  \n",
       "2     Recuperado  \n",
       "3     Recuperado  \n",
       "4     Recuperado  \n",
       "...          ...  \n",
       "9994  Recuperado  \n",
       "9995  Recuperado  \n",
       "9996  Recuperado  \n",
       "9997  Recuperado  \n",
       "9998  Recuperado  \n",
       "\n",
       "[9999 rows x 11 columns]"
      ]
     },
     "execution_count": 85,
     "metadata": {},
     "output_type": "execute_result"
    }
   ],
   "source": [
    "df"
   ]
  },
  {
   "cell_type": "code",
   "execution_count": 86,
   "id": "88cc3727",
   "metadata": {
    "collapsed": true
   },
   "outputs": [
    {
     "data": {
      "text/html": [
       "<div>\n",
       "<style scoped>\n",
       "    .dataframe tbody tr th:only-of-type {\n",
       "        vertical-align: middle;\n",
       "    }\n",
       "\n",
       "    .dataframe tbody tr th {\n",
       "        vertical-align: top;\n",
       "    }\n",
       "\n",
       "    .dataframe thead th {\n",
       "        text-align: right;\n",
       "    }\n",
       "</style>\n",
       "<table border=\"1\" class=\"dataframe\">\n",
       "  <thead>\n",
       "    <tr style=\"text-align: right;\">\n",
       "      <th></th>\n",
       "      <th>CASO</th>\n",
       "      <th>EDAD</th>\n",
       "      <th>UNI_MED</th>\n",
       "    </tr>\n",
       "  </thead>\n",
       "  <tbody>\n",
       "    <tr>\n",
       "      <th>count</th>\n",
       "      <td>9999.000000</td>\n",
       "      <td>9999.000000</td>\n",
       "      <td>9999.000000</td>\n",
       "    </tr>\n",
       "    <tr>\n",
       "      <th>mean</th>\n",
       "      <td>5000.000000</td>\n",
       "      <td>38.730573</td>\n",
       "      <td>1.009101</td>\n",
       "    </tr>\n",
       "    <tr>\n",
       "      <th>std</th>\n",
       "      <td>2886.607005</td>\n",
       "      <td>18.495692</td>\n",
       "      <td>0.101090</td>\n",
       "    </tr>\n",
       "    <tr>\n",
       "      <th>min</th>\n",
       "      <td>1.000000</td>\n",
       "      <td>1.000000</td>\n",
       "      <td>1.000000</td>\n",
       "    </tr>\n",
       "    <tr>\n",
       "      <th>25%</th>\n",
       "      <td>2500.500000</td>\n",
       "      <td>26.000000</td>\n",
       "      <td>1.000000</td>\n",
       "    </tr>\n",
       "    <tr>\n",
       "      <th>50%</th>\n",
       "      <td>5000.000000</td>\n",
       "      <td>37.000000</td>\n",
       "      <td>1.000000</td>\n",
       "    </tr>\n",
       "    <tr>\n",
       "      <th>75%</th>\n",
       "      <td>7499.500000</td>\n",
       "      <td>51.000000</td>\n",
       "      <td>1.000000</td>\n",
       "    </tr>\n",
       "    <tr>\n",
       "      <th>max</th>\n",
       "      <td>9999.000000</td>\n",
       "      <td>103.000000</td>\n",
       "      <td>3.000000</td>\n",
       "    </tr>\n",
       "  </tbody>\n",
       "</table>\n",
       "</div>"
      ],
      "text/plain": [
       "              CASO         EDAD      UNI_MED\n",
       "count  9999.000000  9999.000000  9999.000000\n",
       "mean   5000.000000    38.730573     1.009101\n",
       "std    2886.607005    18.495692     0.101090\n",
       "min       1.000000     1.000000     1.000000\n",
       "25%    2500.500000    26.000000     1.000000\n",
       "50%    5000.000000    37.000000     1.000000\n",
       "75%    7499.500000    51.000000     1.000000\n",
       "max    9999.000000   103.000000     3.000000"
      ]
     },
     "execution_count": 86,
     "metadata": {},
     "output_type": "execute_result"
    }
   ],
   "source": [
    "df.describe() #variables numericas"
   ]
  },
  {
   "cell_type": "code",
   "execution_count": 87,
   "id": "10259433",
   "metadata": {
    "collapsed": true
   },
   "outputs": [
    {
     "name": "stdout",
     "output_type": "stream",
     "text": [
      "<class 'pandas.core.frame.DataFrame'>\n",
      "RangeIndex: 9999 entries, 0 to 9998\n",
      "Data columns (total 11 columns):\n",
      " #   Column                       Non-Null Count  Dtype \n",
      "---  ------                       --------------  ----- \n",
      " 0   CASO                         9999 non-null   int64 \n",
      " 1   FECHA_DE_INICIO_DE_SINTOMAS  9833 non-null   object\n",
      " 2   FECHA_DIAGNOSTICO            9999 non-null   object\n",
      " 3   CIUDAD                       9999 non-null   object\n",
      " 4   LOCALIDAD_ASIS               9999 non-null   object\n",
      " 5   EDAD                         9999 non-null   int64 \n",
      " 6   UNI_MED                      9999 non-null   int64 \n",
      " 7   SEXO                         9999 non-null   object\n",
      " 8   FUENTE_O_TIPO_DE_CONTAGIO    9999 non-null   object\n",
      " 9   UBICACION                    9999 non-null   object\n",
      " 10  ESTADO                       9999 non-null   object\n",
      "dtypes: int64(3), object(8)\n",
      "memory usage: 859.4+ KB\n"
     ]
    }
   ],
   "source": [
    "df.info() #valores no asignados para hacer limpieza (los mas pequeños contra el total)"
   ]
  },
  {
   "cell_type": "code",
   "execution_count": 18,
   "id": "05b2978c",
   "metadata": {},
   "outputs": [],
   "source": [
    "#N = df.value_counts(df.CASO) #Contar para dar caraterizacion"
   ]
  },
  {
   "cell_type": "code",
   "execution_count": 88,
   "id": "c132dff5",
   "metadata": {},
   "outputs": [],
   "source": [
    "#Para obtener el valor total usamos shape\n",
    "N = df.shape[0] #Poblacion"
   ]
  },
  {
   "cell_type": "code",
   "execution_count": 89,
   "id": "3f0ade7c",
   "metadata": {
    "collapsed": true
   },
   "outputs": [
    {
     "data": {
      "text/html": [
       "<div>\n",
       "<style scoped>\n",
       "    .dataframe tbody tr th:only-of-type {\n",
       "        vertical-align: middle;\n",
       "    }\n",
       "\n",
       "    .dataframe tbody tr th {\n",
       "        vertical-align: top;\n",
       "    }\n",
       "\n",
       "    .dataframe thead th {\n",
       "        text-align: right;\n",
       "    }\n",
       "</style>\n",
       "<table border=\"1\" class=\"dataframe\">\n",
       "  <thead>\n",
       "    <tr style=\"text-align: right;\">\n",
       "      <th></th>\n",
       "      <th>CASO</th>\n",
       "      <th>FECHA_DE_INICIO_DE_SINTOMAS</th>\n",
       "      <th>FECHA_DIAGNOSTICO</th>\n",
       "      <th>CIUDAD</th>\n",
       "      <th>LOCALIDAD_ASIS</th>\n",
       "      <th>EDAD</th>\n",
       "      <th>UNI_MED</th>\n",
       "      <th>SEXO</th>\n",
       "      <th>FUENTE_O_TIPO_DE_CONTAGIO</th>\n",
       "      <th>UBICACION</th>\n",
       "      <th>ESTADO</th>\n",
       "    </tr>\n",
       "  </thead>\n",
       "  <tbody>\n",
       "    <tr>\n",
       "      <th>0</th>\n",
       "      <td>1</td>\n",
       "      <td>2020-02-26</td>\n",
       "      <td>2020-03-06</td>\n",
       "      <td>Bogotá</td>\n",
       "      <td>Usaquén</td>\n",
       "      <td>19</td>\n",
       "      <td>1</td>\n",
       "      <td>F</td>\n",
       "      <td>Importado</td>\n",
       "      <td>Casa</td>\n",
       "      <td>Recuperado</td>\n",
       "    </tr>\n",
       "    <tr>\n",
       "      <th>1</th>\n",
       "      <td>2</td>\n",
       "      <td>2020-03-04</td>\n",
       "      <td>2020-03-10</td>\n",
       "      <td>Bogotá</td>\n",
       "      <td>Engativá</td>\n",
       "      <td>22</td>\n",
       "      <td>1</td>\n",
       "      <td>F</td>\n",
       "      <td>Importado</td>\n",
       "      <td>Casa</td>\n",
       "      <td>Recuperado</td>\n",
       "    </tr>\n",
       "    <tr>\n",
       "      <th>2</th>\n",
       "      <td>3</td>\n",
       "      <td>2020-03-07</td>\n",
       "      <td>2020-03-10</td>\n",
       "      <td>Bogotá</td>\n",
       "      <td>Engativá</td>\n",
       "      <td>28</td>\n",
       "      <td>1</td>\n",
       "      <td>F</td>\n",
       "      <td>Importado</td>\n",
       "      <td>Casa</td>\n",
       "      <td>Recuperado</td>\n",
       "    </tr>\n",
       "    <tr>\n",
       "      <th>3</th>\n",
       "      <td>4</td>\n",
       "      <td>2020-03-06</td>\n",
       "      <td>2020-03-12</td>\n",
       "      <td>Bogotá</td>\n",
       "      <td>Fontibón</td>\n",
       "      <td>36</td>\n",
       "      <td>1</td>\n",
       "      <td>F</td>\n",
       "      <td>Importado</td>\n",
       "      <td>Casa</td>\n",
       "      <td>Recuperado</td>\n",
       "    </tr>\n",
       "    <tr>\n",
       "      <th>4</th>\n",
       "      <td>5</td>\n",
       "      <td>2020-03-06</td>\n",
       "      <td>2020-03-12</td>\n",
       "      <td>Bogotá</td>\n",
       "      <td>Kennedy</td>\n",
       "      <td>42</td>\n",
       "      <td>1</td>\n",
       "      <td>F</td>\n",
       "      <td>Importado</td>\n",
       "      <td>Casa</td>\n",
       "      <td>Recuperado</td>\n",
       "    </tr>\n",
       "    <tr>\n",
       "      <th>5</th>\n",
       "      <td>6</td>\n",
       "      <td>2020-03-08</td>\n",
       "      <td>2020-03-13</td>\n",
       "      <td>Bogotá</td>\n",
       "      <td>Suba</td>\n",
       "      <td>61</td>\n",
       "      <td>1</td>\n",
       "      <td>F</td>\n",
       "      <td>Importado</td>\n",
       "      <td>Casa</td>\n",
       "      <td>Recuperado</td>\n",
       "    </tr>\n",
       "    <tr>\n",
       "      <th>6</th>\n",
       "      <td>7</td>\n",
       "      <td>2020-02-28</td>\n",
       "      <td>2020-03-13</td>\n",
       "      <td>Bogotá</td>\n",
       "      <td>Teusaquillo</td>\n",
       "      <td>73</td>\n",
       "      <td>1</td>\n",
       "      <td>F</td>\n",
       "      <td>Importado</td>\n",
       "      <td>Casa</td>\n",
       "      <td>Recuperado</td>\n",
       "    </tr>\n",
       "    <tr>\n",
       "      <th>7</th>\n",
       "      <td>8</td>\n",
       "      <td>2020-03-06</td>\n",
       "      <td>2020-03-13</td>\n",
       "      <td>Bogotá</td>\n",
       "      <td>Chapinero</td>\n",
       "      <td>54</td>\n",
       "      <td>1</td>\n",
       "      <td>M</td>\n",
       "      <td>Importado</td>\n",
       "      <td>Casa</td>\n",
       "      <td>Recuperado</td>\n",
       "    </tr>\n",
       "    <tr>\n",
       "      <th>8</th>\n",
       "      <td>9</td>\n",
       "      <td>2020-03-10</td>\n",
       "      <td>2020-03-13</td>\n",
       "      <td>Bogotá</td>\n",
       "      <td>Engativá</td>\n",
       "      <td>54</td>\n",
       "      <td>1</td>\n",
       "      <td>F</td>\n",
       "      <td>Relacionado</td>\n",
       "      <td>Casa</td>\n",
       "      <td>Recuperado</td>\n",
       "    </tr>\n",
       "    <tr>\n",
       "      <th>9</th>\n",
       "      <td>10</td>\n",
       "      <td>2020-03-08</td>\n",
       "      <td>2020-03-14</td>\n",
       "      <td>Bogotá</td>\n",
       "      <td>Fontibón</td>\n",
       "      <td>23</td>\n",
       "      <td>1</td>\n",
       "      <td>M</td>\n",
       "      <td>Relacionado</td>\n",
       "      <td>Casa</td>\n",
       "      <td>Recuperado</td>\n",
       "    </tr>\n",
       "  </tbody>\n",
       "</table>\n",
       "</div>"
      ],
      "text/plain": [
       "   CASO FECHA_DE_INICIO_DE_SINTOMAS FECHA_DIAGNOSTICO  CIUDAD LOCALIDAD_ASIS  \\\n",
       "0     1                  2020-02-26        2020-03-06  Bogotá        Usaquén   \n",
       "1     2                  2020-03-04        2020-03-10  Bogotá       Engativá   \n",
       "2     3                  2020-03-07        2020-03-10  Bogotá       Engativá   \n",
       "3     4                  2020-03-06        2020-03-12  Bogotá       Fontibón   \n",
       "4     5                  2020-03-06        2020-03-12  Bogotá        Kennedy   \n",
       "5     6                  2020-03-08        2020-03-13  Bogotá           Suba   \n",
       "6     7                  2020-02-28        2020-03-13  Bogotá    Teusaquillo   \n",
       "7     8                  2020-03-06        2020-03-13  Bogotá      Chapinero   \n",
       "8     9                  2020-03-10        2020-03-13  Bogotá       Engativá   \n",
       "9    10                  2020-03-08        2020-03-14  Bogotá       Fontibón   \n",
       "\n",
       "   EDAD  UNI_MED SEXO FUENTE_O_TIPO_DE_CONTAGIO UBICACION      ESTADO  \n",
       "0    19        1    F                 Importado      Casa  Recuperado  \n",
       "1    22        1    F                 Importado      Casa  Recuperado  \n",
       "2    28        1    F                 Importado      Casa  Recuperado  \n",
       "3    36        1    F                 Importado      Casa  Recuperado  \n",
       "4    42        1    F                 Importado      Casa  Recuperado  \n",
       "5    61        1    F                 Importado      Casa  Recuperado  \n",
       "6    73        1    F                 Importado      Casa  Recuperado  \n",
       "7    54        1    M                 Importado      Casa  Recuperado  \n",
       "8    54        1    F               Relacionado      Casa  Recuperado  \n",
       "9    23        1    M               Relacionado      Casa  Recuperado  "
      ]
     },
     "execution_count": 89,
     "metadata": {},
     "output_type": "execute_result"
    }
   ],
   "source": [
    "df.head(10) #ver los primeros 10 registros"
   ]
  },
  {
   "cell_type": "code",
   "execution_count": 90,
   "id": "ca820719",
   "metadata": {},
   "outputs": [],
   "source": [
    "# Limpieza de datos (Dejar solo las mujeres) con condiciones\n",
    "# Usamos mascaras"
   ]
  },
  {
   "cell_type": "code",
   "execution_count": 91,
   "id": "acbdb5fa",
   "metadata": {},
   "outputs": [
    {
     "data": {
      "text/plain": [
       "0        True\n",
       "1        True\n",
       "2        True\n",
       "3        True\n",
       "4        True\n",
       "        ...  \n",
       "9994     True\n",
       "9995     True\n",
       "9996     True\n",
       "9997    False\n",
       "9998     True\n",
       "Name: SEXO, Length: 9999, dtype: bool"
      ]
     },
     "execution_count": 91,
     "metadata": {},
     "output_type": "execute_result"
    }
   ],
   "source": [
    "maskF = df['SEXO'] == 'F' # Columna == VALOR CONDICIONAL\n",
    "maskF # responde a la condicion aplicada"
   ]
  },
  {
   "cell_type": "code",
   "execution_count": 92,
   "id": "02152238",
   "metadata": {},
   "outputs": [],
   "source": [
    "df1 = df[maskF]"
   ]
  },
  {
   "cell_type": "code",
   "execution_count": 93,
   "id": "9ec069bd",
   "metadata": {
    "collapsed": true
   },
   "outputs": [
    {
     "data": {
      "text/html": [
       "<div>\n",
       "<style scoped>\n",
       "    .dataframe tbody tr th:only-of-type {\n",
       "        vertical-align: middle;\n",
       "    }\n",
       "\n",
       "    .dataframe tbody tr th {\n",
       "        vertical-align: top;\n",
       "    }\n",
       "\n",
       "    .dataframe thead th {\n",
       "        text-align: right;\n",
       "    }\n",
       "</style>\n",
       "<table border=\"1\" class=\"dataframe\">\n",
       "  <thead>\n",
       "    <tr style=\"text-align: right;\">\n",
       "      <th></th>\n",
       "      <th>CASO</th>\n",
       "      <th>FECHA_DE_INICIO_DE_SINTOMAS</th>\n",
       "      <th>FECHA_DIAGNOSTICO</th>\n",
       "      <th>CIUDAD</th>\n",
       "      <th>LOCALIDAD_ASIS</th>\n",
       "      <th>EDAD</th>\n",
       "      <th>UNI_MED</th>\n",
       "      <th>SEXO</th>\n",
       "      <th>FUENTE_O_TIPO_DE_CONTAGIO</th>\n",
       "      <th>UBICACION</th>\n",
       "      <th>ESTADO</th>\n",
       "    </tr>\n",
       "  </thead>\n",
       "  <tbody>\n",
       "    <tr>\n",
       "      <th>0</th>\n",
       "      <td>1</td>\n",
       "      <td>2020-02-26</td>\n",
       "      <td>2020-03-06</td>\n",
       "      <td>Bogotá</td>\n",
       "      <td>Usaquén</td>\n",
       "      <td>19</td>\n",
       "      <td>1</td>\n",
       "      <td>F</td>\n",
       "      <td>Importado</td>\n",
       "      <td>Casa</td>\n",
       "      <td>Recuperado</td>\n",
       "    </tr>\n",
       "    <tr>\n",
       "      <th>1</th>\n",
       "      <td>2</td>\n",
       "      <td>2020-03-04</td>\n",
       "      <td>2020-03-10</td>\n",
       "      <td>Bogotá</td>\n",
       "      <td>Engativá</td>\n",
       "      <td>22</td>\n",
       "      <td>1</td>\n",
       "      <td>F</td>\n",
       "      <td>Importado</td>\n",
       "      <td>Casa</td>\n",
       "      <td>Recuperado</td>\n",
       "    </tr>\n",
       "    <tr>\n",
       "      <th>2</th>\n",
       "      <td>3</td>\n",
       "      <td>2020-03-07</td>\n",
       "      <td>2020-03-10</td>\n",
       "      <td>Bogotá</td>\n",
       "      <td>Engativá</td>\n",
       "      <td>28</td>\n",
       "      <td>1</td>\n",
       "      <td>F</td>\n",
       "      <td>Importado</td>\n",
       "      <td>Casa</td>\n",
       "      <td>Recuperado</td>\n",
       "    </tr>\n",
       "    <tr>\n",
       "      <th>3</th>\n",
       "      <td>4</td>\n",
       "      <td>2020-03-06</td>\n",
       "      <td>2020-03-12</td>\n",
       "      <td>Bogotá</td>\n",
       "      <td>Fontibón</td>\n",
       "      <td>36</td>\n",
       "      <td>1</td>\n",
       "      <td>F</td>\n",
       "      <td>Importado</td>\n",
       "      <td>Casa</td>\n",
       "      <td>Recuperado</td>\n",
       "    </tr>\n",
       "    <tr>\n",
       "      <th>4</th>\n",
       "      <td>5</td>\n",
       "      <td>2020-03-06</td>\n",
       "      <td>2020-03-12</td>\n",
       "      <td>Bogotá</td>\n",
       "      <td>Kennedy</td>\n",
       "      <td>42</td>\n",
       "      <td>1</td>\n",
       "      <td>F</td>\n",
       "      <td>Importado</td>\n",
       "      <td>Casa</td>\n",
       "      <td>Recuperado</td>\n",
       "    </tr>\n",
       "    <tr>\n",
       "      <th>...</th>\n",
       "      <td>...</td>\n",
       "      <td>...</td>\n",
       "      <td>...</td>\n",
       "      <td>...</td>\n",
       "      <td>...</td>\n",
       "      <td>...</td>\n",
       "      <td>...</td>\n",
       "      <td>...</td>\n",
       "      <td>...</td>\n",
       "      <td>...</td>\n",
       "      <td>...</td>\n",
       "    </tr>\n",
       "    <tr>\n",
       "      <th>9989</th>\n",
       "      <td>9990</td>\n",
       "      <td>2020-05-28</td>\n",
       "      <td>2020-05-31</td>\n",
       "      <td>Bogotá</td>\n",
       "      <td>Puente Aranda</td>\n",
       "      <td>22</td>\n",
       "      <td>1</td>\n",
       "      <td>F</td>\n",
       "      <td>Relacionado</td>\n",
       "      <td>Casa</td>\n",
       "      <td>Recuperado</td>\n",
       "    </tr>\n",
       "    <tr>\n",
       "      <th>9994</th>\n",
       "      <td>9995</td>\n",
       "      <td>2020-05-29</td>\n",
       "      <td>2020-05-31</td>\n",
       "      <td>Bogotá</td>\n",
       "      <td>Kennedy</td>\n",
       "      <td>32</td>\n",
       "      <td>1</td>\n",
       "      <td>F</td>\n",
       "      <td>Relacionado</td>\n",
       "      <td>Casa</td>\n",
       "      <td>Recuperado</td>\n",
       "    </tr>\n",
       "    <tr>\n",
       "      <th>9995</th>\n",
       "      <td>9996</td>\n",
       "      <td>2020-05-28</td>\n",
       "      <td>2020-05-31</td>\n",
       "      <td>Bogotá</td>\n",
       "      <td>Usaquén</td>\n",
       "      <td>70</td>\n",
       "      <td>1</td>\n",
       "      <td>F</td>\n",
       "      <td>En estudio</td>\n",
       "      <td>Casa</td>\n",
       "      <td>Recuperado</td>\n",
       "    </tr>\n",
       "    <tr>\n",
       "      <th>9996</th>\n",
       "      <td>9997</td>\n",
       "      <td>2020-05-27</td>\n",
       "      <td>2020-05-31</td>\n",
       "      <td>Bogotá</td>\n",
       "      <td>Suba</td>\n",
       "      <td>32</td>\n",
       "      <td>1</td>\n",
       "      <td>F</td>\n",
       "      <td>Relacionado</td>\n",
       "      <td>Casa</td>\n",
       "      <td>Recuperado</td>\n",
       "    </tr>\n",
       "    <tr>\n",
       "      <th>9998</th>\n",
       "      <td>9999</td>\n",
       "      <td>2020-05-25</td>\n",
       "      <td>2020-05-31</td>\n",
       "      <td>Bogotá</td>\n",
       "      <td>Suba</td>\n",
       "      <td>32</td>\n",
       "      <td>1</td>\n",
       "      <td>F</td>\n",
       "      <td>Relacionado</td>\n",
       "      <td>Casa</td>\n",
       "      <td>Recuperado</td>\n",
       "    </tr>\n",
       "  </tbody>\n",
       "</table>\n",
       "<p>4821 rows × 11 columns</p>\n",
       "</div>"
      ],
      "text/plain": [
       "      CASO FECHA_DE_INICIO_DE_SINTOMAS FECHA_DIAGNOSTICO  CIUDAD  \\\n",
       "0        1                  2020-02-26        2020-03-06  Bogotá   \n",
       "1        2                  2020-03-04        2020-03-10  Bogotá   \n",
       "2        3                  2020-03-07        2020-03-10  Bogotá   \n",
       "3        4                  2020-03-06        2020-03-12  Bogotá   \n",
       "4        5                  2020-03-06        2020-03-12  Bogotá   \n",
       "...    ...                         ...               ...     ...   \n",
       "9989  9990                  2020-05-28        2020-05-31  Bogotá   \n",
       "9994  9995                  2020-05-29        2020-05-31  Bogotá   \n",
       "9995  9996                  2020-05-28        2020-05-31  Bogotá   \n",
       "9996  9997                  2020-05-27        2020-05-31  Bogotá   \n",
       "9998  9999                  2020-05-25        2020-05-31  Bogotá   \n",
       "\n",
       "     LOCALIDAD_ASIS  EDAD  UNI_MED SEXO FUENTE_O_TIPO_DE_CONTAGIO UBICACION  \\\n",
       "0           Usaquén    19        1    F                 Importado      Casa   \n",
       "1          Engativá    22        1    F                 Importado      Casa   \n",
       "2          Engativá    28        1    F                 Importado      Casa   \n",
       "3          Fontibón    36        1    F                 Importado      Casa   \n",
       "4           Kennedy    42        1    F                 Importado      Casa   \n",
       "...             ...   ...      ...  ...                       ...       ...   \n",
       "9989  Puente Aranda    22        1    F               Relacionado      Casa   \n",
       "9994        Kennedy    32        1    F               Relacionado      Casa   \n",
       "9995        Usaquén    70        1    F                En estudio      Casa   \n",
       "9996           Suba    32        1    F               Relacionado      Casa   \n",
       "9998           Suba    32        1    F               Relacionado      Casa   \n",
       "\n",
       "          ESTADO  \n",
       "0     Recuperado  \n",
       "1     Recuperado  \n",
       "2     Recuperado  \n",
       "3     Recuperado  \n",
       "4     Recuperado  \n",
       "...          ...  \n",
       "9989  Recuperado  \n",
       "9994  Recuperado  \n",
       "9995  Recuperado  \n",
       "9996  Recuperado  \n",
       "9998  Recuperado  \n",
       "\n",
       "[4821 rows x 11 columns]"
      ]
     },
     "execution_count": 93,
     "metadata": {},
     "output_type": "execute_result"
    }
   ],
   "source": [
    "df1"
   ]
  },
  {
   "cell_type": "code",
   "execution_count": 94,
   "id": "5292093f",
   "metadata": {},
   "outputs": [],
   "source": [
    "# calcular la probabilidad que sea mujer\n",
    "NF = df1.shape[0]"
   ]
  },
  {
   "cell_type": "code",
   "execution_count": 95,
   "id": "23f9db71",
   "metadata": {
    "collapsed": true
   },
   "outputs": [
    {
     "data": {
      "text/plain": [
       "0.4821482148214821"
      ]
     },
     "execution_count": 95,
     "metadata": {},
     "output_type": "execute_result"
    }
   ],
   "source": [
    "PF = NF/N\n",
    "PF "
   ]
  },
  {
   "cell_type": "code",
   "execution_count": 96,
   "id": "64dfa5b2",
   "metadata": {
    "collapsed": true
   },
   "outputs": [
    {
     "data": {
      "text/plain": [
       "0       False\n",
       "1       False\n",
       "2       False\n",
       "3       False\n",
       "4       False\n",
       "        ...  \n",
       "9994    False\n",
       "9995    False\n",
       "9996    False\n",
       "9997     True\n",
       "9998    False\n",
       "Name: SEXO, Length: 9999, dtype: bool"
      ]
     },
     "execution_count": 96,
     "metadata": {},
     "output_type": "execute_result"
    }
   ],
   "source": [
    "maskM = df['SEXO'] == 'M'\n",
    "maskM"
   ]
  },
  {
   "cell_type": "code",
   "execution_count": 97,
   "id": "f41abd58",
   "metadata": {},
   "outputs": [],
   "source": [
    "df2 = df[maskM]"
   ]
  },
  {
   "cell_type": "code",
   "execution_count": 98,
   "id": "476304ed",
   "metadata": {},
   "outputs": [
    {
     "data": {
      "text/plain": [
       "5178"
      ]
     },
     "execution_count": 98,
     "metadata": {},
     "output_type": "execute_result"
    }
   ],
   "source": [
    "NM = df2.shape[0]\n",
    "NM"
   ]
  },
  {
   "cell_type": "code",
   "execution_count": 99,
   "id": "d96592b6",
   "metadata": {},
   "outputs": [],
   "source": [
    "PM = NM/N "
   ]
  },
  {
   "cell_type": "code",
   "execution_count": 100,
   "id": "ccb77652",
   "metadata": {},
   "outputs": [
    {
     "name": "stdout",
     "output_type": "stream",
     "text": [
      "P(MujerAfectada):  0.4821482148214821 \n",
      "P(HombreAfectado):  0.5178517851785178 \n",
      "P(Total): 1.0\n"
     ]
    }
   ],
   "source": [
    "print(f\"P(MujerAfectada): \", PF, f\"\\nP(HombreAfectado): \" , PM , f\"\\nP(Total):\", PF+PM)"
   ]
  },
  {
   "cell_type": "code",
   "execution_count": 72,
   "id": "ca8b57fc",
   "metadata": {},
   "outputs": [],
   "source": [
    "#En caso que tenga diferente probablidad requiere tomar mas valores de un lado que del otro (mas hombres que mujeres para poder hacer inferencias)"
   ]
  },
  {
   "cell_type": "code",
   "execution_count": 73,
   "id": "59a2d4f8",
   "metadata": {},
   "outputs": [],
   "source": [
    "#Filtro para Fallecidos\n",
    "maskFallecidos = df['ESTADO'] == 'Fallecido'"
   ]
  },
  {
   "cell_type": "code",
   "execution_count": 135,
   "id": "15195bef",
   "metadata": {},
   "outputs": [],
   "source": [
    "df3 = df[ maskF & maskFallecidos ]"
   ]
  },
  {
   "cell_type": "code",
   "execution_count": 106,
   "id": "5816d64b",
   "metadata": {},
   "outputs": [],
   "source": [
    "#Tabla de contingencia para relacionar dos variables"
   ]
  },
  {
   "cell_type": "markdown",
   "id": "4a297156",
   "metadata": {},
   "source": [
    "# Tabla de contingencia"
   ]
  },
  {
   "cell_type": "code",
   "execution_count": 151,
   "id": "4c0e7621",
   "metadata": {},
   "outputs": [
    {
     "name": "stdout",
     "output_type": "stream",
     "text": [
      "EstratoF :  52\n"
     ]
    }
   ],
   "source": [
    "CrossEdadF = pd.crosstab( index = df3['EDAD'], columns = df3['ESTADO'])\n",
    "print(\"EstratoF : \", CrossEdadF.shape[0])"
   ]
  },
  {
   "cell_type": "code",
   "execution_count": 152,
   "id": "fd7b6b73",
   "metadata": {
    "collapsed": true
   },
   "outputs": [
    {
     "data": {
      "text/plain": [
       "<Axes: xlabel='EDAD'>"
      ]
     },
     "execution_count": 152,
     "metadata": {},
     "output_type": "execute_result"
    },
    {
     "data": {
      "image/png": "[encoded data removed]",
      "text/plain": [
       "<Figure size 640x480 with 1 Axes>"
      ]
     },
     "metadata": {},
     "output_type": "display_data"
    }
   ],
   "source": [
    "CrossEdadF.plot(kind=\"bar\")"
   ]
  },
  {
   "cell_type": "code",
   "execution_count": 153,
   "id": "3f278278",
   "metadata": {},
   "outputs": [],
   "source": [
    "#caso 1 : Edad media de fallecimientos de F\n",
    "#caso 2 : Probabildiad de fallecimientos de F\n",
    "\n",
    "#tarea 1 : Edad media de fallecimientos de M\n",
    "#tarea 2 : Probabildiad de fallecimientos de M"
   ]
  },
  {
   "cell_type": "code",
   "execution_count": 139,
   "id": "89d372e3",
   "metadata": {},
   "outputs": [],
   "source": [
    "#1 Calculamos el promedio ponderado\n",
    "#Esperanza de la variable"
   ]
  },
  {
   "cell_type": "markdown",
   "id": "35d4b1d6",
   "metadata": {},
   "source": [
    "$$ E(x) = \\sum_{i=1}^{n} p(x)x $$"
   ]
  },
  {
   "cell_type": "code",
   "execution_count": 140,
   "id": "ca9ca020",
   "metadata": {},
   "outputs": [],
   "source": [
    "#Media aritmetcia p(x)/n"
   ]
  },
  {
   "cell_type": "code",
   "execution_count": 141,
   "id": "49ae06ab",
   "metadata": {},
   "outputs": [],
   "source": [
    "EdadF = np.array(CrossEdadF.index) # selecciono un array con los indices de la tabla de contingencia"
   ]
  },
  {
   "cell_type": "code",
   "execution_count": 142,
   "id": "12c54288",
   "metadata": {},
   "outputs": [],
   "source": [
    "Proporcion_F_Fallecida = np.array(CrossEdadF.Fallecido)"
   ]
  },
  {
   "cell_type": "code",
   "execution_count": 143,
   "id": "3a0f82fd",
   "metadata": {},
   "outputs": [],
   "source": [
    "PFallecimientoF = Proporcion_F_Fallecida/np.sum(Proporcion_F_Fallecida)\n",
    "#Pesos de ponderacion de la media"
   ]
  },
  {
   "cell_type": "code",
   "execution_count": 144,
   "id": "838fe8bd",
   "metadata": {},
   "outputs": [
    {
     "data": {
      "text/plain": [
       "71.03149606299213"
      ]
     },
     "execution_count": 144,
     "metadata": {},
     "output_type": "execute_result"
    }
   ],
   "source": [
    "meanF = np.sum(Edad*PFallecimientoF)\n",
    "meanF"
   ]
  }
 ],
 "metadata": {
  "kernelspec": {
   "display_name": "Python 3 (ipykernel)",
   "language": "python",
   "name": "python3"
  },
  "language_info": {
   "codemirror_mode": {
    "name": "ipython",
    "version": 3
   },
   "file_extension": ".py",
   "mimetype": "text/x-python",
   "name": "python",
   "nbconvert_exporter": "python",
   "pygments_lexer": "ipython3",
   "version": "3.10.9"
  }
 },
 "nbformat": 4,
 "nbformat_minor": 5
}
