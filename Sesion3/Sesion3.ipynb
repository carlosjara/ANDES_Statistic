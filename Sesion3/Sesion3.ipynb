{
 "cells": [
  {
   "cell_type": "code",
   "execution_count": 89,
   "id": "43789172",
   "metadata": {},
   "outputs": [],
   "source": [
    "import numpy as np\n",
    "import pandas as pd\n",
    "import matplotlib.pyplot as plt\n",
    "import seaborn as sns\n",
    "from tqdm import tqdm\n",
    "from itertools import accumulate"
   ]
  },
  {
   "cell_type": "code",
   "execution_count": 9,
   "id": "fc8e3d5d",
   "metadata": {},
   "outputs": [],
   "source": [
    "def getFrecuencias(N=1000):\n",
    "    NumeroExistos = 0\n",
    "    for i in range (N):\n",
    "        Evento = np.random.randint(1,7) #Se excluye el ultimo valor (7)\n",
    "        #print(Evento)\n",
    "        #Condicionales \n",
    "        if Evento == 2 or Evento == 4:\n",
    "            NumeroExistos +=1\n",
    "    #print(\"Exitos\",NumeroExistos)\n",
    "    #Frecuencia relativa de aparicion del evento\n",
    "    return NumeroExistos/N"
   ]
  },
  {
   "cell_type": "code",
   "execution_count": 10,
   "id": "5a2c63a6",
   "metadata": {},
   "outputs": [
    {
     "data": {
      "text/plain": [
       "0.324"
      ]
     },
     "execution_count": 10,
     "metadata": {},
     "output_type": "execute_result"
    }
   ],
   "source": [
    "getFrecuencias(1000)"
   ]
  },
  {
   "cell_type": "code",
   "execution_count": 11,
   "id": "c3fbbc78",
   "metadata": {},
   "outputs": [
    {
     "data": {
      "text/plain": [
       "0.3333333333333333"
      ]
     },
     "execution_count": 11,
     "metadata": {},
     "output_type": "execute_result"
    }
   ],
   "source": [
    "1/3"
   ]
  },
  {
   "cell_type": "code",
   "execution_count": 12,
   "id": "a48a24bc",
   "metadata": {},
   "outputs": [
    {
     "data": {
      "text/plain": [
       "array([1.e+01, 1.e+02, 1.e+03, 1.e+04, 1.e+05, 1.e+06])"
      ]
     },
     "execution_count": 12,
     "metadata": {},
     "output_type": "execute_result"
    }
   ],
   "source": [
    "n = np.logspace(1,6,6) #espaciamiento logaritmico numero en potencias de 10 (Con 7 serian potencia de 10 100000)\n",
    "n"
   ]
  },
  {
   "cell_type": "code",
   "execution_count": 13,
   "id": "00b0b212",
   "metadata": {},
   "outputs": [
    {
     "data": {
      "text/plain": [
       "array([0., 0., 0., 0., 0., 0.])"
      ]
     },
     "execution_count": 13,
     "metadata": {},
     "output_type": "execute_result"
    }
   ],
   "source": [
    "freq = np.zeros_like(n)\n",
    "freq"
   ]
  },
  {
   "cell_type": "code",
   "execution_count": 14,
   "id": "38c3e188",
   "metadata": {},
   "outputs": [
    {
     "name": "stderr",
     "output_type": "stream",
     "text": [
      "100%|██████████| 6/6 [00:03<00:00,  1.93it/s]\n"
     ]
    }
   ],
   "source": [
    "for i in tqdm(range(len(n))):\n",
    "    freq[i] = getFrecuencias(int(n[i]))"
   ]
  },
  {
   "cell_type": "code",
   "execution_count": 15,
   "id": "4d5a64b4",
   "metadata": {
    "scrolled": true
   },
   "outputs": [
    {
     "data": {
      "text/plain": [
       "<matplotlib.legend.Legend at 0x1ee27c96c50>"
      ]
     },
     "execution_count": 15,
     "metadata": {},
     "output_type": "execute_result"
    },
    {
     "data": {
      "image/png": "[encoded data removed]",
      "text/plain": [
       "<Figure size 640x480 with 1 Axes>"
      ]
     },
     "metadata": {},
     "output_type": "display_data"
    }
   ],
   "source": [
    "plt.plot(n, freq, label='frecuencia relativa')\n",
    "plt.axhline(y=1/3, color='r' , label='Probabilidad')\n",
    "plt.xscale( 'log')\n",
    "plt.legend(loc=0)"
   ]
  },
  {
   "cell_type": "code",
   "execution_count": 16,
   "id": "9a14cf4d",
   "metadata": {},
   "outputs": [],
   "source": [
    "def lanzarDados(N = 1000):\n",
    "    NumeroExistos = 0\n",
    "    D1 = np.zeros(N).astype(int)\n",
    "    D2 = np.zeros(N).astype(int)\n",
    "    for i in range (N):    \n",
    "        EventoD1 = np.random.randint(1,7) #Se excluye el ultimo valor (7)\n",
    "        EventoD2 = np.random.randint(1,7) #Se excluye el ultimo valor (7)\n",
    "        D1[i] = EventoD1\n",
    "        D2[i] = EventoD2\n",
    "        #print(\"Dado1: \",EventoD1,\"Dado1: \",EventoD1)\n",
    "    return D1,D2"
   ]
  },
  {
   "cell_type": "code",
   "execution_count": 17,
   "id": "0fbd7178",
   "metadata": {},
   "outputs": [
    {
     "data": {
      "text/plain": [
       "(array([2, 6, 5, 5, 4, 3, 4, 5, 5, 6]), array([2, 5, 5, 4, 2, 5, 2, 2, 3, 6]))"
      ]
     },
     "execution_count": 17,
     "metadata": {},
     "output_type": "execute_result"
    }
   ],
   "source": [
    "lanzarDados(10) "
   ]
  },
  {
   "cell_type": "code",
   "execution_count": 54,
   "id": "e7f18b99",
   "metadata": {},
   "outputs": [],
   "source": [
    "Dado1, Dado2 = lanzarDados() "
   ]
  },
  {
   "cell_type": "code",
   "execution_count": 55,
   "id": "08d7af61",
   "metadata": {},
   "outputs": [],
   "source": [
    "#HISTOGRAMAS"
   ]
  },
  {
   "cell_type": "code",
   "execution_count": 56,
   "id": "a11dc456",
   "metadata": {},
   "outputs": [],
   "source": [
    "bins = np.linspace(2,13,12)"
   ]
  },
  {
   "cell_type": "code",
   "execution_count": 57,
   "id": "e394a716",
   "metadata": {},
   "outputs": [
    {
     "data": {
      "text/plain": [
       "array([ 2.,  3.,  4.,  5.,  6.,  7.,  8.,  9., 10., 11., 12., 13.])"
      ]
     },
     "execution_count": 57,
     "metadata": {},
     "output_type": "execute_result"
    }
   ],
   "source": [
    "bins"
   ]
  },
  {
   "cell_type": "code",
   "execution_count": 58,
   "id": "e98e518c",
   "metadata": {},
   "outputs": [],
   "source": [
    "H, bines = np.histogram(Dado1+Dado2, bins=bins)"
   ]
  },
  {
   "cell_type": "code",
   "execution_count": 59,
   "id": "84c27b19",
   "metadata": {},
   "outputs": [
    {
     "data": {
      "text/plain": [
       "array([ 34,  58,  75, 103, 140, 156, 143, 117, 100,  51,  23], dtype=int64)"
      ]
     },
     "execution_count": 59,
     "metadata": {},
     "output_type": "execute_result"
    }
   ],
   "source": [
    "H # Las frecuencias de la categoria (Axis = 0 o eje X) Frecuencias absolutas de los posibles valores de sumer los dos datos. \n",
    "# entonces, la frecuencia absoluta es la cantidad numerica de ocurrencias de un evento\n",
    "#y la relativa es el % con respecto al total de ocurrencias."
   ]
  },
  {
   "cell_type": "code",
   "execution_count": 60,
   "id": "9715c881",
   "metadata": {},
   "outputs": [],
   "source": [
    "#los anchos de clase  (resta entre las categorias)\n",
    "w = np.diff(bines)\n",
    "#La marca de clase es el punto medio de los anchos de clase\n",
    "m = bines[:-1] + 0.5*w[0]\n",
    "# las marcas de clase son el numero de clases menos 1"
   ]
  },
  {
   "cell_type": "code",
   "execution_count": 61,
   "id": "1c369747",
   "metadata": {},
   "outputs": [
    {
     "data": {
      "text/plain": [
       "array([ 2.5,  3.5,  4.5,  5.5,  6.5,  7.5,  8.5,  9.5, 10.5, 11.5, 12.5])"
      ]
     },
     "execution_count": 61,
     "metadata": {},
     "output_type": "execute_result"
    }
   ],
   "source": [
    "m"
   ]
  },
  {
   "cell_type": "code",
   "execution_count": 62,
   "id": "27e55464",
   "metadata": {},
   "outputs": [],
   "source": [
    "#Tiene cara de ser una distribucion de probabilidad simetrica."
   ]
  },
  {
   "cell_type": "code",
   "execution_count": 65,
   "id": "517f7a8a",
   "metadata": {},
   "outputs": [
    {
     "data": {
      "text/plain": [
       "<BarContainer object of 11 artists>"
      ]
     },
     "execution_count": 65,
     "metadata": {},
     "output_type": "execute_result"
    },
    {
     "data": {
      "image/png": "[encoded data removed]",
      "text/plain": [
       "<Figure size 640x480 with 1 Axes>"
      ]
     },
     "metadata": {},
     "output_type": "display_data"
    }
   ],
   "source": [
    "plt.bar(m,H,width=w,ec='k') # la marca de clase la usa bar plot para poner la primera barra \n",
    "#y el valor de H para la frecuencia abs"
   ]
  },
  {
   "cell_type": "code",
   "execution_count": 66,
   "id": "5855b6e6",
   "metadata": {},
   "outputs": [],
   "source": [
    "#para sacar informacion de los datos, los comparo con modelos de probabilidad"
   ]
  },
  {
   "cell_type": "code",
   "execution_count": 67,
   "id": "fb5ca050",
   "metadata": {},
   "outputs": [
    {
     "data": {
      "text/plain": [
       "array([0.034, 0.058, 0.075, 0.103, 0.14 , 0.156, 0.143, 0.117, 0.1  ,\n",
       "       0.051, 0.023])"
      ]
     },
     "execution_count": 67,
     "metadata": {},
     "output_type": "execute_result"
    }
   ],
   "source": [
    "HNorm = H/1000 # Son las probabilidades de que salga algun evento.\n",
    "HNorm"
   ]
  },
  {
   "cell_type": "code",
   "execution_count": 69,
   "id": "0644d3af",
   "metadata": {},
   "outputs": [
    {
     "data": {
      "text/plain": [
       "1.0"
      ]
     },
     "execution_count": 69,
     "metadata": {},
     "output_type": "execute_result"
    }
   ],
   "source": [
    "np.sum(HNorm)"
   ]
  },
  {
   "cell_type": "code",
   "execution_count": 70,
   "id": "3c023ebe",
   "metadata": {},
   "outputs": [
    {
     "data": {
      "text/plain": [
       "<BarContainer object of 11 artists>"
      ]
     },
     "execution_count": 70,
     "metadata": {},
     "output_type": "execute_result"
    },
    {
     "data": {
      "image/png": "[encoded data removed]",
      "text/plain": [
       "<Figure size 640x480 with 1 Axes>"
      ]
     },
     "metadata": {},
     "output_type": "display_data"
    }
   ],
   "source": [
    "plt.bar(m,HNorm,width=w,ec='k')"
   ]
  },
  {
   "cell_type": "code",
   "execution_count": 73,
   "id": "fca08f40",
   "metadata": {},
   "outputs": [
    {
     "data": {
      "text/plain": [
       "array([ 34,  58,  75, 103, 140, 156, 143, 117, 100,  51,  23], dtype=int64)"
      ]
     },
     "execution_count": 73,
     "metadata": {},
     "output_type": "execute_result"
    }
   ],
   "source": [
    "H "
   ]
  },
  {
   "cell_type": "code",
   "execution_count": 83,
   "id": "9614c7b5",
   "metadata": {},
   "outputs": [],
   "source": [
    "#En los histogramas, se tienen categorias disyuntas, es decir, que no es posible que aparezcan dos eventos al mismo tiempo\n",
    "#por esta misma razon, es posible, realizar la suma de las probabilidades de cada categoria"
   ]
  },
  {
   "cell_type": "code",
   "execution_count": 76,
   "id": "bff2c083",
   "metadata": {},
   "outputs": [
    {
     "data": {
      "text/plain": [
       "array([ 2.,  3.,  4.,  5.,  6.,  7.,  8.,  9., 10., 11., 12., 13.])"
      ]
     },
     "execution_count": 76,
     "metadata": {},
     "output_type": "execute_result"
    }
   ],
   "source": [
    "bins"
   ]
  },
  {
   "cell_type": "code",
   "execution_count": 79,
   "id": "9e53254d",
   "metadata": {},
   "outputs": [
    {
     "data": {
      "text/plain": [
       "array([0.143, 0.117, 0.1  , 0.051, 0.023])"
      ]
     },
     "execution_count": 79,
     "metadata": {},
     "output_type": "execute_result"
    }
   ],
   "source": [
    "HNorm[6:]"
   ]
  },
  {
   "cell_type": "code",
   "execution_count": 85,
   "id": "f66cc51c",
   "metadata": {},
   "outputs": [
    {
     "data": {
      "text/plain": [
       "0.29100000000000004"
      ]
     },
     "execution_count": 85,
     "metadata": {},
     "output_type": "execute_result"
    }
   ],
   "source": [
    "np.sum(HNorm[7:])"
   ]
  },
  {
   "cell_type": "code",
   "execution_count": 84,
   "id": "35225222",
   "metadata": {},
   "outputs": [
    {
     "data": {
      "text/plain": [
       "0.709"
      ]
     },
     "execution_count": 84,
     "metadata": {},
     "output_type": "execute_result"
    }
   ],
   "source": [
    "np.sum(HNorm[:7])"
   ]
  },
  {
   "cell_type": "code",
   "execution_count": 86,
   "id": "8fa75ccf",
   "metadata": {},
   "outputs": [],
   "source": [
    "HCum = np.zeros_like (HNorm)\n",
    "HCum_cj = np.zeros_like (HNorm)"
   ]
  },
  {
   "cell_type": "code",
   "execution_count": 87,
   "id": "c530ce02",
   "metadata": {},
   "outputs": [
    {
     "data": {
      "text/plain": [
       "array([0., 0., 0., 0., 0., 0., 0., 0., 0., 0., 0.])"
      ]
     },
     "execution_count": 87,
     "metadata": {},
     "output_type": "execute_result"
    }
   ],
   "source": [
    "HCum"
   ]
  },
  {
   "cell_type": "code",
   "execution_count": 99,
   "id": "13032ead",
   "metadata": {},
   "outputs": [],
   "source": [
    "HCum_cj = np.array(list(accumulate(HNorm, lambda x, y: x + y))) # Mi solucion\n",
    "for i in range (len(HNorm)):\n",
    "    HCum[i] = np.sum(HNorm[:i+1])"
   ]
  },
  {
   "cell_type": "code",
   "execution_count": 100,
   "id": "287faae3",
   "metadata": {},
   "outputs": [
    {
     "data": {
      "text/plain": [
       "array([0.034, 0.092, 0.167, 0.27 , 0.41 , 0.566, 0.709, 0.826, 0.926,\n",
       "       0.977, 1.   ])"
      ]
     },
     "execution_count": 100,
     "metadata": {},
     "output_type": "execute_result"
    }
   ],
   "source": [
    "HCum"
   ]
  },
  {
   "cell_type": "code",
   "execution_count": 101,
   "id": "4f80767f",
   "metadata": {},
   "outputs": [
    {
     "data": {
      "text/plain": [
       "array([0.034, 0.092, 0.167, 0.27 , 0.41 , 0.566, 0.709, 0.826, 0.926,\n",
       "       0.977, 1.   ])"
      ]
     },
     "execution_count": 101,
     "metadata": {},
     "output_type": "execute_result"
    }
   ],
   "source": [
    "HCum_cj"
   ]
  },
  {
   "cell_type": "code",
   "execution_count": 104,
   "id": "cc1877e3",
   "metadata": {},
   "outputs": [
    {
     "data": {
      "text/plain": [
       "<matplotlib.lines.Line2D at 0x1ee28a39660>"
      ]
     },
     "execution_count": 104,
     "metadata": {},
     "output_type": "execute_result"
    },
    {
     "data": {
      "image/png": "[encoded data removed]",
      "text/plain": [
       "<Figure size 640x480 with 1 Axes>"
      ]
     },
     "metadata": {},
     "output_type": "display_data"
    }
   ],
   "source": [
    "plt.bar(m,HCum,width=w,ec='k')\n",
    "plt.axhline(y=1,color='r')"
   ]
  },
  {
   "cell_type": "code",
   "execution_count": 105,
   "id": "b62b8d95",
   "metadata": {},
   "outputs": [],
   "source": [
    "#Guardar los datos en dataframe y luego a excel\n",
    "#para luego tratarlos"
   ]
  },
  {
   "cell_type": "code",
   "execution_count": 110,
   "id": "b160e72c",
   "metadata": {},
   "outputs": [],
   "source": [
    "Dict ={'Dado1':Dado1, 'Dado2':Dado2, 'Suma':Dado1+Dado2}"
   ]
  },
  {
   "cell_type": "code",
   "execution_count": 111,
   "id": "6c0a0e77",
   "metadata": {},
   "outputs": [],
   "source": [
    "df = pd.DataFrame(Dict)"
   ]
  },
  {
   "cell_type": "code",
   "execution_count": 112,
   "id": "8a56ed63",
   "metadata": {},
   "outputs": [
    {
     "data": {
      "text/html": [
       "<div>\n",
       "<style scoped>\n",
       "    .dataframe tbody tr th:only-of-type {\n",
       "        vertical-align: middle;\n",
       "    }\n",
       "\n",
       "    .dataframe tbody tr th {\n",
       "        vertical-align: top;\n",
       "    }\n",
       "\n",
       "    .dataframe thead th {\n",
       "        text-align: right;\n",
       "    }\n",
       "</style>\n",
       "<table border=\"1\" class=\"dataframe\">\n",
       "  <thead>\n",
       "    <tr style=\"text-align: right;\">\n",
       "      <th></th>\n",
       "      <th>Dado1</th>\n",
       "      <th>Dado2</th>\n",
       "      <th>Suma</th>\n",
       "    </tr>\n",
       "  </thead>\n",
       "  <tbody>\n",
       "    <tr>\n",
       "      <th>0</th>\n",
       "      <td>5</td>\n",
       "      <td>5</td>\n",
       "      <td>10</td>\n",
       "    </tr>\n",
       "    <tr>\n",
       "      <th>1</th>\n",
       "      <td>3</td>\n",
       "      <td>6</td>\n",
       "      <td>9</td>\n",
       "    </tr>\n",
       "    <tr>\n",
       "      <th>2</th>\n",
       "      <td>3</td>\n",
       "      <td>3</td>\n",
       "      <td>6</td>\n",
       "    </tr>\n",
       "    <tr>\n",
       "      <th>3</th>\n",
       "      <td>4</td>\n",
       "      <td>4</td>\n",
       "      <td>8</td>\n",
       "    </tr>\n",
       "    <tr>\n",
       "      <th>4</th>\n",
       "      <td>5</td>\n",
       "      <td>3</td>\n",
       "      <td>8</td>\n",
       "    </tr>\n",
       "    <tr>\n",
       "      <th>...</th>\n",
       "      <td>...</td>\n",
       "      <td>...</td>\n",
       "      <td>...</td>\n",
       "    </tr>\n",
       "    <tr>\n",
       "      <th>995</th>\n",
       "      <td>1</td>\n",
       "      <td>1</td>\n",
       "      <td>2</td>\n",
       "    </tr>\n",
       "    <tr>\n",
       "      <th>996</th>\n",
       "      <td>1</td>\n",
       "      <td>5</td>\n",
       "      <td>6</td>\n",
       "    </tr>\n",
       "    <tr>\n",
       "      <th>997</th>\n",
       "      <td>2</td>\n",
       "      <td>2</td>\n",
       "      <td>4</td>\n",
       "    </tr>\n",
       "    <tr>\n",
       "      <th>998</th>\n",
       "      <td>5</td>\n",
       "      <td>2</td>\n",
       "      <td>7</td>\n",
       "    </tr>\n",
       "    <tr>\n",
       "      <th>999</th>\n",
       "      <td>3</td>\n",
       "      <td>1</td>\n",
       "      <td>4</td>\n",
       "    </tr>\n",
       "  </tbody>\n",
       "</table>\n",
       "<p>1000 rows × 3 columns</p>\n",
       "</div>"
      ],
      "text/plain": [
       "     Dado1  Dado2  Suma\n",
       "0        5      5    10\n",
       "1        3      6     9\n",
       "2        3      3     6\n",
       "3        4      4     8\n",
       "4        5      3     8\n",
       "..     ...    ...   ...\n",
       "995      1      1     2\n",
       "996      1      5     6\n",
       "997      2      2     4\n",
       "998      5      2     7\n",
       "999      3      1     4\n",
       "\n",
       "[1000 rows x 3 columns]"
      ]
     },
     "execution_count": 112,
     "metadata": {},
     "output_type": "execute_result"
    }
   ],
   "source": [
    "df"
   ]
  },
  {
   "cell_type": "code",
   "execution_count": 113,
   "id": "c6a9016f",
   "metadata": {},
   "outputs": [],
   "source": [
    "#Agregar una nueva columna\n",
    "df = df.assign (SumaDados = df.Dado1 + df.Dado2)"
   ]
  },
  {
   "cell_type": "code",
   "execution_count": 114,
   "id": "88f4e32f",
   "metadata": {},
   "outputs": [
    {
     "data": {
      "text/html": [
       "<div>\n",
       "<style scoped>\n",
       "    .dataframe tbody tr th:only-of-type {\n",
       "        vertical-align: middle;\n",
       "    }\n",
       "\n",
       "    .dataframe tbody tr th {\n",
       "        vertical-align: top;\n",
       "    }\n",
       "\n",
       "    .dataframe thead th {\n",
       "        text-align: right;\n",
       "    }\n",
       "</style>\n",
       "<table border=\"1\" class=\"dataframe\">\n",
       "  <thead>\n",
       "    <tr style=\"text-align: right;\">\n",
       "      <th></th>\n",
       "      <th>Dado1</th>\n",
       "      <th>Dado2</th>\n",
       "      <th>Suma</th>\n",
       "      <th>SumaDados</th>\n",
       "    </tr>\n",
       "  </thead>\n",
       "  <tbody>\n",
       "    <tr>\n",
       "      <th>0</th>\n",
       "      <td>5</td>\n",
       "      <td>5</td>\n",
       "      <td>10</td>\n",
       "      <td>10</td>\n",
       "    </tr>\n",
       "    <tr>\n",
       "      <th>1</th>\n",
       "      <td>3</td>\n",
       "      <td>6</td>\n",
       "      <td>9</td>\n",
       "      <td>9</td>\n",
       "    </tr>\n",
       "    <tr>\n",
       "      <th>2</th>\n",
       "      <td>3</td>\n",
       "      <td>3</td>\n",
       "      <td>6</td>\n",
       "      <td>6</td>\n",
       "    </tr>\n",
       "    <tr>\n",
       "      <th>3</th>\n",
       "      <td>4</td>\n",
       "      <td>4</td>\n",
       "      <td>8</td>\n",
       "      <td>8</td>\n",
       "    </tr>\n",
       "    <tr>\n",
       "      <th>4</th>\n",
       "      <td>5</td>\n",
       "      <td>3</td>\n",
       "      <td>8</td>\n",
       "      <td>8</td>\n",
       "    </tr>\n",
       "    <tr>\n",
       "      <th>...</th>\n",
       "      <td>...</td>\n",
       "      <td>...</td>\n",
       "      <td>...</td>\n",
       "      <td>...</td>\n",
       "    </tr>\n",
       "    <tr>\n",
       "      <th>995</th>\n",
       "      <td>1</td>\n",
       "      <td>1</td>\n",
       "      <td>2</td>\n",
       "      <td>2</td>\n",
       "    </tr>\n",
       "    <tr>\n",
       "      <th>996</th>\n",
       "      <td>1</td>\n",
       "      <td>5</td>\n",
       "      <td>6</td>\n",
       "      <td>6</td>\n",
       "    </tr>\n",
       "    <tr>\n",
       "      <th>997</th>\n",
       "      <td>2</td>\n",
       "      <td>2</td>\n",
       "      <td>4</td>\n",
       "      <td>4</td>\n",
       "    </tr>\n",
       "    <tr>\n",
       "      <th>998</th>\n",
       "      <td>5</td>\n",
       "      <td>2</td>\n",
       "      <td>7</td>\n",
       "      <td>7</td>\n",
       "    </tr>\n",
       "    <tr>\n",
       "      <th>999</th>\n",
       "      <td>3</td>\n",
       "      <td>1</td>\n",
       "      <td>4</td>\n",
       "      <td>4</td>\n",
       "    </tr>\n",
       "  </tbody>\n",
       "</table>\n",
       "<p>1000 rows × 4 columns</p>\n",
       "</div>"
      ],
      "text/plain": [
       "     Dado1  Dado2  Suma  SumaDados\n",
       "0        5      5    10         10\n",
       "1        3      6     9          9\n",
       "2        3      3     6          6\n",
       "3        4      4     8          8\n",
       "4        5      3     8          8\n",
       "..     ...    ...   ...        ...\n",
       "995      1      1     2          2\n",
       "996      1      5     6          6\n",
       "997      2      2     4          4\n",
       "998      5      2     7          7\n",
       "999      3      1     4          4\n",
       "\n",
       "[1000 rows x 4 columns]"
      ]
     },
     "execution_count": 114,
     "metadata": {},
     "output_type": "execute_result"
    }
   ],
   "source": [
    "df"
   ]
  },
  {
   "cell_type": "code",
   "execution_count": 115,
   "id": "658d2cde",
   "metadata": {},
   "outputs": [
    {
     "data": {
      "text/plain": [
       "<Axes: xlabel='SumaDados', ylabel='Count'>"
      ]
     },
     "execution_count": 115,
     "metadata": {},
     "output_type": "execute_result"
    },
    {
     "data": {
      "image/png": "[encoded data removed]",
      "text/plain": [
       "<Figure size 640x480 with 1 Axes>"
      ]
     },
     "metadata": {},
     "output_type": "display_data"
    }
   ],
   "source": [
    "sns.histplot(x='SumaDados', data=df, discrete=True, bins=12, kde=True)"
   ]
  },
  {
   "cell_type": "code",
   "execution_count": 119,
   "id": "b9eb5580",
   "metadata": {},
   "outputs": [
    {
     "data": {
      "text/plain": [
       "<Axes: xlabel='SumaDados', ylabel='Density'>"
      ]
     },
     "execution_count": 119,
     "metadata": {},
     "output_type": "execute_result"
    },
    {
     "data": {
      "image/png": "[encoded data removed]",
      "text/plain": [
       "<Figure size 640x480 with 1 Axes>"
      ]
     },
     "metadata": {},
     "output_type": "display_data"
    }
   ],
   "source": [
    "sns.histplot(x='SumaDados', data=df, discrete=True, cumulative=True, bins=12, kde=True,stat='density',element='step', fill=False)"
   ]
  },
  {
   "cell_type": "code",
   "execution_count": null,
   "id": "1e7333f8",
   "metadata": {},
   "outputs": [],
   "source": []
  }
 ],
 "metadata": {
  "kernelspec": {
   "display_name": "Python 3 (ipykernel)",
   "language": "python",
   "name": "python3"
  },
  "language_info": {
   "codemirror_mode": {
    "name": "ipython",
    "version": 3
   },
   "file_extension": ".py",
   "mimetype": "text/x-python",
   "name": "python",
   "nbconvert_exporter": "python",
   "pygments_lexer": "ipython3",
   "version": "3.10.9"
  }
 },
 "nbformat": 4,
 "nbformat_minor": 5
}
