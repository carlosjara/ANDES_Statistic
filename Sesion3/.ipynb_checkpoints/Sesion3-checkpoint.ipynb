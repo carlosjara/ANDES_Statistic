{
 "cells": [
  {
   "cell_type": "code",
   "execution_count": 4,
   "id": "43789172",
   "metadata": {},
   "outputs": [],
   "source": [
    "import numpy as np\n",
    "import pandas as pd\n",
    "import matplotlib.pyplot as plt\n",
    "import seaborn as sns\n",
    "from tqdm import tqdm"
   ]
  },
  {
   "cell_type": "code",
   "execution_count": 93,
   "id": "fc8e3d5d",
   "metadata": {},
   "outputs": [],
   "source": [
    "def getFrecuencias(N=1000):\n",
    "    NumeroExistos = 0\n",
    "    for i in range (N):\n",
    "        Evento = np.random.randint(1,7) #Se excluye el ultimo valor (7)\n",
    "        #print(Evento)\n",
    "        #Condicionales \n",
    "        if Evento == 2 or Evento == 4:\n",
    "            NumeroExistos +=1\n",
    "    #print(\"Exitos\",NumeroExistos)\n",
    "    #Frecuencia relativa de aparicion del evento\n",
    "    return NumeroExistos/N"
   ]
  },
  {
   "cell_type": "code",
   "execution_count": 94,
   "id": "5a2c63a6",
   "metadata": {},
   "outputs": [
    {
     "data": {
      "text/plain": [
       "0.328"
      ]
     },
     "execution_count": 94,
     "metadata": {},
     "output_type": "execute_result"
    }
   ],
   "source": [
    "getFrecuencias(1000)"
   ]
  },
  {
   "cell_type": "code",
   "execution_count": 95,
   "id": "c3fbbc78",
   "metadata": {},
   "outputs": [
    {
     "data": {
      "text/plain": [
       "0.3333333333333333"
      ]
     },
     "execution_count": 95,
     "metadata": {},
     "output_type": "execute_result"
    }
   ],
   "source": [
    "1/3"
   ]
  },
  {
   "cell_type": "code",
   "execution_count": 96,
   "id": "a48a24bc",
   "metadata": {},
   "outputs": [
    {
     "data": {
      "text/plain": [
       "array([1.e+01, 1.e+02, 1.e+03, 1.e+04, 1.e+05, 1.e+06])"
      ]
     },
     "execution_count": 96,
     "metadata": {},
     "output_type": "execute_result"
    }
   ],
   "source": [
    "n = np.logspace(1,6,6) #espaciamiento logaritmico numero en potencias de 10 (Con 7 serian potencia de 10 100000)\n",
    "n"
   ]
  },
  {
   "cell_type": "code",
   "execution_count": 97,
   "id": "00b0b212",
   "metadata": {},
   "outputs": [
    {
     "data": {
      "text/plain": [
       "array([0., 0., 0., 0., 0., 0.])"
      ]
     },
     "execution_count": 97,
     "metadata": {},
     "output_type": "execute_result"
    }
   ],
   "source": [
    "freq = np.zeros_like(n)\n",
    "freq"
   ]
  },
  {
   "cell_type": "code",
   "execution_count": 100,
   "id": "38c3e188",
   "metadata": {},
   "outputs": [
    {
     "name": "stderr",
     "output_type": "stream",
     "text": [
      "100%|██████████| 6/6 [00:03<00:00,  1.78it/s]\n"
     ]
    }
   ],
   "source": [
    "for i in tqdm(range(len(n))):\n",
    "    freq[i] = getFrecuencias(int(n[i]))"
   ]
  },
  {
   "cell_type": "code",
   "execution_count": 102,
   "id": "4d5a64b4",
   "metadata": {
    "scrolled": true
   },
   "outputs": [
    {
     "data": {
      "text/plain": [
       "<matplotlib.legend.Legend at 0x2a25479e440>"
      ]
     },
     "execution_count": 102,
     "metadata": {},
     "output_type": "execute_result"
    },
    {
     "data": {
      "image/png": "[encoded data removed]",
      "text/plain": [
       "<Figure size 640x480 with 1 Axes>"
      ]
     },
     "metadata": {},
     "output_type": "display_data"
    }
   ],
   "source": [
    "plt.plot(n, freq, label='frecuencia relativa')\n",
    "plt.axhline(y=1/3, color='r' , label='Probabilidad')\n",
    "plt.xscale( 'log')\n",
    "plt.legend(loc=0)"
   ]
  },
  {
   "cell_type": "code",
   "execution_count": 126,
   "id": "9a14cf4d",
   "metadata": {},
   "outputs": [],
   "source": [
    "def lanzarDados(N = 1000):\n",
    "    NumeroExistos = 0\n",
    "    D1 = np.zeros(N).astype(int)\n",
    "    D2 = np.zeros(N).astype(int)\n",
    "    for i in range (N):    \n",
    "        EventoD1 = np.random.randint(1,7) #Se excluye el ultimo valor (7)\n",
    "        EventoD2 = np.random.randint(1,7) #Se excluye el ultimo valor (7)\n",
    "        D1[i] = EventoD1\n",
    "        D2[i] = EventoD2\n",
    "        #print(\"Dado1: \",EventoD1,\"Dado1: \",EventoD1)\n",
    "    return D1,D2"
   ]
  },
  {
   "cell_type": "code",
   "execution_count": 127,
   "id": "0fbd7178",
   "metadata": {},
   "outputs": [
    {
     "data": {
      "text/plain": [
       "(array([1, 4, 4, 4, 2, 4, 2, 1, 3, 2]), array([5, 5, 2, 6, 2, 6, 5, 1, 3, 1]))"
      ]
     },
     "execution_count": 127,
     "metadata": {},
     "output_type": "execute_result"
    }
   ],
   "source": [
    "lanzarDados(10) "
   ]
  },
  {
   "cell_type": "code",
   "execution_count": 128,
   "id": "e7f18b99",
   "metadata": {},
   "outputs": [],
   "source": [
    "Dado1, Dado2 = lanzarDados(10) "
   ]
  },
  {
   "cell_type": "code",
   "execution_count": 129,
   "id": "96edaaa1",
   "metadata": {},
   "outputs": [
    {
     "data": {
      "text/plain": [
       "array([3, 6, 1, 2, 4, 3, 1, 6, 1, 3])"
      ]
     },
     "execution_count": 129,
     "metadata": {},
     "output_type": "execute_result"
    }
   ],
   "source": [
    "Dado2"
   ]
  },
  {
   "cell_type": "code",
   "execution_count": 1,
   "id": "08d7af61",
   "metadata": {},
   "outputs": [],
   "source": [
    "#HISTOGRAMAS"
   ]
  },
  {
   "cell_type": "code",
   "execution_count": 5,
   "id": "a11dc456",
   "metadata": {},
   "outputs": [],
   "source": [
    "bins = np.linspace(2,13,12)"
   ]
  },
  {
   "cell_type": "code",
   "execution_count": 6,
   "id": "e394a716",
   "metadata": {},
   "outputs": [
    {
     "data": {
      "text/plain": [
       "array([ 2.,  3.,  4.,  5.,  6.,  7.,  8.,  9., 10., 11., 12., 13.])"
      ]
     },
     "execution_count": 6,
     "metadata": {},
     "output_type": "execute_result"
    }
   ],
   "source": [
    "bins"
   ]
  },
  {
   "cell_type": "code",
   "execution_count": null,
   "id": "e98e518c",
   "metadata": {},
   "outputs": [],
   "source": []
  }
 ],
 "metadata": {
  "kernelspec": {
   "display_name": "Python 3 (ipykernel)",
   "language": "python",
   "name": "python3"
  },
  "language_info": {
   "codemirror_mode": {
    "name": "ipython",
    "version": 3
   },
   "file_extension": ".py",
   "mimetype": "text/x-python",
   "name": "python",
   "nbconvert_exporter": "python",
   "pygments_lexer": "ipython3",
   "version": "3.10.9"
  }
 },
 "nbformat": 4,
 "nbformat_minor": 5
}
