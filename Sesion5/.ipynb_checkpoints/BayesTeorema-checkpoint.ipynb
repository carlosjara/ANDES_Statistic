{
 "cells": [
  {
   "cell_type": "code",
   "execution_count": 4,
   "id": "6e0067c5",
   "metadata": {},
   "outputs": [],
   "source": [
    "import numpy as np\n",
    "import matplotlib.pyplot as plt\n",
    "import pandas as pd\n",
    "import seaborn as sns"
   ]
  },
  {
   "cell_type": "code",
   "execution_count": 5,
   "id": "c93c7617",
   "metadata": {},
   "outputs": [],
   "source": [
    "df = pd.read_csv('../Sesion4/Database/CovidSample1.csv', sep=';')"
   ]
  },
  {
   "cell_type": "code",
   "execution_count": 6,
   "id": "4bfa0ed2",
   "metadata": {},
   "outputs": [
    {
     "data": {
      "text/html": [
       "<div>\n",
       "<style scoped>\n",
       "    .dataframe tbody tr th:only-of-type {\n",
       "        vertical-align: middle;\n",
       "    }\n",
       "\n",
       "    .dataframe tbody tr th {\n",
       "        vertical-align: top;\n",
       "    }\n",
       "\n",
       "    .dataframe thead th {\n",
       "        text-align: right;\n",
       "    }\n",
       "</style>\n",
       "<table border=\"1\" class=\"dataframe\">\n",
       "  <thead>\n",
       "    <tr style=\"text-align: right;\">\n",
       "      <th></th>\n",
       "      <th>CASO</th>\n",
       "      <th>FECHA_DE_INICIO_DE_SINTOMAS</th>\n",
       "      <th>FECHA_DIAGNOSTICO</th>\n",
       "      <th>CIUDAD</th>\n",
       "      <th>LOCALIDAD_ASIS</th>\n",
       "      <th>EDAD</th>\n",
       "      <th>UNI_MED</th>\n",
       "      <th>SEXO</th>\n",
       "      <th>FUENTE_O_TIPO_DE_CONTAGIO</th>\n",
       "      <th>UBICACION</th>\n",
       "      <th>ESTADO</th>\n",
       "    </tr>\n",
       "  </thead>\n",
       "  <tbody>\n",
       "    <tr>\n",
       "      <th>0</th>\n",
       "      <td>1</td>\n",
       "      <td>2020-02-26</td>\n",
       "      <td>2020-03-06</td>\n",
       "      <td>Bogotá</td>\n",
       "      <td>Usaquén</td>\n",
       "      <td>19</td>\n",
       "      <td>1</td>\n",
       "      <td>F</td>\n",
       "      <td>Importado</td>\n",
       "      <td>Casa</td>\n",
       "      <td>Recuperado</td>\n",
       "    </tr>\n",
       "    <tr>\n",
       "      <th>1</th>\n",
       "      <td>2</td>\n",
       "      <td>2020-03-04</td>\n",
       "      <td>2020-03-10</td>\n",
       "      <td>Bogotá</td>\n",
       "      <td>Engativá</td>\n",
       "      <td>22</td>\n",
       "      <td>1</td>\n",
       "      <td>F</td>\n",
       "      <td>Importado</td>\n",
       "      <td>Casa</td>\n",
       "      <td>Recuperado</td>\n",
       "    </tr>\n",
       "    <tr>\n",
       "      <th>2</th>\n",
       "      <td>3</td>\n",
       "      <td>2020-03-07</td>\n",
       "      <td>2020-03-10</td>\n",
       "      <td>Bogotá</td>\n",
       "      <td>Engativá</td>\n",
       "      <td>28</td>\n",
       "      <td>1</td>\n",
       "      <td>F</td>\n",
       "      <td>Importado</td>\n",
       "      <td>Casa</td>\n",
       "      <td>Recuperado</td>\n",
       "    </tr>\n",
       "    <tr>\n",
       "      <th>3</th>\n",
       "      <td>4</td>\n",
       "      <td>2020-03-06</td>\n",
       "      <td>2020-03-12</td>\n",
       "      <td>Bogotá</td>\n",
       "      <td>Fontibón</td>\n",
       "      <td>36</td>\n",
       "      <td>1</td>\n",
       "      <td>F</td>\n",
       "      <td>Importado</td>\n",
       "      <td>Casa</td>\n",
       "      <td>Recuperado</td>\n",
       "    </tr>\n",
       "    <tr>\n",
       "      <th>4</th>\n",
       "      <td>5</td>\n",
       "      <td>2020-03-06</td>\n",
       "      <td>2020-03-12</td>\n",
       "      <td>Bogotá</td>\n",
       "      <td>Kennedy</td>\n",
       "      <td>42</td>\n",
       "      <td>1</td>\n",
       "      <td>F</td>\n",
       "      <td>Importado</td>\n",
       "      <td>Casa</td>\n",
       "      <td>Recuperado</td>\n",
       "    </tr>\n",
       "    <tr>\n",
       "      <th>...</th>\n",
       "      <td>...</td>\n",
       "      <td>...</td>\n",
       "      <td>...</td>\n",
       "      <td>...</td>\n",
       "      <td>...</td>\n",
       "      <td>...</td>\n",
       "      <td>...</td>\n",
       "      <td>...</td>\n",
       "      <td>...</td>\n",
       "      <td>...</td>\n",
       "      <td>...</td>\n",
       "    </tr>\n",
       "    <tr>\n",
       "      <th>9994</th>\n",
       "      <td>9995</td>\n",
       "      <td>2020-05-29</td>\n",
       "      <td>2020-05-31</td>\n",
       "      <td>Bogotá</td>\n",
       "      <td>Kennedy</td>\n",
       "      <td>32</td>\n",
       "      <td>1</td>\n",
       "      <td>F</td>\n",
       "      <td>Relacionado</td>\n",
       "      <td>Casa</td>\n",
       "      <td>Recuperado</td>\n",
       "    </tr>\n",
       "    <tr>\n",
       "      <th>9995</th>\n",
       "      <td>9996</td>\n",
       "      <td>2020-05-28</td>\n",
       "      <td>2020-05-31</td>\n",
       "      <td>Bogotá</td>\n",
       "      <td>Usaquén</td>\n",
       "      <td>70</td>\n",
       "      <td>1</td>\n",
       "      <td>F</td>\n",
       "      <td>En estudio</td>\n",
       "      <td>Casa</td>\n",
       "      <td>Recuperado</td>\n",
       "    </tr>\n",
       "    <tr>\n",
       "      <th>9996</th>\n",
       "      <td>9997</td>\n",
       "      <td>2020-05-27</td>\n",
       "      <td>2020-05-31</td>\n",
       "      <td>Bogotá</td>\n",
       "      <td>Suba</td>\n",
       "      <td>32</td>\n",
       "      <td>1</td>\n",
       "      <td>F</td>\n",
       "      <td>Relacionado</td>\n",
       "      <td>Casa</td>\n",
       "      <td>Recuperado</td>\n",
       "    </tr>\n",
       "    <tr>\n",
       "      <th>9997</th>\n",
       "      <td>9998</td>\n",
       "      <td>2020-05-27</td>\n",
       "      <td>2020-05-31</td>\n",
       "      <td>Bogotá</td>\n",
       "      <td>Suba</td>\n",
       "      <td>2</td>\n",
       "      <td>1</td>\n",
       "      <td>M</td>\n",
       "      <td>Relacionado</td>\n",
       "      <td>Casa</td>\n",
       "      <td>Recuperado</td>\n",
       "    </tr>\n",
       "    <tr>\n",
       "      <th>9998</th>\n",
       "      <td>9999</td>\n",
       "      <td>2020-05-25</td>\n",
       "      <td>2020-05-31</td>\n",
       "      <td>Bogotá</td>\n",
       "      <td>Suba</td>\n",
       "      <td>32</td>\n",
       "      <td>1</td>\n",
       "      <td>F</td>\n",
       "      <td>Relacionado</td>\n",
       "      <td>Casa</td>\n",
       "      <td>Recuperado</td>\n",
       "    </tr>\n",
       "  </tbody>\n",
       "</table>\n",
       "<p>9999 rows × 11 columns</p>\n",
       "</div>"
      ],
      "text/plain": [
       "      CASO FECHA_DE_INICIO_DE_SINTOMAS FECHA_DIAGNOSTICO  CIUDAD  \\\n",
       "0        1                  2020-02-26        2020-03-06  Bogotá   \n",
       "1        2                  2020-03-04        2020-03-10  Bogotá   \n",
       "2        3                  2020-03-07        2020-03-10  Bogotá   \n",
       "3        4                  2020-03-06        2020-03-12  Bogotá   \n",
       "4        5                  2020-03-06        2020-03-12  Bogotá   \n",
       "...    ...                         ...               ...     ...   \n",
       "9994  9995                  2020-05-29        2020-05-31  Bogotá   \n",
       "9995  9996                  2020-05-28        2020-05-31  Bogotá   \n",
       "9996  9997                  2020-05-27        2020-05-31  Bogotá   \n",
       "9997  9998                  2020-05-27        2020-05-31  Bogotá   \n",
       "9998  9999                  2020-05-25        2020-05-31  Bogotá   \n",
       "\n",
       "     LOCALIDAD_ASIS  EDAD  UNI_MED SEXO FUENTE_O_TIPO_DE_CONTAGIO UBICACION  \\\n",
       "0           Usaquén    19        1    F                 Importado      Casa   \n",
       "1          Engativá    22        1    F                 Importado      Casa   \n",
       "2          Engativá    28        1    F                 Importado      Casa   \n",
       "3          Fontibón    36        1    F                 Importado      Casa   \n",
       "4           Kennedy    42        1    F                 Importado      Casa   \n",
       "...             ...   ...      ...  ...                       ...       ...   \n",
       "9994        Kennedy    32        1    F               Relacionado      Casa   \n",
       "9995        Usaquén    70        1    F                En estudio      Casa   \n",
       "9996           Suba    32        1    F               Relacionado      Casa   \n",
       "9997           Suba     2        1    M               Relacionado      Casa   \n",
       "9998           Suba    32        1    F               Relacionado      Casa   \n",
       "\n",
       "          ESTADO  \n",
       "0     Recuperado  \n",
       "1     Recuperado  \n",
       "2     Recuperado  \n",
       "3     Recuperado  \n",
       "4     Recuperado  \n",
       "...          ...  \n",
       "9994  Recuperado  \n",
       "9995  Recuperado  \n",
       "9996  Recuperado  \n",
       "9997  Recuperado  \n",
       "9998  Recuperado  \n",
       "\n",
       "[9999 rows x 11 columns]"
      ]
     },
     "execution_count": 6,
     "metadata": {},
     "output_type": "execute_result"
    }
   ],
   "source": [
    "df"
   ]
  },
  {
   "cell_type": "markdown",
   "id": "81219f09",
   "metadata": {},
   "source": [
    "$$ P(M/Fa) = \\frac{ P(Fa /M)P(M) }{P(Fa)} = \\frac{ P(Fa \\cap M }{P(Fa)} $$"
   ]
  },
  {
   "cell_type": "code",
   "execution_count": 7,
   "id": "ff0fe77f",
   "metadata": {},
   "outputs": [
    {
     "data": {
      "text/html": [
       "<div>\n",
       "<style scoped>\n",
       "    .dataframe tbody tr th:only-of-type {\n",
       "        vertical-align: middle;\n",
       "    }\n",
       "\n",
       "    .dataframe tbody tr th {\n",
       "        vertical-align: top;\n",
       "    }\n",
       "\n",
       "    .dataframe thead th {\n",
       "        text-align: right;\n",
       "    }\n",
       "</style>\n",
       "<table border=\"1\" class=\"dataframe\">\n",
       "  <thead>\n",
       "    <tr style=\"text-align: right;\">\n",
       "      <th></th>\n",
       "      <th>CASO</th>\n",
       "      <th>FECHA_DE_INICIO_DE_SINTOMAS</th>\n",
       "      <th>FECHA_DIAGNOSTICO</th>\n",
       "      <th>CIUDAD</th>\n",
       "      <th>LOCALIDAD_ASIS</th>\n",
       "      <th>EDAD</th>\n",
       "      <th>UNI_MED</th>\n",
       "      <th>SEXO</th>\n",
       "      <th>FUENTE_O_TIPO_DE_CONTAGIO</th>\n",
       "      <th>UBICACION</th>\n",
       "      <th>ESTADO</th>\n",
       "    </tr>\n",
       "  </thead>\n",
       "  <tbody>\n",
       "    <tr>\n",
       "      <th>0</th>\n",
       "      <td>1</td>\n",
       "      <td>2020-02-26</td>\n",
       "      <td>2020-03-06</td>\n",
       "      <td>Bogotá</td>\n",
       "      <td>Usaquén</td>\n",
       "      <td>19</td>\n",
       "      <td>1</td>\n",
       "      <td>F</td>\n",
       "      <td>Importado</td>\n",
       "      <td>Casa</td>\n",
       "      <td>Recuperado</td>\n",
       "    </tr>\n",
       "    <tr>\n",
       "      <th>1</th>\n",
       "      <td>2</td>\n",
       "      <td>2020-03-04</td>\n",
       "      <td>2020-03-10</td>\n",
       "      <td>Bogotá</td>\n",
       "      <td>Engativá</td>\n",
       "      <td>22</td>\n",
       "      <td>1</td>\n",
       "      <td>F</td>\n",
       "      <td>Importado</td>\n",
       "      <td>Casa</td>\n",
       "      <td>Recuperado</td>\n",
       "    </tr>\n",
       "    <tr>\n",
       "      <th>2</th>\n",
       "      <td>3</td>\n",
       "      <td>2020-03-07</td>\n",
       "      <td>2020-03-10</td>\n",
       "      <td>Bogotá</td>\n",
       "      <td>Engativá</td>\n",
       "      <td>28</td>\n",
       "      <td>1</td>\n",
       "      <td>F</td>\n",
       "      <td>Importado</td>\n",
       "      <td>Casa</td>\n",
       "      <td>Recuperado</td>\n",
       "    </tr>\n",
       "    <tr>\n",
       "      <th>3</th>\n",
       "      <td>4</td>\n",
       "      <td>2020-03-06</td>\n",
       "      <td>2020-03-12</td>\n",
       "      <td>Bogotá</td>\n",
       "      <td>Fontibón</td>\n",
       "      <td>36</td>\n",
       "      <td>1</td>\n",
       "      <td>F</td>\n",
       "      <td>Importado</td>\n",
       "      <td>Casa</td>\n",
       "      <td>Recuperado</td>\n",
       "    </tr>\n",
       "    <tr>\n",
       "      <th>4</th>\n",
       "      <td>5</td>\n",
       "      <td>2020-03-06</td>\n",
       "      <td>2020-03-12</td>\n",
       "      <td>Bogotá</td>\n",
       "      <td>Kennedy</td>\n",
       "      <td>42</td>\n",
       "      <td>1</td>\n",
       "      <td>F</td>\n",
       "      <td>Importado</td>\n",
       "      <td>Casa</td>\n",
       "      <td>Recuperado</td>\n",
       "    </tr>\n",
       "    <tr>\n",
       "      <th>...</th>\n",
       "      <td>...</td>\n",
       "      <td>...</td>\n",
       "      <td>...</td>\n",
       "      <td>...</td>\n",
       "      <td>...</td>\n",
       "      <td>...</td>\n",
       "      <td>...</td>\n",
       "      <td>...</td>\n",
       "      <td>...</td>\n",
       "      <td>...</td>\n",
       "      <td>...</td>\n",
       "    </tr>\n",
       "    <tr>\n",
       "      <th>9994</th>\n",
       "      <td>9995</td>\n",
       "      <td>2020-05-29</td>\n",
       "      <td>2020-05-31</td>\n",
       "      <td>Bogotá</td>\n",
       "      <td>Kennedy</td>\n",
       "      <td>32</td>\n",
       "      <td>1</td>\n",
       "      <td>F</td>\n",
       "      <td>Relacionado</td>\n",
       "      <td>Casa</td>\n",
       "      <td>Recuperado</td>\n",
       "    </tr>\n",
       "    <tr>\n",
       "      <th>9995</th>\n",
       "      <td>9996</td>\n",
       "      <td>2020-05-28</td>\n",
       "      <td>2020-05-31</td>\n",
       "      <td>Bogotá</td>\n",
       "      <td>Usaquén</td>\n",
       "      <td>70</td>\n",
       "      <td>1</td>\n",
       "      <td>F</td>\n",
       "      <td>En estudio</td>\n",
       "      <td>Casa</td>\n",
       "      <td>Recuperado</td>\n",
       "    </tr>\n",
       "    <tr>\n",
       "      <th>9996</th>\n",
       "      <td>9997</td>\n",
       "      <td>2020-05-27</td>\n",
       "      <td>2020-05-31</td>\n",
       "      <td>Bogotá</td>\n",
       "      <td>Suba</td>\n",
       "      <td>32</td>\n",
       "      <td>1</td>\n",
       "      <td>F</td>\n",
       "      <td>Relacionado</td>\n",
       "      <td>Casa</td>\n",
       "      <td>Recuperado</td>\n",
       "    </tr>\n",
       "    <tr>\n",
       "      <th>9997</th>\n",
       "      <td>9998</td>\n",
       "      <td>2020-05-27</td>\n",
       "      <td>2020-05-31</td>\n",
       "      <td>Bogotá</td>\n",
       "      <td>Suba</td>\n",
       "      <td>2</td>\n",
       "      <td>1</td>\n",
       "      <td>M</td>\n",
       "      <td>Relacionado</td>\n",
       "      <td>Casa</td>\n",
       "      <td>Recuperado</td>\n",
       "    </tr>\n",
       "    <tr>\n",
       "      <th>9998</th>\n",
       "      <td>9999</td>\n",
       "      <td>2020-05-25</td>\n",
       "      <td>2020-05-31</td>\n",
       "      <td>Bogotá</td>\n",
       "      <td>Suba</td>\n",
       "      <td>32</td>\n",
       "      <td>1</td>\n",
       "      <td>F</td>\n",
       "      <td>Relacionado</td>\n",
       "      <td>Casa</td>\n",
       "      <td>Recuperado</td>\n",
       "    </tr>\n",
       "  </tbody>\n",
       "</table>\n",
       "<p>9916 rows × 11 columns</p>\n",
       "</div>"
      ],
      "text/plain": [
       "      CASO FECHA_DE_INICIO_DE_SINTOMAS FECHA_DIAGNOSTICO  CIUDAD  \\\n",
       "0        1                  2020-02-26        2020-03-06  Bogotá   \n",
       "1        2                  2020-03-04        2020-03-10  Bogotá   \n",
       "2        3                  2020-03-07        2020-03-10  Bogotá   \n",
       "3        4                  2020-03-06        2020-03-12  Bogotá   \n",
       "4        5                  2020-03-06        2020-03-12  Bogotá   \n",
       "...    ...                         ...               ...     ...   \n",
       "9994  9995                  2020-05-29        2020-05-31  Bogotá   \n",
       "9995  9996                  2020-05-28        2020-05-31  Bogotá   \n",
       "9996  9997                  2020-05-27        2020-05-31  Bogotá   \n",
       "9997  9998                  2020-05-27        2020-05-31  Bogotá   \n",
       "9998  9999                  2020-05-25        2020-05-31  Bogotá   \n",
       "\n",
       "     LOCALIDAD_ASIS  EDAD  UNI_MED SEXO FUENTE_O_TIPO_DE_CONTAGIO UBICACION  \\\n",
       "0           Usaquén    19        1    F                 Importado      Casa   \n",
       "1          Engativá    22        1    F                 Importado      Casa   \n",
       "2          Engativá    28        1    F                 Importado      Casa   \n",
       "3          Fontibón    36        1    F                 Importado      Casa   \n",
       "4           Kennedy    42        1    F                 Importado      Casa   \n",
       "...             ...   ...      ...  ...                       ...       ...   \n",
       "9994        Kennedy    32        1    F               Relacionado      Casa   \n",
       "9995        Usaquén    70        1    F                En estudio      Casa   \n",
       "9996           Suba    32        1    F               Relacionado      Casa   \n",
       "9997           Suba     2        1    M               Relacionado      Casa   \n",
       "9998           Suba    32        1    F               Relacionado      Casa   \n",
       "\n",
       "          ESTADO  \n",
       "0     Recuperado  \n",
       "1     Recuperado  \n",
       "2     Recuperado  \n",
       "3     Recuperado  \n",
       "4     Recuperado  \n",
       "...          ...  \n",
       "9994  Recuperado  \n",
       "9995  Recuperado  \n",
       "9996  Recuperado  \n",
       "9997  Recuperado  \n",
       "9998  Recuperado  \n",
       "\n",
       "[9916 rows x 11 columns]"
      ]
     },
     "execution_count": 7,
     "metadata": {},
     "output_type": "execute_result"
    }
   ],
   "source": [
    "#Filtro (Fallecidos o recuperados)\n",
    "df = df[ (df['ESTADO'] == 'Fallecido') | (df['ESTADO'] == 'Recuperado') ]\n",
    "df"
   ]
  },
  {
   "cell_type": "code",
   "execution_count": 8,
   "id": "e035bddc",
   "metadata": {},
   "outputs": [
    {
     "data": {
      "text/plain": [
       "SEXO\n",
       "M    5130\n",
       "F    4786\n",
       "dtype: int64"
      ]
     },
     "execution_count": 8,
     "metadata": {},
     "output_type": "execute_result"
    }
   ],
   "source": [
    "df.value_counts(df['SEXO'])"
   ]
  },
  {
   "cell_type": "code",
   "execution_count": 9,
   "id": "93c7183d",
   "metadata": {},
   "outputs": [
    {
     "data": {
      "text/plain": [
       "ESTADO\n",
       "Recuperado    9584\n",
       "Fallecido      332\n",
       "dtype: int64"
      ]
     },
     "execution_count": 9,
     "metadata": {},
     "output_type": "execute_result"
    }
   ],
   "source": [
    "df.value_counts(df['ESTADO'])"
   ]
  },
  {
   "cell_type": "code",
   "execution_count": 10,
   "id": "aaaa80b7",
   "metadata": {},
   "outputs": [
    {
     "data": {
      "text/plain": [
       "9916"
      ]
     },
     "execution_count": 10,
     "metadata": {},
     "output_type": "execute_result"
    }
   ],
   "source": [
    "N = df.shape[0] #Total de individuos para la muestra\n",
    "N"
   ]
  },
  {
   "cell_type": "code",
   "execution_count": 11,
   "id": "10c26ba2",
   "metadata": {},
   "outputs": [],
   "source": [
    "NF = df.loc[ df['SEXO']=='F'].shape[0]\n",
    "NM = df.loc[ df['SEXO']=='M'].shape[0]\n",
    "PF = NF/N\n",
    "PM = NM/N"
   ]
  },
  {
   "cell_type": "code",
   "execution_count": 12,
   "id": "04f07c66",
   "metadata": {},
   "outputs": [
    {
     "name": "stdout",
     "output_type": "stream",
     "text": [
      "Frecuencia total: 9916 \n",
      "Frecuencia Relativa P(F): 0.4826542960871319 - ( 4786 )\n",
      "Frecuencia Relativa P(M): 0.517345703912868 - ( 5130 )\n",
      "Total P: 1.0\n"
     ]
    }
   ],
   "source": [
    "print(f\"Frecuencia total:\",N,f\"\\nFrecuencia Relativa P(F):\",PF,\"- (\",NF,f\")\\nFrecuencia Relativa P(M):\",PM,\"- (\",NM,f\")\\nTotal P:\",PF+PM)"
   ]
  },
  {
   "cell_type": "code",
   "execution_count": 13,
   "id": "fb31771f",
   "metadata": {},
   "outputs": [],
   "source": [
    "#Teorema de Bayes => Si ya la persona fallecio que probabilidad hay de que fue mujer o hombre"
   ]
  },
  {
   "cell_type": "code",
   "execution_count": 14,
   "id": "c38906c0",
   "metadata": {},
   "outputs": [
    {
     "data": {
      "text/plain": [
       "0.033481242436466316"
      ]
     },
     "execution_count": 14,
     "metadata": {},
     "output_type": "execute_result"
    }
   ],
   "source": [
    "#Probabilidad de fallecer\n",
    "mask1 = df['ESTADO'] == 'Fallecido'\n",
    "df1 = df.loc[mask1]\n",
    "NFa = df1.shape[0]\n",
    "PFa = NFa/N\n",
    "PFa"
   ]
  },
  {
   "cell_type": "code",
   "execution_count": 15,
   "id": "a8e5b32a",
   "metadata": {},
   "outputs": [
    {
     "data": {
      "text/plain": [
       "0.012807583703106092"
      ]
     },
     "execution_count": 15,
     "metadata": {},
     "output_type": "execute_result"
    }
   ],
   "source": [
    "mask2 = df['SEXO'] == 'F'\n",
    "df2 = df.loc[ mask1 & mask2 ]\n",
    "NFaF = df2.shape[0] #Numero de fallecidos que son mujer\n",
    "PFaF = NFaF/N\n",
    "PFaF"
   ]
  },
  {
   "cell_type": "code",
   "execution_count": 16,
   "id": "1924a35c",
   "metadata": {},
   "outputs": [
    {
     "data": {
      "text/plain": [
       "0.020673658733360224"
      ]
     },
     "execution_count": 16,
     "metadata": {},
     "output_type": "execute_result"
    }
   ],
   "source": [
    "mask3 = df['SEXO'] == 'M'\n",
    "df3 = df.loc[ mask1 & mask3 ]\n",
    "NFaM = df3.shape[0] #Numero de fallecidos que son hombre\n",
    "PFaM = NFaM/N\n",
    "PFaM"
   ]
  },
  {
   "cell_type": "markdown",
   "id": "831c255d",
   "metadata": {},
   "source": [
    "## Bayes - Teorema"
   ]
  },
  {
   "cell_type": "code",
   "execution_count": 17,
   "id": "e0339043",
   "metadata": {},
   "outputs": [
    {
     "data": {
      "text/plain": [
       "0.38253012048192775"
      ]
     },
     "execution_count": 17,
     "metadata": {},
     "output_type": "execute_result"
    }
   ],
   "source": [
    "#Bayes\n",
    "#Probabilidad que sea mujer dado que fallecio\n",
    "PFFa = PFaF/PFa\n",
    "PFFa"
   ]
  },
  {
   "cell_type": "code",
   "execution_count": 18,
   "id": "363bf716",
   "metadata": {},
   "outputs": [
    {
     "data": {
      "text/plain": [
       "0.6174698795180723"
      ]
     },
     "execution_count": 18,
     "metadata": {},
     "output_type": "execute_result"
    }
   ],
   "source": [
    "#Bayes\n",
    "#Probabilidad que sea hombre dado que fallecio\n",
    "PMFa = PFaM/PFa\n",
    "PMFa"
   ]
  },
  {
   "cell_type": "code",
   "execution_count": 22,
   "id": "92943c9d",
   "metadata": {},
   "outputs": [
    {
     "name": "stdout",
     "output_type": "stream",
     "text": [
      "Numero de fallecidos que son hombre: 205 \n",
      "Probabilidad de que un hombre fallece: 0.020673658733360224 \n",
      "\n",
      "Numero de fallecidos que son mujer: 127 \n",
      "Probabilidad de que una mujer fallece: 0.012807583703106092 \n",
      "\n",
      "Probabilidad que sea mujer dado que fallecio (TEOREMA-BAYES) 0.38253012048192775 \n",
      "Probabilidad que sea hombre dado que fallecio (TEOREMA-BAYES) 0.6174698795180723 \n",
      "Total P: 1.0\n"
     ]
    }
   ],
   "source": [
    "print(f\"Numero de fallecidos que son hombre:\",NFaM,f\"\\nProbabilidad de que un hombre fallece:\",PFaM,f\"\\n\\nNumero de fallecidos que son mujer:\",NFaF,f\"\\nProbabilidad de que una mujer fallece:\",PFaF,f\"\\n\\nProbabilidad que sea mujer dado que fallecio (TEOREMA-BAYES)\",PFFa,f\"\\nProbabilidad que sea hombre dado que fallecio (TEOREMA-BAYES)\",PMFa,f\"\\nTotal P:\",PFFa+PMFa)"
   ]
  },
  {
   "cell_type": "markdown",
   "id": "66544fbc",
   "metadata": {},
   "source": [
    "$$ P(M/Fa) = \\frac{ P(Fa /M)P(M) }{P(Fa)} = \\frac{ P(Fa \\cap M }{P(Fa)} $$"
   ]
  },
  {
   "cell_type": "code",
   "execution_count": null,
   "id": "494ce05e",
   "metadata": {},
   "outputs": [],
   "source": []
  }
 ],
 "metadata": {
  "kernelspec": {
   "display_name": "Python 3 (ipykernel)",
   "language": "python",
   "name": "python3"
  },
  "language_info": {
   "codemirror_mode": {
    "name": "ipython",
    "version": 3
   },
   "file_extension": ".py",
   "mimetype": "text/x-python",
   "name": "python",
   "nbconvert_exporter": "python",
   "pygments_lexer": "ipython3",
   "version": "3.10.9"
  }
 },
 "nbformat": 4,
 "nbformat_minor": 5
}
