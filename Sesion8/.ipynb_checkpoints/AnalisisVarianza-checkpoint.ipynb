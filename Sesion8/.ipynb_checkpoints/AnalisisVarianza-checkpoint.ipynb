{
 "cells": [
  {
   "cell_type": "code",
   "execution_count": 2,
   "id": "0bedfc60",
   "metadata": {},
   "outputs": [],
   "source": [
    "import numpy as np\n",
    "import matplotlib.pyplot as plt\n",
    "from matplotlib import rc\n",
    "import pandas as pd\n",
    "from scipy.stats import chi2\n",
    "from scipy.stats import norm"
   ]
  },
  {
   "cell_type": "code",
   "execution_count": 11,
   "id": "8189e4a4",
   "metadata": {},
   "outputs": [
    {
     "data": {
      "text/html": [
       "<div>\n",
       "<style scoped>\n",
       "    .dataframe tbody tr th:only-of-type {\n",
       "        vertical-align: middle;\n",
       "    }\n",
       "\n",
       "    .dataframe tbody tr th {\n",
       "        vertical-align: top;\n",
       "    }\n",
       "\n",
       "    .dataframe thead th {\n",
       "        text-align: right;\n",
       "    }\n",
       "</style>\n",
       "<table border=\"1\" class=\"dataframe\">\n",
       "  <thead>\n",
       "    <tr style=\"text-align: right;\">\n",
       "      <th></th>\n",
       "      <th>A</th>\n",
       "      <th>B</th>\n",
       "      <th>C</th>\n",
       "    </tr>\n",
       "  </thead>\n",
       "  <tbody>\n",
       "    <tr>\n",
       "      <th>count</th>\n",
       "      <td>2.000000</td>\n",
       "      <td>2.000000</td>\n",
       "      <td>2.000000</td>\n",
       "    </tr>\n",
       "    <tr>\n",
       "      <th>mean</th>\n",
       "      <td>17.000000</td>\n",
       "      <td>10.500000</td>\n",
       "      <td>22.500000</td>\n",
       "    </tr>\n",
       "    <tr>\n",
       "      <th>std</th>\n",
       "      <td>8.485281</td>\n",
       "      <td>6.363961</td>\n",
       "      <td>16.263456</td>\n",
       "    </tr>\n",
       "    <tr>\n",
       "      <th>min</th>\n",
       "      <td>11.000000</td>\n",
       "      <td>6.000000</td>\n",
       "      <td>11.000000</td>\n",
       "    </tr>\n",
       "    <tr>\n",
       "      <th>25%</th>\n",
       "      <td>14.000000</td>\n",
       "      <td>8.250000</td>\n",
       "      <td>16.750000</td>\n",
       "    </tr>\n",
       "    <tr>\n",
       "      <th>50%</th>\n",
       "      <td>17.000000</td>\n",
       "      <td>10.500000</td>\n",
       "      <td>22.500000</td>\n",
       "    </tr>\n",
       "    <tr>\n",
       "      <th>75%</th>\n",
       "      <td>20.000000</td>\n",
       "      <td>12.750000</td>\n",
       "      <td>28.250000</td>\n",
       "    </tr>\n",
       "    <tr>\n",
       "      <th>max</th>\n",
       "      <td>23.000000</td>\n",
       "      <td>15.000000</td>\n",
       "      <td>34.000000</td>\n",
       "    </tr>\n",
       "  </tbody>\n",
       "</table>\n",
       "</div>"
      ],
      "text/plain": [
       "               A          B          C\n",
       "count   2.000000   2.000000   2.000000\n",
       "mean   17.000000  10.500000  22.500000\n",
       "std     8.485281   6.363961  16.263456\n",
       "min    11.000000   6.000000  11.000000\n",
       "25%    14.000000   8.250000  16.750000\n",
       "50%    17.000000  10.500000  22.500000\n",
       "75%    20.000000  12.750000  28.250000\n",
       "max    23.000000  15.000000  34.000000"
      ]
     },
     "execution_count": 11,
     "metadata": {},
     "output_type": "execute_result"
    }
   ],
   "source": [
    "data = pd.read_csv('Database/Presidente.csv',sep=',')\n",
    "data.describe()"
   ]
  },
  {
   "cell_type": "code",
   "execution_count": 24,
   "id": "be0f18f4",
   "metadata": {},
   "outputs": [],
   "source": [
    "fo = np.array ( data, np.float64) #Frecuencia Observada\n",
    "N = np.sum(fo)"
   ]
  },
  {
   "cell_type": "markdown",
   "id": "01440fbf",
   "metadata": {},
   "source": [
    "Marginal $$ g(x) $$"
   ]
  },
  {
   "cell_type": "code",
   "execution_count": 25,
   "id": "78c802c7",
   "metadata": {},
   "outputs": [
    {
     "data": {
      "text/plain": [
       "array([0.6, 0.4])"
      ]
     },
     "execution_count": 25,
     "metadata": {},
     "output_type": "execute_result"
    }
   ],
   "source": [
    "g = np.sum( fo , axis = 1 ) / N\n",
    "g"
   ]
  },
  {
   "cell_type": "markdown",
   "id": "ff4ebe99",
   "metadata": {},
   "source": [
    "Marginal $$ h(y) $$"
   ]
  },
  {
   "cell_type": "code",
   "execution_count": 26,
   "id": "ffc26d58",
   "metadata": {},
   "outputs": [
    {
     "data": {
      "text/plain": [
       "array([0.34, 0.21, 0.45])"
      ]
     },
     "execution_count": 26,
     "metadata": {},
     "output_type": "execute_result"
    }
   ],
   "source": [
    "h = np.sum( fo , axis = 0 ) / N\n",
    "h"
   ]
  },
  {
   "cell_type": "code",
   "execution_count": 27,
   "id": "01941271",
   "metadata": {},
   "outputs": [],
   "source": [
    "# definimos la densidad de probabilidad conjuntam, si son independientes"
   ]
  },
  {
   "cell_type": "code",
   "execution_count": 28,
   "id": "4890c8a6",
   "metadata": {},
   "outputs": [],
   "source": [
    "P0 = np.zeros_like(fo)"
   ]
  },
  {
   "cell_type": "code",
   "execution_count": 29,
   "id": "f6dd6e82",
   "metadata": {},
   "outputs": [
    {
     "data": {
      "text/plain": [
       "array([[0.204, 0.126, 0.27 ],\n",
       "       [0.136, 0.084, 0.18 ]])"
      ]
     },
     "execution_count": 29,
     "metadata": {},
     "output_type": "execute_result"
    }
   ],
   "source": [
    "for i in range (len(g)):# itero a lo largo del eje 0\n",
    "    for j in range(len(h)):\n",
    "        P0[i,j]= g[i]*h[j]\n",
    "    \n",
    "P0    "
   ]
  },
  {
   "cell_type": "code",
   "execution_count": 30,
   "id": "74907933",
   "metadata": {},
   "outputs": [],
   "source": [
    "# como calculo la frecuencia esperada ?\n",
    "fe = P0 * N"
   ]
  },
  {
   "cell_type": "code",
   "execution_count": 31,
   "id": "f9d660bc",
   "metadata": {},
   "outputs": [
    {
     "data": {
      "text/plain": [
       "array([[20.4, 12.6, 27. ],\n",
       "       [13.6,  8.4, 18. ]])"
      ]
     },
     "execution_count": 31,
     "metadata": {},
     "output_type": "execute_result"
    }
   ],
   "source": [
    "fe"
   ]
  },
  {
   "cell_type": "code",
   "execution_count": 32,
   "id": "ffa94ad1",
   "metadata": {},
   "outputs": [
    {
     "data": {
      "text/plain": [
       "array([[11., 15., 34.],\n",
       "       [23.,  6., 11.]])"
      ]
     },
     "execution_count": 32,
     "metadata": {},
     "output_type": "execute_result"
    }
   ],
   "source": [
    "fo"
   ]
  },
  {
   "cell_type": "code",
   "execution_count": 33,
   "id": "0d5b2b0b",
   "metadata": {},
   "outputs": [],
   "source": [
    "#Con eso podemos decir que NO son INDEPENDIENTES \n",
    "#Calcular el Chi2 "
   ]
  },
  {
   "cell_type": "code",
   "execution_count": 34,
   "id": "1abb41e5",
   "metadata": {},
   "outputs": [],
   "source": [
    "def GetChi2(x,y):\n",
    "    return np.sum((x-y)**2/y)"
   ]
  },
  {
   "cell_type": "code",
   "execution_count": 35,
   "id": "8431b93c",
   "metadata": {},
   "outputs": [],
   "source": [
    "ObsChi2 = GetChi2(fo,fe)"
   ]
  },
  {
   "cell_type": "code",
   "execution_count": 36,
   "id": "76aa0923",
   "metadata": {},
   "outputs": [
    {
     "data": {
      "text/plain": [
       "16.5083255524432"
      ]
     },
     "execution_count": 36,
     "metadata": {},
     "output_type": "execute_result"
    }
   ],
   "source": [
    "ObsChi2"
   ]
  },
  {
   "cell_type": "markdown",
   "id": "c1b03f19",
   "metadata": {},
   "source": [
    "grados de libertad de una tabla de contingencia : \n",
    "Numero de columnas y le quitamos 1\n",
    "\n",
    "\n",
    "2 x 3 \n",
    "2 - 1 = 1 \n",
    "3 - 1 = 2\n",
    "\n",
    "2\n",
    "\n",
    "3 x 3 \n",
    "3 - 1 = 2\n",
    "3 - 1 = 2\n",
    "\n",
    "4"
   ]
  },
  {
   "cell_type": "code",
   "execution_count": 38,
   "id": "7a7f27bf",
   "metadata": {},
   "outputs": [
    {
     "data": {
      "text/plain": [
       "5.991464547107979"
      ]
     },
     "execution_count": 38,
     "metadata": {},
     "output_type": "execute_result"
    }
   ],
   "source": [
    "#Grados de Libertad\n",
    "df = 2\n",
    "CriChi2 = chi2.ppf(0.95,df=df)\n",
    "CriChi2"
   ]
  },
  {
   "cell_type": "code",
   "execution_count": 41,
   "id": "6e0d7a41",
   "metadata": {},
   "outputs": [
    {
     "data": {
      "text/plain": [
       "<matplotlib.lines.Line2D at 0x25342435300>"
      ]
     },
     "execution_count": 41,
     "metadata": {},
     "output_type": "execute_result"
    },
    {
     "data": {
      "image/png": "[encoded data removed]",
      "text/plain": [
       "<Figure size 640x480 with 1 Axes>"
      ]
     },
     "metadata": {},
     "output_type": "display_data"
    }
   ],
   "source": [
    "x = np.linspace(0,20,100)\n",
    "plt.plot(x,chi2.pdf(x,df=df))\n",
    "plt.axvline(x=CriChi2, color='r')\n",
    "plt.axvline(x=ObsChi2, color='k')"
   ]
  },
  {
   "cell_type": "code",
   "execution_count": 42,
   "id": "3fa61821",
   "metadata": {},
   "outputs": [
    {
     "data": {
      "text/plain": [
       "0.000260173256890206"
      ]
     },
     "execution_count": 42,
     "metadata": {},
     "output_type": "execute_result"
    }
   ],
   "source": [
    "# data la ho cual es la probabildad de haber observados (si son indepiendiente) cumulative distribution function\n",
    "pvalue = 1-chi2.cdf(ObsChi2,df=df)\n",
    "pvalue"
   ]
  },
  {
   "cell_type": "code",
   "execution_count": null,
   "id": "5cedbefa",
   "metadata": {},
   "outputs": [],
   "source": []
  }
 ],
 "metadata": {
  "kernelspec": {
   "display_name": "Python 3 (ipykernel)",
   "language": "python",
   "name": "python3"
  },
  "language_info": {
   "codemirror_mode": {
    "name": "ipython",
    "version": 3
   },
   "file_extension": ".py",
   "mimetype": "text/x-python",
   "name": "python",
   "nbconvert_exporter": "python",
   "pygments_lexer": "ipython3",
   "version": "3.10.9"
  }
 },
 "nbformat": 4,
 "nbformat_minor": 5
}
