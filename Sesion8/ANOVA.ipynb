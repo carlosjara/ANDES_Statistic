{
 "cells": [
  {
   "cell_type": "code",
   "execution_count": 60,
   "id": "3a084a2c",
   "metadata": {},
   "outputs": [],
   "source": [
    "import numpy as np\n",
    "import matplotlib.pyplot as plt\n",
    "import pandas as pd\n",
    "from scipy.stats import f"
   ]
  },
  {
   "cell_type": "markdown",
   "id": "04dff083",
   "metadata": {},
   "source": [
    "Suma total de todos los datos\n",
    "\n",
    "$$ X = \\sum_{i=1}^{k} \\sum_{j=1}^{n} x_{ij} $$\n",
    "\n",
    "Factor de Corrección ($N$ total de datos)\n",
    "\n",
    "$$  F_{c} = \\frac{X^{2}}{N} $$\n",
    "\n",
    "Suma de cuadrados totales\n",
    "\n",
    "$$ SCT = \\sum_{i=1}^{k} \\sum_{j=1}^{n} x_{ij}^{2} - Fc  $$\n",
    "\n",
    "Suma cuadrados dividido el número de observacion de cada experimentos\n",
    "\n",
    "$$ SC = \\sum_{i=1}^{k} \\frac{X_{i}^{2}}{n_{i}} - Fc$$\n",
    "\n",
    "Suma cuadrados  del error\n",
    "\n",
    "$$ SCE = SCT - SC $$\n",
    "\n",
    "Experimento tiene $k-1$ grados de libertad, los cuadrados medios son:\n",
    "\n",
    "$$ CM = SC/(k-1)  $$\n",
    "\n",
    "Los cuadrados medios tienen $n-k$ grados de libertad, el errores de los cuadrados medios son:\n",
    "\n",
    "$$ CME = SCE/(n-k)  $$\n",
    "\n",
    "El estadistico de prueba sigue una distribución F Fisher\n",
    "\n",
    "$$ F = \\frac{CM}{CME} $$"
   ]
  },
  {
   "cell_type": "markdown",
   "id": "0c6bb430",
   "metadata": {},
   "source": []
  },
  {
   "cell_type": "code",
   "execution_count": 5,
   "id": "4f909b48",
   "metadata": {},
   "outputs": [],
   "source": [
    "dfn, dfd = 2,12\n",
    "x = np.linspace(0,5,20)\n",
    "y = f.pdf(x,dfn,dfd)"
   ]
  },
  {
   "cell_type": "code",
   "execution_count": 8,
   "id": "49e656d7",
   "metadata": {},
   "outputs": [
    {
     "data": {
      "text/plain": [
       "3.8852938346523933"
      ]
     },
     "execution_count": 8,
     "metadata": {},
     "output_type": "execute_result"
    }
   ],
   "source": [
    "FCritica = f.ppf(0.95,dfn,dfd) #valor dominio en cual la probabildiad es 95% ppf y cuando quiero ver el valor cdf\n",
    "FCritica"
   ]
  },
  {
   "cell_type": "code",
   "execution_count": 10,
   "id": "6fe3e124",
   "metadata": {},
   "outputs": [
    {
     "data": {
      "text/plain": [
       "<matplotlib.lines.Line2D at 0x18a2eedc0d0>"
      ]
     },
     "execution_count": 10,
     "metadata": {},
     "output_type": "execute_result"
    },
    {
     "data": {
      "image/png": "[encoded data removed]",
      "text/plain": [
       "<Figure size 640x480 with 1 Axes>"
      ]
     },
     "metadata": {},
     "output_type": "display_data"
    }
   ],
   "source": [
    "plt.plot(x,y)\n",
    "plt.axvline(x=FCritica,color='r')\n",
    "# si los valores dan mas de 3.8 rechazamos la hipotesis o independencia"
   ]
  },
  {
   "cell_type": "markdown",
   "id": "f98d9787",
   "metadata": {},
   "source": [
    "Supongamos que 3 formulas de secado de semento se estudian una construccion, pruebe si existe una diferencia significativa de las 3 formulas usando los sgtes datos\n",
    "¿Los tiempos de curado EN PROMEDIO son iguales?"
   ]
  },
  {
   "cell_type": "code",
   "execution_count": 11,
   "id": "6da11df6",
   "metadata": {},
   "outputs": [],
   "source": [
    "x = np.array([13,11,8,11,8])\n",
    "y = np.array([13,11,14,14,10])\n",
    "z = np.array([4,1,3,4,2])"
   ]
  },
  {
   "cell_type": "code",
   "execution_count": 16,
   "id": "fa1a8d90",
   "metadata": {},
   "outputs": [],
   "source": [
    "df = pd.DataFrame ({'x':x,'y':y,'z':z})"
   ]
  },
  {
   "cell_type": "code",
   "execution_count": 17,
   "id": "ab9512a3",
   "metadata": {},
   "outputs": [
    {
     "data": {
      "text/html": [
       "<div>\n",
       "<style scoped>\n",
       "    .dataframe tbody tr th:only-of-type {\n",
       "        vertical-align: middle;\n",
       "    }\n",
       "\n",
       "    .dataframe tbody tr th {\n",
       "        vertical-align: top;\n",
       "    }\n",
       "\n",
       "    .dataframe thead th {\n",
       "        text-align: right;\n",
       "    }\n",
       "</style>\n",
       "<table border=\"1\" class=\"dataframe\">\n",
       "  <thead>\n",
       "    <tr style=\"text-align: right;\">\n",
       "      <th></th>\n",
       "      <th>x</th>\n",
       "      <th>y</th>\n",
       "      <th>z</th>\n",
       "    </tr>\n",
       "  </thead>\n",
       "  <tbody>\n",
       "    <tr>\n",
       "      <th>0</th>\n",
       "      <td>13</td>\n",
       "      <td>13</td>\n",
       "      <td>4</td>\n",
       "    </tr>\n",
       "    <tr>\n",
       "      <th>1</th>\n",
       "      <td>11</td>\n",
       "      <td>11</td>\n",
       "      <td>1</td>\n",
       "    </tr>\n",
       "    <tr>\n",
       "      <th>2</th>\n",
       "      <td>8</td>\n",
       "      <td>14</td>\n",
       "      <td>3</td>\n",
       "    </tr>\n",
       "    <tr>\n",
       "      <th>3</th>\n",
       "      <td>11</td>\n",
       "      <td>14</td>\n",
       "      <td>4</td>\n",
       "    </tr>\n",
       "    <tr>\n",
       "      <th>4</th>\n",
       "      <td>8</td>\n",
       "      <td>10</td>\n",
       "      <td>2</td>\n",
       "    </tr>\n",
       "  </tbody>\n",
       "</table>\n",
       "</div>"
      ],
      "text/plain": [
       "    x   y  z\n",
       "0  13  13  4\n",
       "1  11  11  1\n",
       "2   8  14  3\n",
       "3  11  14  4\n",
       "4   8  10  2"
      ]
     },
     "execution_count": 17,
     "metadata": {},
     "output_type": "execute_result"
    }
   ],
   "source": [
    "df"
   ]
  },
  {
   "cell_type": "code",
   "execution_count": 19,
   "id": "d427a614",
   "metadata": {},
   "outputs": [
    {
     "data": {
      "text/plain": [
       "15"
      ]
     },
     "execution_count": 19,
     "metadata": {},
     "output_type": "execute_result"
    }
   ],
   "source": [
    "#Como hacer el analisis de ANOVA para la medias de tiempos de curado\n",
    "N=df.shape[0]*df.shape[1]\n",
    "N"
   ]
  },
  {
   "cell_type": "code",
   "execution_count": 24,
   "id": "8f4c672e",
   "metadata": {},
   "outputs": [
    {
     "data": {
      "text/plain": [
       "127"
      ]
     },
     "execution_count": 24,
     "metadata": {},
     "output_type": "execute_result"
    }
   ],
   "source": [
    "subtotal = np.sum( df , axis = 0 ) \n",
    "Total = np.sum(subtotal)\n",
    "Total"
   ]
  },
  {
   "cell_type": "code",
   "execution_count": 25,
   "id": "c38ff0b8",
   "metadata": {},
   "outputs": [],
   "source": [
    "#Factor de correccion\n",
    "Fc = Total**2/N"
   ]
  },
  {
   "cell_type": "code",
   "execution_count": 23,
   "id": "99ce55ab",
   "metadata": {},
   "outputs": [
    {
     "data": {
      "text/plain": [
       "1075.2666666666667"
      ]
     },
     "execution_count": 23,
     "metadata": {},
     "output_type": "execute_result"
    }
   ],
   "source": [
    "Fc"
   ]
  },
  {
   "cell_type": "code",
   "execution_count": 27,
   "id": "ad85811d",
   "metadata": {},
   "outputs": [],
   "source": [
    "SCT = np.sum(df.x**2 +df.y**2 +df.z**2 )"
   ]
  },
  {
   "cell_type": "code",
   "execution_count": 28,
   "id": "536c374f",
   "metadata": {},
   "outputs": [
    {
     "data": {
      "text/plain": [
       "1367"
      ]
     },
     "execution_count": 28,
     "metadata": {},
     "output_type": "execute_result"
    }
   ],
   "source": [
    "SCT"
   ]
  },
  {
   "cell_type": "code",
   "execution_count": 29,
   "id": "d42dd5ea",
   "metadata": {},
   "outputs": [],
   "source": [
    "SCT = SCT - Fc"
   ]
  },
  {
   "cell_type": "code",
   "execution_count": 30,
   "id": "855bb933",
   "metadata": {},
   "outputs": [
    {
     "data": {
      "text/plain": [
       "291.73333333333335"
      ]
     },
     "execution_count": 30,
     "metadata": {},
     "output_type": "execute_result"
    }
   ],
   "source": [
    "SCT"
   ]
  },
  {
   "cell_type": "code",
   "execution_count": 39,
   "id": "70721463",
   "metadata": {},
   "outputs": [],
   "source": [
    "SC = np.sum( np.sum(df.x)**2/df.shape[0] + np.sum(df.y)**2/df.shape[0] + np.sum(df.z)**2/df.shape[0])"
   ]
  },
  {
   "cell_type": "code",
   "execution_count": 40,
   "id": "8f7eb154",
   "metadata": {},
   "outputs": [],
   "source": [
    "SC -=Fc"
   ]
  },
  {
   "cell_type": "code",
   "execution_count": 41,
   "id": "b3b71d96",
   "metadata": {},
   "outputs": [
    {
     "data": {
      "text/plain": [
       "252.9333333333334"
      ]
     },
     "execution_count": 41,
     "metadata": {},
     "output_type": "execute_result"
    }
   ],
   "source": [
    "SC"
   ]
  },
  {
   "cell_type": "code",
   "execution_count": 42,
   "id": "2263b95f",
   "metadata": {},
   "outputs": [],
   "source": [
    "SCE = SCT - SC"
   ]
  },
  {
   "cell_type": "code",
   "execution_count": 43,
   "id": "25f35d55",
   "metadata": {},
   "outputs": [
    {
     "data": {
      "text/plain": [
       "38.799999999999955"
      ]
     },
     "execution_count": 43,
     "metadata": {},
     "output_type": "execute_result"
    }
   ],
   "source": [
    "SCE"
   ]
  },
  {
   "cell_type": "code",
   "execution_count": 44,
   "id": "b8640601",
   "metadata": {},
   "outputs": [],
   "source": [
    "k = 3\n",
    "dfn,dfd = k-1,N-k"
   ]
  },
  {
   "cell_type": "code",
   "execution_count": 45,
   "id": "a3e8de80",
   "metadata": {},
   "outputs": [
    {
     "data": {
      "text/plain": [
       "(2, 12)"
      ]
     },
     "execution_count": 45,
     "metadata": {},
     "output_type": "execute_result"
    }
   ],
   "source": [
    "dfn,dfd"
   ]
  },
  {
   "cell_type": "code",
   "execution_count": 46,
   "id": "cc89fa6d",
   "metadata": {},
   "outputs": [],
   "source": [
    "CM = SC/(k-1)"
   ]
  },
  {
   "cell_type": "code",
   "execution_count": 47,
   "id": "5f082564",
   "metadata": {},
   "outputs": [
    {
     "data": {
      "text/plain": [
       "126.4666666666667"
      ]
     },
     "execution_count": 47,
     "metadata": {},
     "output_type": "execute_result"
    }
   ],
   "source": [
    "CM"
   ]
  },
  {
   "cell_type": "code",
   "execution_count": 48,
   "id": "5a13636e",
   "metadata": {},
   "outputs": [],
   "source": [
    "CME = SCE/dfd"
   ]
  },
  {
   "cell_type": "code",
   "execution_count": 49,
   "id": "8fe8f4d0",
   "metadata": {},
   "outputs": [
    {
     "data": {
      "text/plain": [
       "3.2333333333333294"
      ]
     },
     "execution_count": 49,
     "metadata": {},
     "output_type": "execute_result"
    }
   ],
   "source": [
    "CME"
   ]
  },
  {
   "cell_type": "code",
   "execution_count": 52,
   "id": "ef1e2a0d",
   "metadata": {},
   "outputs": [],
   "source": [
    "Fobs= CM/CME #Estimador de Fisher Observador"
   ]
  },
  {
   "cell_type": "code",
   "execution_count": 53,
   "id": "811db2e5",
   "metadata": {},
   "outputs": [
    {
     "data": {
      "text/plain": [
       "39.11340206185573"
      ]
     },
     "execution_count": 53,
     "metadata": {},
     "output_type": "execute_result"
    }
   ],
   "source": [
    "Fobs"
   ]
  },
  {
   "cell_type": "code",
   "execution_count": 56,
   "id": "e65cd722",
   "metadata": {},
   "outputs": [
    {
     "data": {
      "text/plain": [
       "<matplotlib.lines.Line2D at 0x18a33128670>"
      ]
     },
     "execution_count": 56,
     "metadata": {},
     "output_type": "execute_result"
    },
    {
     "data": {
      "image/png": "[encoded data removed]",
      "text/plain": [
       "<Figure size 640x480 with 1 Axes>"
      ]
     },
     "metadata": {},
     "output_type": "display_data"
    }
   ],
   "source": [
    "x = np.linspace(0,5,20)\n",
    "y = f.pdf(x,dfn,dfd)\n",
    "FCritica = f.ppf(0.95,dfn,dfd) #valor dominio en cual la probabildiad es 95% ppf y cuando quiero ver el valor cdf\n",
    "FCritica\n",
    "plt.plot(x,y)\n",
    "plt.axvline(x=FCritica,color='r')\n",
    "plt.axvline(x=Fobs,color='k')"
   ]
  },
  {
   "cell_type": "code",
   "execution_count": 59,
   "id": "13ada4d6",
   "metadata": {},
   "outputs": [
    {
     "data": {
      "text/plain": [
       "5.534444389110327e-06"
      ]
     },
     "execution_count": 59,
     "metadata": {},
     "output_type": "execute_result"
    }
   ],
   "source": [
    "CL  = f.cdf(Fobs,dfn,dfd)\n",
    "pvalue = 1 - CL\n",
    "pvalue"
   ]
  },
  {
   "cell_type": "code",
   "execution_count": 61,
   "id": "28ef18e3",
   "metadata": {},
   "outputs": [],
   "source": [
    "from scipy.stats import stats"
   ]
  },
  {
   "cell_type": "code",
   "execution_count": 63,
   "id": "3a89a9cf",
   "metadata": {},
   "outputs": [
    {
     "name": "stderr",
     "output_type": "stream",
     "text": [
      "C:\\Users\\CARLOS\\AppData\\Local\\Temp\\ipykernel_25952\\912540756.py:1: DeprecationWarning: Please use `f_oneway` from the `scipy.stats` namespace, the `scipy.stats.stats` namespace is deprecated.\n",
      "  fvalue, pvalue  = stats.f_oneway(df['x'],df['y'],df['z'])\n"
     ]
    }
   ],
   "source": [
    "fvalue, pvalue  = stats.f_oneway(df['x'],df['y'],df['z'])"
   ]
  },
  {
   "cell_type": "code",
   "execution_count": 67,
   "id": "4fb46af7",
   "metadata": {},
   "outputs": [
    {
     "data": {
      "text/plain": [
       "(39.11340206185566, 5.5344443890614115e-06)"
      ]
     },
     "execution_count": 67,
     "metadata": {},
     "output_type": "execute_result"
    }
   ],
   "source": [
    "fvalue, pvalue #si pvalue es menor al 5% rechazamos"
   ]
  },
  {
   "cell_type": "code",
   "execution_count": 69,
   "id": "f797cc93",
   "metadata": {},
   "outputs": [
    {
     "name": "stderr",
     "output_type": "stream",
     "text": [
      "C:\\Users\\CARLOS\\AppData\\Local\\Temp\\ipykernel_25952\\154582868.py:1: DeprecationWarning: Please use `f_oneway` from the `scipy.stats` namespace, the `scipy.stats.stats` namespace is deprecated.\n",
      "  fvalue, pvalue  = stats.f_oneway(df['z'],df['y'])\n"
     ]
    },
    {
     "data": {
      "text/plain": [
       "(92.16, 1.1502980007209628e-05)"
      ]
     },
     "execution_count": 69,
     "metadata": {},
     "output_type": "execute_result"
    }
   ],
   "source": [
    "fvalue, pvalue  = stats.f_oneway(df['z'],df['y'])\n",
    "fvalue, pvalue"
   ]
  },
  {
   "cell_type": "code",
   "execution_count": null,
   "id": "c296d0db",
   "metadata": {},
   "outputs": [],
   "source": []
  }
 ],
 "metadata": {
  "kernelspec": {
   "display_name": "Python 3 (ipykernel)",
   "language": "python",
   "name": "python3"
  },
  "language_info": {
   "codemirror_mode": {
    "name": "ipython",
    "version": 3
   },
   "file_extension": ".py",
   "mimetype": "text/x-python",
   "name": "python",
   "nbconvert_exporter": "python",
   "pygments_lexer": "ipython3",
   "version": "3.10.9"
  }
 },
 "nbformat": 4,
 "nbformat_minor": 5
}
