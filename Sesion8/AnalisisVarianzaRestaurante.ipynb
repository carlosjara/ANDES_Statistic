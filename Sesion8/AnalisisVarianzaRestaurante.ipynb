{
 "cells": [
  {
   "cell_type": "code",
   "execution_count": 1,
   "id": "48c06401",
   "metadata": {},
   "outputs": [],
   "source": [
    "import numpy as np\n",
    "import matplotlib.pyplot as plt\n",
    "from matplotlib import rc\n",
    "import pandas as pd\n",
    "from scipy.stats import chi2\n",
    "from scipy.stats import norm"
   ]
  },
  {
   "cell_type": "code",
   "execution_count": 3,
   "id": "5b3bf58b",
   "metadata": {},
   "outputs": [
    {
     "data": {
      "text/html": [
       "<div>\n",
       "<style scoped>\n",
       "    .dataframe tbody tr th:only-of-type {\n",
       "        vertical-align: middle;\n",
       "    }\n",
       "\n",
       "    .dataframe tbody tr th {\n",
       "        vertical-align: top;\n",
       "    }\n",
       "\n",
       "    .dataframe thead th {\n",
       "        text-align: right;\n",
       "    }\n",
       "</style>\n",
       "<table border=\"1\" class=\"dataframe\">\n",
       "  <thead>\n",
       "    <tr style=\"text-align: right;\">\n",
       "      <th></th>\n",
       "      <th>Precio1</th>\n",
       "      <th>Precio2</th>\n",
       "      <th>Precio3</th>\n",
       "    </tr>\n",
       "  </thead>\n",
       "  <tbody>\n",
       "    <tr>\n",
       "      <th>count</th>\n",
       "      <td>3.000000</td>\n",
       "      <td>3.0</td>\n",
       "      <td>3.000000</td>\n",
       "    </tr>\n",
       "    <tr>\n",
       "      <th>mean</th>\n",
       "      <td>40.000000</td>\n",
       "      <td>60.0</td>\n",
       "      <td>56.666667</td>\n",
       "    </tr>\n",
       "    <tr>\n",
       "      <th>std</th>\n",
       "      <td>2.645751</td>\n",
       "      <td>5.0</td>\n",
       "      <td>5.686241</td>\n",
       "    </tr>\n",
       "    <tr>\n",
       "      <th>min</th>\n",
       "      <td>38.000000</td>\n",
       "      <td>55.0</td>\n",
       "      <td>52.000000</td>\n",
       "    </tr>\n",
       "    <tr>\n",
       "      <th>25%</th>\n",
       "      <td>38.500000</td>\n",
       "      <td>57.5</td>\n",
       "      <td>53.500000</td>\n",
       "    </tr>\n",
       "    <tr>\n",
       "      <th>50%</th>\n",
       "      <td>39.000000</td>\n",
       "      <td>60.0</td>\n",
       "      <td>55.000000</td>\n",
       "    </tr>\n",
       "    <tr>\n",
       "      <th>75%</th>\n",
       "      <td>41.000000</td>\n",
       "      <td>62.5</td>\n",
       "      <td>59.000000</td>\n",
       "    </tr>\n",
       "    <tr>\n",
       "      <th>max</th>\n",
       "      <td>43.000000</td>\n",
       "      <td>65.0</td>\n",
       "      <td>63.000000</td>\n",
       "    </tr>\n",
       "  </tbody>\n",
       "</table>\n",
       "</div>"
      ],
      "text/plain": [
       "         Precio1  Precio2    Precio3\n",
       "count   3.000000      3.0   3.000000\n",
       "mean   40.000000     60.0  56.666667\n",
       "std     2.645751      5.0   5.686241\n",
       "min    38.000000     55.0  52.000000\n",
       "25%    38.500000     57.5  53.500000\n",
       "50%    39.000000     60.0  55.000000\n",
       "75%    41.000000     62.5  59.000000\n",
       "max    43.000000     65.0  63.000000"
      ]
     },
     "execution_count": 3,
     "metadata": {},
     "output_type": "execute_result"
    }
   ],
   "source": [
    "data = pd.read_csv('Database/Restaurante.csv',sep=',')\n",
    "data.describe()"
   ]
  },
  {
   "cell_type": "code",
   "execution_count": 4,
   "id": "a7054923",
   "metadata": {},
   "outputs": [
    {
     "data": {
      "text/html": [
       "<div>\n",
       "<style scoped>\n",
       "    .dataframe tbody tr th:only-of-type {\n",
       "        vertical-align: middle;\n",
       "    }\n",
       "\n",
       "    .dataframe tbody tr th {\n",
       "        vertical-align: top;\n",
       "    }\n",
       "\n",
       "    .dataframe thead th {\n",
       "        text-align: right;\n",
       "    }\n",
       "</style>\n",
       "<table border=\"1\" class=\"dataframe\">\n",
       "  <thead>\n",
       "    <tr style=\"text-align: right;\">\n",
       "      <th></th>\n",
       "      <th>Precio1</th>\n",
       "      <th>Precio2</th>\n",
       "      <th>Precio3</th>\n",
       "    </tr>\n",
       "  </thead>\n",
       "  <tbody>\n",
       "    <tr>\n",
       "      <th>0</th>\n",
       "      <td>38</td>\n",
       "      <td>55</td>\n",
       "      <td>52</td>\n",
       "    </tr>\n",
       "    <tr>\n",
       "      <th>1</th>\n",
       "      <td>39</td>\n",
       "      <td>65</td>\n",
       "      <td>55</td>\n",
       "    </tr>\n",
       "    <tr>\n",
       "      <th>2</th>\n",
       "      <td>43</td>\n",
       "      <td>60</td>\n",
       "      <td>63</td>\n",
       "    </tr>\n",
       "  </tbody>\n",
       "</table>\n",
       "</div>"
      ],
      "text/plain": [
       "   Precio1  Precio2  Precio3\n",
       "0       38       55       52\n",
       "1       39       65       55\n",
       "2       43       60       63"
      ]
     },
     "execution_count": 4,
     "metadata": {},
     "output_type": "execute_result"
    }
   ],
   "source": [
    "data"
   ]
  },
  {
   "cell_type": "code",
   "execution_count": 22,
   "id": "00bd7aa4",
   "metadata": {},
   "outputs": [],
   "source": [
    "fo = np.array ( data, np.float64) #Frecuencia Observada \n",
    "N = np.sum(fo) # para no trabajar con pandas"
   ]
  },
  {
   "cell_type": "code",
   "execution_count": 23,
   "id": "113b5586",
   "metadata": {},
   "outputs": [
    {
     "data": {
      "text/plain": [
       "array([0.30851064, 0.33829787, 0.35319149])"
      ]
     },
     "execution_count": 23,
     "metadata": {},
     "output_type": "execute_result"
    }
   ],
   "source": [
    "g = np.sum( fo , axis = 1 ) / N\n",
    "g\n",
    "# Probabildaid de cada Precio (columnas)"
   ]
  },
  {
   "cell_type": "code",
   "execution_count": 25,
   "id": "d2e6197b",
   "metadata": {},
   "outputs": [
    {
     "data": {
      "text/plain": [
       "array([0.25531915, 0.38297872, 0.36170213])"
      ]
     },
     "execution_count": 25,
     "metadata": {},
     "output_type": "execute_result"
    }
   ],
   "source": [
    "h = np.sum( fo , axis = 0 ) / N\n",
    "h\n",
    "#Probabilidad de cada Dia (Filas)"
   ]
  },
  {
   "cell_type": "code",
   "execution_count": 8,
   "id": "edd2e5bd",
   "metadata": {},
   "outputs": [],
   "source": [
    "P0 = np.zeros_like(fo)"
   ]
  },
  {
   "cell_type": "code",
   "execution_count": 26,
   "id": "2f2dbcaa",
   "metadata": {},
   "outputs": [
    {
     "data": {
      "text/plain": [
       "array([[0.07876867, 0.11815301, 0.11158895],\n",
       "       [0.08637392, 0.12956089, 0.12236306],\n",
       "       [0.09017655, 0.13526483, 0.12775011]])"
      ]
     },
     "execution_count": 26,
     "metadata": {},
     "output_type": "execute_result"
    }
   ],
   "source": [
    "for i in range (len(g)):# itero a lo largo del eje 0\n",
    "    for j in range(len(h)):\n",
    "        P0[i,j]= g[i]*h[j]\n",
    "    \n",
    "P0   \n",
    "#Probabilidades esperadas"
   ]
  },
  {
   "cell_type": "code",
   "execution_count": 27,
   "id": "207e465f",
   "metadata": {},
   "outputs": [],
   "source": [
    "# como calculo la frecuencia esperada ? (Probabilidades esperadas por N)\n",
    "fe = P0 * N"
   ]
  },
  {
   "cell_type": "code",
   "execution_count": 11,
   "id": "899acb7d",
   "metadata": {},
   "outputs": [
    {
     "data": {
      "text/plain": [
       "array([[37.0212766 , 55.53191489, 52.44680851],\n",
       "       [40.59574468, 60.89361702, 57.5106383 ],\n",
       "       [42.38297872, 63.57446809, 60.04255319]])"
      ]
     },
     "execution_count": 11,
     "metadata": {},
     "output_type": "execute_result"
    }
   ],
   "source": [
    "fe"
   ]
  },
  {
   "cell_type": "code",
   "execution_count": 12,
   "id": "68f398d4",
   "metadata": {},
   "outputs": [
    {
     "data": {
      "text/plain": [
       "array([[38., 55., 52.],\n",
       "       [39., 65., 55.],\n",
       "       [43., 60., 63.]])"
      ]
     },
     "execution_count": 12,
     "metadata": {},
     "output_type": "execute_result"
    }
   ],
   "source": [
    "fo"
   ]
  },
  {
   "cell_type": "code",
   "execution_count": 13,
   "id": "d34f2c25",
   "metadata": {},
   "outputs": [],
   "source": [
    "def GetChi2(x,y):\n",
    "    return np.sum((x-y)**2/y)"
   ]
  },
  {
   "cell_type": "code",
   "execution_count": 28,
   "id": "c77c0e17",
   "metadata": {},
   "outputs": [
    {
     "data": {
      "text/plain": [
       "0.8396477840721925"
      ]
     },
     "execution_count": 28,
     "metadata": {},
     "output_type": "execute_result"
    }
   ],
   "source": [
    "ObsChi2 = GetChi2(fo,fe)\n",
    "ObsChi2 #Si es cerca a 1 es probable que ocurra"
   ]
  },
  {
   "cell_type": "code",
   "execution_count": 16,
   "id": "ae341b30",
   "metadata": {},
   "outputs": [
    {
     "data": {
      "text/plain": [
       "9.487729036781154"
      ]
     },
     "execution_count": 16,
     "metadata": {},
     "output_type": "execute_result"
    }
   ],
   "source": [
    "#Grados de Libertad\n",
    "df = 4\n",
    "CriChi2 = chi2.ppf(0.95,df=df)\n",
    "CriChi2"
   ]
  },
  {
   "cell_type": "code",
   "execution_count": 17,
   "id": "d70a3c6f",
   "metadata": {},
   "outputs": [
    {
     "data": {
      "text/plain": [
       "<matplotlib.lines.Line2D at 0x1cc92f63af0>"
      ]
     },
     "execution_count": 17,
     "metadata": {},
     "output_type": "execute_result"
    },
    {
     "data": {
      "image/png": "[encoded data removed]",
      "text/plain": [
       "<Figure size 640x480 with 1 Axes>"
      ]
     },
     "metadata": {},
     "output_type": "display_data"
    }
   ],
   "source": [
    "x = np.linspace(0,20,100)\n",
    "plt.plot(x,chi2.pdf(x,df=df))\n",
    "plt.axvline(x=CriChi2, color='r')\n",
    "plt.axvline(x=ObsChi2, color='k')"
   ]
  },
  {
   "cell_type": "code",
   "execution_count": 18,
   "id": "de6c8de5",
   "metadata": {},
   "outputs": [
    {
     "data": {
      "text/plain": [
       "0.9330550769215176"
      ]
     },
     "execution_count": 18,
     "metadata": {},
     "output_type": "execute_result"
    }
   ],
   "source": [
    "pvalue = 1-chi2.cdf(ObsChi2,df=df)\n",
    "pvalue"
   ]
  },
  {
   "cell_type": "code",
   "execution_count": 19,
   "id": "a494a6dd",
   "metadata": {},
   "outputs": [],
   "source": [
    "#suponiendo que son independientes, cual es la probabilidad de obtener esas observaciones"
   ]
  },
  {
   "cell_type": "code",
   "execution_count": null,
   "id": "a7f58777",
   "metadata": {},
   "outputs": [],
   "source": []
  }
 ],
 "metadata": {
  "kernelspec": {
   "display_name": "Python 3 (ipykernel)",
   "language": "python",
   "name": "python3"
  },
  "language_info": {
   "codemirror_mode": {
    "name": "ipython",
    "version": 3
   },
   "file_extension": ".py",
   "mimetype": "text/x-python",
   "name": "python",
   "nbconvert_exporter": "python",
   "pygments_lexer": "ipython3",
   "version": "3.10.9"
  }
 },
 "nbformat": 4,
 "nbformat_minor": 5
}
