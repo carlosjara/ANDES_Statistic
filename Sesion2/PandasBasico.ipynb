{
 "cells": [
  {
   "cell_type": "code",
   "execution_count": 154,
   "id": "47cd1590",
   "metadata": {},
   "outputs": [
    {
     "name": "stdout",
     "output_type": "stream",
     "text": [
      "Requirement already satisfied: pandas in c:\\users\\carlosenriquejaramil\\anaconda3\\lib\\site-packages (1.5.3)\n",
      "Requirement already satisfied: numpy>=1.21.0 in c:\\users\\carlosenriquejaramil\\anaconda3\\lib\\site-packages (from pandas) (1.23.5)\n",
      "Requirement already satisfied: pytz>=2020.1 in c:\\users\\carlosenriquejaramil\\anaconda3\\lib\\site-packages (from pandas) (2022.7)\n",
      "Requirement already satisfied: python-dateutil>=2.8.1 in c:\\users\\carlosenriquejaramil\\anaconda3\\lib\\site-packages (from pandas) (2.8.2)\n",
      "Requirement already satisfied: six>=1.5 in c:\\users\\carlosenriquejaramil\\anaconda3\\lib\\site-packages (from python-dateutil>=2.8.1->pandas) (1.16.0)\n",
      "Requirement already satisfied: xlsxwriter in c:\\users\\carlosenriquejaramil\\anaconda3\\lib\\site-packages (3.1.2)\n"
     ]
    }
   ],
   "source": [
    "!pip install pandas\n",
    "!pip install xlsxwriter "
   ]
  },
  {
   "cell_type": "code",
   "execution_count": 151,
   "id": "b1a2a8f8",
   "metadata": {},
   "outputs": [],
   "source": [
    "import numpy as np\n",
    "import matplotlib.pyplot as plt\n",
    "import pandas as pd\n",
    "import seaborn as sns"
   ]
  },
  {
   "cell_type": "code",
   "execution_count": 2,
   "id": "6bff0bad",
   "metadata": {},
   "outputs": [],
   "source": [
    "Dict = { 'Diana': 20, 'Alejandro ': 35}"
   ]
  },
  {
   "cell_type": "code",
   "execution_count": 3,
   "id": "159309a4",
   "metadata": {},
   "outputs": [
    {
     "data": {
      "text/plain": [
       "dict_keys(['Diana', 'Alejandro '])"
      ]
     },
     "execution_count": 3,
     "metadata": {},
     "output_type": "execute_result"
    }
   ],
   "source": [
    "Dict.keys()"
   ]
  },
  {
   "cell_type": "code",
   "execution_count": 4,
   "id": "7ec80fd8",
   "metadata": {},
   "outputs": [
    {
     "data": {
      "text/plain": [
       "dict_values([20, 35])"
      ]
     },
     "execution_count": 4,
     "metadata": {},
     "output_type": "execute_result"
    }
   ],
   "source": [
    "Dict.values()"
   ]
  },
  {
   "cell_type": "code",
   "execution_count": 87,
   "id": "07c76316",
   "metadata": {},
   "outputs": [],
   "source": [
    "x = np.linspace(0.,3.,11)\n",
    "y = lambda x : x**2"
   ]
  },
  {
   "cell_type": "code",
   "execution_count": 88,
   "id": "1f12c6ea",
   "metadata": {},
   "outputs": [
    {
     "data": {
      "text/plain": [
       "[<matplotlib.lines.Line2D at 0x13406469f60>]"
      ]
     },
     "execution_count": 88,
     "metadata": {},
     "output_type": "execute_result"
    },
    {
     "data": {
      "image/png": "[encoded data removed]",
      "text/plain": [
       "<Figure size 640x480 with 1 Axes>"
      ]
     },
     "metadata": {},
     "output_type": "display_data"
    }
   ],
   "source": [
    "plt.plot(x,y(x))"
   ]
  },
  {
   "cell_type": "code",
   "execution_count": 89,
   "id": "c7d82363",
   "metadata": {},
   "outputs": [],
   "source": [
    "Dict2 = {'Tiempo':x, 'Posicion':y(x)}"
   ]
  },
  {
   "cell_type": "code",
   "execution_count": 13,
   "id": "92e0fe16",
   "metadata": {},
   "outputs": [
    {
     "data": {
      "text/plain": [
       "{'Tiempo': array([0.        , 0.11111111, 0.22222222, 0.33333333, 0.44444444,\n",
       "        0.55555556, 0.66666667, 0.77777778, 0.88888889, 1.        ]),\n",
       " 'Posicion': <function __main__.<lambda>(x)>}"
      ]
     },
     "execution_count": 13,
     "metadata": {},
     "output_type": "execute_result"
    }
   ],
   "source": [
    "Dict2"
   ]
  },
  {
   "cell_type": "code",
   "execution_count": 90,
   "id": "c3332a51",
   "metadata": {},
   "outputs": [],
   "source": [
    "df = pd.DataFrame(Dict2)"
   ]
  },
  {
   "cell_type": "code",
   "execution_count": 20,
   "id": "902cc45a",
   "metadata": {},
   "outputs": [
    {
     "data": {
      "text/html": [
       "<div>\n",
       "<style scoped>\n",
       "    .dataframe tbody tr th:only-of-type {\n",
       "        vertical-align: middle;\n",
       "    }\n",
       "\n",
       "    .dataframe tbody tr th {\n",
       "        vertical-align: top;\n",
       "    }\n",
       "\n",
       "    .dataframe thead th {\n",
       "        text-align: right;\n",
       "    }\n",
       "</style>\n",
       "<table border=\"1\" class=\"dataframe\">\n",
       "  <thead>\n",
       "    <tr style=\"text-align: right;\">\n",
       "      <th></th>\n",
       "      <th>Tiempo</th>\n",
       "      <th>Posicion</th>\n",
       "    </tr>\n",
       "  </thead>\n",
       "  <tbody>\n",
       "    <tr>\n",
       "      <th>0</th>\n",
       "      <td>0.000000</td>\n",
       "      <td>0.000000</td>\n",
       "    </tr>\n",
       "    <tr>\n",
       "      <th>1</th>\n",
       "      <td>0.111111</td>\n",
       "      <td>0.012346</td>\n",
       "    </tr>\n",
       "    <tr>\n",
       "      <th>2</th>\n",
       "      <td>0.222222</td>\n",
       "      <td>0.049383</td>\n",
       "    </tr>\n",
       "    <tr>\n",
       "      <th>3</th>\n",
       "      <td>0.333333</td>\n",
       "      <td>0.111111</td>\n",
       "    </tr>\n",
       "    <tr>\n",
       "      <th>4</th>\n",
       "      <td>0.444444</td>\n",
       "      <td>0.197531</td>\n",
       "    </tr>\n",
       "    <tr>\n",
       "      <th>5</th>\n",
       "      <td>0.555556</td>\n",
       "      <td>0.308642</td>\n",
       "    </tr>\n",
       "    <tr>\n",
       "      <th>6</th>\n",
       "      <td>0.666667</td>\n",
       "      <td>0.444444</td>\n",
       "    </tr>\n",
       "    <tr>\n",
       "      <th>7</th>\n",
       "      <td>0.777778</td>\n",
       "      <td>0.604938</td>\n",
       "    </tr>\n",
       "    <tr>\n",
       "      <th>8</th>\n",
       "      <td>0.888889</td>\n",
       "      <td>0.790123</td>\n",
       "    </tr>\n",
       "    <tr>\n",
       "      <th>9</th>\n",
       "      <td>1.000000</td>\n",
       "      <td>1.000000</td>\n",
       "    </tr>\n",
       "  </tbody>\n",
       "</table>\n",
       "</div>"
      ],
      "text/plain": [
       "     Tiempo  Posicion\n",
       "0  0.000000  0.000000\n",
       "1  0.111111  0.012346\n",
       "2  0.222222  0.049383\n",
       "3  0.333333  0.111111\n",
       "4  0.444444  0.197531\n",
       "5  0.555556  0.308642\n",
       "6  0.666667  0.444444\n",
       "7  0.777778  0.604938\n",
       "8  0.888889  0.790123\n",
       "9  1.000000  1.000000"
      ]
     },
     "execution_count": 20,
     "metadata": {},
     "output_type": "execute_result"
    }
   ],
   "source": [
    "df"
   ]
  },
  {
   "cell_type": "code",
   "execution_count": 108,
   "id": "dcf4abd1",
   "metadata": {},
   "outputs": [],
   "source": [
    "def Exponencial (x,lambda_=1):\n",
    "    return lambda_ * np.exp( -lambda_ * x)\n",
    "x = np.linspace (0.,3.,11)"
   ]
  },
  {
   "cell_type": "code",
   "execution_count": 109,
   "id": "e037effd",
   "metadata": {},
   "outputs": [],
   "source": [
    "Dict_test= {'X':x, 'lambda0.5':Exponencial (x, lambda_=0.5), \n",
    "                   'lambda1.0':Exponencial (x, lambda_=1.0), \n",
    "                   'lambda1.5':Exponencial (x, lambda_=1.5)}"
   ]
  },
  {
   "cell_type": "code",
   "execution_count": 110,
   "id": "bdf16cf9",
   "metadata": {},
   "outputs": [],
   "source": [
    "df = pd.DataFrame(Dict_test)"
   ]
  },
  {
   "cell_type": "code",
   "execution_count": 112,
   "id": "317309cb",
   "metadata": {},
   "outputs": [
    {
     "data": {
      "text/html": [
       "<div>\n",
       "<style scoped>\n",
       "    .dataframe tbody tr th:only-of-type {\n",
       "        vertical-align: middle;\n",
       "    }\n",
       "\n",
       "    .dataframe tbody tr th {\n",
       "        vertical-align: top;\n",
       "    }\n",
       "\n",
       "    .dataframe thead th {\n",
       "        text-align: right;\n",
       "    }\n",
       "</style>\n",
       "<table border=\"1\" class=\"dataframe\">\n",
       "  <thead>\n",
       "    <tr style=\"text-align: right;\">\n",
       "      <th></th>\n",
       "      <th>X</th>\n",
       "      <th>lambda0.5</th>\n",
       "      <th>lambda1.0</th>\n",
       "      <th>lambda1.5</th>\n",
       "    </tr>\n",
       "  </thead>\n",
       "  <tbody>\n",
       "    <tr>\n",
       "      <th>0</th>\n",
       "      <td>0.0</td>\n",
       "      <td>0.500000</td>\n",
       "      <td>1.000000</td>\n",
       "      <td>1.500000</td>\n",
       "    </tr>\n",
       "    <tr>\n",
       "      <th>1</th>\n",
       "      <td>0.3</td>\n",
       "      <td>0.430354</td>\n",
       "      <td>0.740818</td>\n",
       "      <td>0.956442</td>\n",
       "    </tr>\n",
       "    <tr>\n",
       "      <th>2</th>\n",
       "      <td>0.6</td>\n",
       "      <td>0.370409</td>\n",
       "      <td>0.548812</td>\n",
       "      <td>0.609854</td>\n",
       "    </tr>\n",
       "    <tr>\n",
       "      <th>3</th>\n",
       "      <td>0.9</td>\n",
       "      <td>0.318814</td>\n",
       "      <td>0.406570</td>\n",
       "      <td>0.388860</td>\n",
       "    </tr>\n",
       "    <tr>\n",
       "      <th>4</th>\n",
       "      <td>1.2</td>\n",
       "      <td>0.274406</td>\n",
       "      <td>0.301194</td>\n",
       "      <td>0.247948</td>\n",
       "    </tr>\n",
       "    <tr>\n",
       "      <th>5</th>\n",
       "      <td>1.5</td>\n",
       "      <td>0.236183</td>\n",
       "      <td>0.223130</td>\n",
       "      <td>0.158099</td>\n",
       "    </tr>\n",
       "    <tr>\n",
       "      <th>6</th>\n",
       "      <td>1.8</td>\n",
       "      <td>0.203285</td>\n",
       "      <td>0.165299</td>\n",
       "      <td>0.100808</td>\n",
       "    </tr>\n",
       "    <tr>\n",
       "      <th>7</th>\n",
       "      <td>2.1</td>\n",
       "      <td>0.174969</td>\n",
       "      <td>0.122456</td>\n",
       "      <td>0.064278</td>\n",
       "    </tr>\n",
       "    <tr>\n",
       "      <th>8</th>\n",
       "      <td>2.4</td>\n",
       "      <td>0.150597</td>\n",
       "      <td>0.090718</td>\n",
       "      <td>0.040986</td>\n",
       "    </tr>\n",
       "    <tr>\n",
       "      <th>9</th>\n",
       "      <td>2.7</td>\n",
       "      <td>0.129620</td>\n",
       "      <td>0.067206</td>\n",
       "      <td>0.026134</td>\n",
       "    </tr>\n",
       "    <tr>\n",
       "      <th>10</th>\n",
       "      <td>3.0</td>\n",
       "      <td>0.111565</td>\n",
       "      <td>0.049787</td>\n",
       "      <td>0.016663</td>\n",
       "    </tr>\n",
       "  </tbody>\n",
       "</table>\n",
       "</div>"
      ],
      "text/plain": [
       "      X  lambda0.5  lambda1.0  lambda1.5\n",
       "0   0.0   0.500000   1.000000   1.500000\n",
       "1   0.3   0.430354   0.740818   0.956442\n",
       "2   0.6   0.370409   0.548812   0.609854\n",
       "3   0.9   0.318814   0.406570   0.388860\n",
       "4   1.2   0.274406   0.301194   0.247948\n",
       "5   1.5   0.236183   0.223130   0.158099\n",
       "6   1.8   0.203285   0.165299   0.100808\n",
       "7   2.1   0.174969   0.122456   0.064278\n",
       "8   2.4   0.150597   0.090718   0.040986\n",
       "9   2.7   0.129620   0.067206   0.026134\n",
       "10  3.0   0.111565   0.049787   0.016663"
      ]
     },
     "execution_count": 112,
     "metadata": {},
     "output_type": "execute_result"
    }
   ],
   "source": [
    "df"
   ]
  },
  {
   "cell_type": "code",
   "execution_count": 123,
   "id": "29a2a02b",
   "metadata": {},
   "outputs": [],
   "source": [
    "Dict_salida = {}\n",
    "Models = [0.5,1.,1.5,2.5,3.0]\n",
    "Dict_salida[0] = x\n",
    "for i in range(1,len(Models)):\n",
    "    Dict_salida[i]= Exponencial(x,lambda_=Models[i-1])"
   ]
  },
  {
   "cell_type": "code",
   "execution_count": 124,
   "id": "3cb77644",
   "metadata": {},
   "outputs": [],
   "source": [
    "df = pd.DataFrame(Dict_salida)"
   ]
  },
  {
   "cell_type": "code",
   "execution_count": 125,
   "id": "5633faf2",
   "metadata": {},
   "outputs": [
    {
     "data": {
      "text/plain": [
       "array([0. , 0.3, 0.6, 0.9, 1.2, 1.5, 1.8, 2.1, 2.4, 2.7, 3. ])"
      ]
     },
     "execution_count": 125,
     "metadata": {},
     "output_type": "execute_result"
    }
   ],
   "source": [
    "Dict_salida[0]"
   ]
  },
  {
   "cell_type": "code",
   "execution_count": 128,
   "id": "4c4b97af",
   "metadata": {},
   "outputs": [],
   "source": [
    "df.columns = ['x','Modelo1','Modelo2','Modelo3','Modelo4']"
   ]
  },
  {
   "cell_type": "code",
   "execution_count": 129,
   "id": "52cbe8ab",
   "metadata": {},
   "outputs": [
    {
     "data": {
      "text/html": [
       "<div>\n",
       "<style scoped>\n",
       "    .dataframe tbody tr th:only-of-type {\n",
       "        vertical-align: middle;\n",
       "    }\n",
       "\n",
       "    .dataframe tbody tr th {\n",
       "        vertical-align: top;\n",
       "    }\n",
       "\n",
       "    .dataframe thead th {\n",
       "        text-align: right;\n",
       "    }\n",
       "</style>\n",
       "<table border=\"1\" class=\"dataframe\">\n",
       "  <thead>\n",
       "    <tr style=\"text-align: right;\">\n",
       "      <th></th>\n",
       "      <th>x</th>\n",
       "      <th>Modelo1</th>\n",
       "      <th>Modelo2</th>\n",
       "      <th>Modelo3</th>\n",
       "      <th>Modelo4</th>\n",
       "    </tr>\n",
       "  </thead>\n",
       "  <tbody>\n",
       "    <tr>\n",
       "      <th>0</th>\n",
       "      <td>0.0</td>\n",
       "      <td>0.500000</td>\n",
       "      <td>1.000000</td>\n",
       "      <td>1.500000</td>\n",
       "      <td>2.500000</td>\n",
       "    </tr>\n",
       "    <tr>\n",
       "      <th>1</th>\n",
       "      <td>0.3</td>\n",
       "      <td>0.430354</td>\n",
       "      <td>0.740818</td>\n",
       "      <td>0.956442</td>\n",
       "      <td>1.180916</td>\n",
       "    </tr>\n",
       "    <tr>\n",
       "      <th>2</th>\n",
       "      <td>0.6</td>\n",
       "      <td>0.370409</td>\n",
       "      <td>0.548812</td>\n",
       "      <td>0.609854</td>\n",
       "      <td>0.557825</td>\n",
       "    </tr>\n",
       "    <tr>\n",
       "      <th>3</th>\n",
       "      <td>0.9</td>\n",
       "      <td>0.318814</td>\n",
       "      <td>0.406570</td>\n",
       "      <td>0.388860</td>\n",
       "      <td>0.263498</td>\n",
       "    </tr>\n",
       "    <tr>\n",
       "      <th>4</th>\n",
       "      <td>1.2</td>\n",
       "      <td>0.274406</td>\n",
       "      <td>0.301194</td>\n",
       "      <td>0.247948</td>\n",
       "      <td>0.124468</td>\n",
       "    </tr>\n",
       "    <tr>\n",
       "      <th>5</th>\n",
       "      <td>1.5</td>\n",
       "      <td>0.236183</td>\n",
       "      <td>0.223130</td>\n",
       "      <td>0.158099</td>\n",
       "      <td>0.058794</td>\n",
       "    </tr>\n",
       "    <tr>\n",
       "      <th>6</th>\n",
       "      <td>1.8</td>\n",
       "      <td>0.203285</td>\n",
       "      <td>0.165299</td>\n",
       "      <td>0.100808</td>\n",
       "      <td>0.027772</td>\n",
       "    </tr>\n",
       "    <tr>\n",
       "      <th>7</th>\n",
       "      <td>2.1</td>\n",
       "      <td>0.174969</td>\n",
       "      <td>0.122456</td>\n",
       "      <td>0.064278</td>\n",
       "      <td>0.013119</td>\n",
       "    </tr>\n",
       "    <tr>\n",
       "      <th>8</th>\n",
       "      <td>2.4</td>\n",
       "      <td>0.150597</td>\n",
       "      <td>0.090718</td>\n",
       "      <td>0.040986</td>\n",
       "      <td>0.006197</td>\n",
       "    </tr>\n",
       "    <tr>\n",
       "      <th>9</th>\n",
       "      <td>2.7</td>\n",
       "      <td>0.129620</td>\n",
       "      <td>0.067206</td>\n",
       "      <td>0.026134</td>\n",
       "      <td>0.002927</td>\n",
       "    </tr>\n",
       "    <tr>\n",
       "      <th>10</th>\n",
       "      <td>3.0</td>\n",
       "      <td>0.111565</td>\n",
       "      <td>0.049787</td>\n",
       "      <td>0.016663</td>\n",
       "      <td>0.001383</td>\n",
       "    </tr>\n",
       "  </tbody>\n",
       "</table>\n",
       "</div>"
      ],
      "text/plain": [
       "      x   Modelo1   Modelo2   Modelo3   Modelo4\n",
       "0   0.0  0.500000  1.000000  1.500000  2.500000\n",
       "1   0.3  0.430354  0.740818  0.956442  1.180916\n",
       "2   0.6  0.370409  0.548812  0.609854  0.557825\n",
       "3   0.9  0.318814  0.406570  0.388860  0.263498\n",
       "4   1.2  0.274406  0.301194  0.247948  0.124468\n",
       "5   1.5  0.236183  0.223130  0.158099  0.058794\n",
       "6   1.8  0.203285  0.165299  0.100808  0.027772\n",
       "7   2.1  0.174969  0.122456  0.064278  0.013119\n",
       "8   2.4  0.150597  0.090718  0.040986  0.006197\n",
       "9   2.7  0.129620  0.067206  0.026134  0.002927\n",
       "10  3.0  0.111565  0.049787  0.016663  0.001383"
      ]
     },
     "execution_count": 129,
     "metadata": {},
     "output_type": "execute_result"
    }
   ],
   "source": [
    "df"
   ]
  },
  {
   "cell_type": "code",
   "execution_count": null,
   "id": "b0f629f7",
   "metadata": {},
   "outputs": [],
   "source": []
  },
  {
   "cell_type": "code",
   "execution_count": 138,
   "id": "1647fcef",
   "metadata": {},
   "outputs": [
    {
     "data": {
      "text/plain": [
       "<Axes: >"
      ]
     },
     "execution_count": 138,
     "metadata": {},
     "output_type": "execute_result"
    },
    {
     "data": {
      "image/png": "[encoded data removed]",
      "text/plain": [
       "<Figure size 640x480 with 1 Axes>"
      ]
     },
     "metadata": {},
     "output_type": "display_data"
    }
   ],
   "source": [
    "df.plot()"
   ]
  },
  {
   "cell_type": "code",
   "execution_count": 155,
   "id": "e95d21c2",
   "metadata": {},
   "outputs": [
    {
     "name": "stderr",
     "output_type": "stream",
     "text": [
      "C:\\Users\\CarlosEnriqueJaramil\\AppData\\Local\\Temp\\ipykernel_15636\\192357728.py:3: FutureWarning: save is not part of the public API, usage can give unexpected results and will be removed in a future version\n",
      "  output.save()\n"
     ]
    }
   ],
   "source": [
    "output = pd.ExcelWriter('Datos.xlsx',engine='xlsxwriter')\n",
    "df.to_excel(output, index=False, sheet_name ='Hoja1')\n",
    "output.save()"
   ]
  },
  {
   "cell_type": "code",
   "execution_count": 131,
   "id": "2375842f",
   "metadata": {},
   "outputs": [
    {
     "data": {
      "text/html": [
       "<div>\n",
       "<style scoped>\n",
       "    .dataframe tbody tr th:only-of-type {\n",
       "        vertical-align: middle;\n",
       "    }\n",
       "\n",
       "    .dataframe tbody tr th {\n",
       "        vertical-align: top;\n",
       "    }\n",
       "\n",
       "    .dataframe thead th {\n",
       "        text-align: right;\n",
       "    }\n",
       "</style>\n",
       "<table border=\"1\" class=\"dataframe\">\n",
       "  <thead>\n",
       "    <tr style=\"text-align: right;\">\n",
       "      <th></th>\n",
       "      <th>x</th>\n",
       "      <th>Modelo1</th>\n",
       "      <th>Modelo2</th>\n",
       "      <th>Modelo3</th>\n",
       "      <th>Modelo4</th>\n",
       "    </tr>\n",
       "  </thead>\n",
       "  <tbody>\n",
       "    <tr>\n",
       "      <th>count</th>\n",
       "      <td>11.000000</td>\n",
       "      <td>11.000000</td>\n",
       "      <td>11.000000</td>\n",
       "      <td>11.000000</td>\n",
       "      <td>11.000000</td>\n",
       "    </tr>\n",
       "    <tr>\n",
       "      <th>mean</th>\n",
       "      <td>1.500000</td>\n",
       "      <td>0.263655</td>\n",
       "      <td>0.337817</td>\n",
       "      <td>0.373643</td>\n",
       "      <td>0.430627</td>\n",
       "    </tr>\n",
       "    <tr>\n",
       "      <th>std</th>\n",
       "      <td>0.994987</td>\n",
       "      <td>0.128197</td>\n",
       "      <td>0.309520</td>\n",
       "      <td>0.474934</td>\n",
       "      <td>0.774937</td>\n",
       "    </tr>\n",
       "    <tr>\n",
       "      <th>min</th>\n",
       "      <td>0.000000</td>\n",
       "      <td>0.111565</td>\n",
       "      <td>0.049787</td>\n",
       "      <td>0.016663</td>\n",
       "      <td>0.001383</td>\n",
       "    </tr>\n",
       "    <tr>\n",
       "      <th>25%</th>\n",
       "      <td>0.750000</td>\n",
       "      <td>0.162783</td>\n",
       "      <td>0.106587</td>\n",
       "      <td>0.052632</td>\n",
       "      <td>0.009658</td>\n",
       "    </tr>\n",
       "    <tr>\n",
       "      <th>50%</th>\n",
       "      <td>1.500000</td>\n",
       "      <td>0.236183</td>\n",
       "      <td>0.223130</td>\n",
       "      <td>0.158099</td>\n",
       "      <td>0.058794</td>\n",
       "    </tr>\n",
       "    <tr>\n",
       "      <th>75%</th>\n",
       "      <td>2.250000</td>\n",
       "      <td>0.344612</td>\n",
       "      <td>0.477691</td>\n",
       "      <td>0.499357</td>\n",
       "      <td>0.410662</td>\n",
       "    </tr>\n",
       "    <tr>\n",
       "      <th>max</th>\n",
       "      <td>3.000000</td>\n",
       "      <td>0.500000</td>\n",
       "      <td>1.000000</td>\n",
       "      <td>1.500000</td>\n",
       "      <td>2.500000</td>\n",
       "    </tr>\n",
       "  </tbody>\n",
       "</table>\n",
       "</div>"
      ],
      "text/plain": [
       "               x    Modelo1    Modelo2    Modelo3    Modelo4\n",
       "count  11.000000  11.000000  11.000000  11.000000  11.000000\n",
       "mean    1.500000   0.263655   0.337817   0.373643   0.430627\n",
       "std     0.994987   0.128197   0.309520   0.474934   0.774937\n",
       "min     0.000000   0.111565   0.049787   0.016663   0.001383\n",
       "25%     0.750000   0.162783   0.106587   0.052632   0.009658\n",
       "50%     1.500000   0.236183   0.223130   0.158099   0.058794\n",
       "75%     2.250000   0.344612   0.477691   0.499357   0.410662\n",
       "max     3.000000   0.500000   1.000000   1.500000   2.500000"
      ]
     },
     "execution_count": 131,
     "metadata": {},
     "output_type": "execute_result"
    }
   ],
   "source": [
    "df.describe()"
   ]
  },
  {
   "cell_type": "code",
   "execution_count": 133,
   "id": "ddbba004",
   "metadata": {},
   "outputs": [
    {
     "data": {
      "text/plain": [
       "<Axes: >"
      ]
     },
     "execution_count": 133,
     "metadata": {},
     "output_type": "execute_result"
    },
    {
     "data": {
      "image/png": "[encoded data removed]",
      "text/plain": [
       "<Figure size 640x480 with 1 Axes>"
      ]
     },
     "metadata": {},
     "output_type": "display_data"
    }
   ],
   "source": [
    "sns.scatterplot(data=df)"
   ]
  },
  {
   "cell_type": "code",
   "execution_count": 134,
   "id": "8ca09c11",
   "metadata": {
    "scrolled": false
   },
   "outputs": [
    {
     "data": {
      "text/plain": [
       "<Axes: xlabel='x', ylabel='Modelo1'>"
      ]
     },
     "execution_count": 134,
     "metadata": {},
     "output_type": "execute_result"
    },
    {
     "data": {
      "image/png": "[encoded data removed]",
      "text/plain": [
       "<Figure size 640x480 with 1 Axes>"
      ]
     },
     "metadata": {},
     "output_type": "display_data"
    }
   ],
   "source": [
    "sns.scatterplot(x=df.x,y=df.Modelo1,data=df)\n",
    "sns.scatterplot(x=df.x,y=df.Modelo2,data=df)"
   ]
  },
  {
   "cell_type": "code",
   "execution_count": 156,
   "id": "e68afa46",
   "metadata": {},
   "outputs": [
    {
     "data": {
      "text/plain": [
       "<Axes: >"
      ]
     },
     "execution_count": 156,
     "metadata": {},
     "output_type": "execute_result"
    },
    {
     "data": {
      "image/png": "[encoded data removed]",
      "text/plain": [
       "<Figure size 640x480 with 1 Axes>"
      ]
     },
     "metadata": {},
     "output_type": "display_data"
    }
   ],
   "source": [
    "df.plot()"
   ]
  },
  {
   "cell_type": "code",
   "execution_count": null,
   "id": "af2810dc",
   "metadata": {},
   "outputs": [],
   "source": []
  }
 ],
 "metadata": {
  "kernelspec": {
   "display_name": "Python 3 (ipykernel)",
   "language": "python",
   "name": "python3"
  },
  "language_info": {
   "codemirror_mode": {
    "name": "ipython",
    "version": 3
   },
   "file_extension": ".py",
   "mimetype": "text/x-python",
   "name": "python",
   "nbconvert_exporter": "python",
   "pygments_lexer": "ipython3",
   "version": "3.10.9"
  }
 },
 "nbformat": 4,
 "nbformat_minor": 5
}
