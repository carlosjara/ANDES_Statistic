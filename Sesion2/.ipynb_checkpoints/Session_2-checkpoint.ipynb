{
 "cells": [
  {
   "cell_type": "code",
   "execution_count": 3,
   "id": "d605b814",
   "metadata": {},
   "outputs": [],
   "source": [
    "import numpy as np"
   ]
  },
  {
   "cell_type": "code",
   "execution_count": 6,
   "id": "d3097292",
   "metadata": {},
   "outputs": [],
   "source": [
    "def Multiplicar(x): # Ambiente de la función\n",
    "    return 2*x"
   ]
  },
  {
   "cell_type": "code",
   "execution_count": 7,
   "id": "01d080c1",
   "metadata": {},
   "outputs": [
    {
     "data": {
      "text/plain": [
       "6.283384"
      ]
     },
     "execution_count": 7,
     "metadata": {},
     "output_type": "execute_result"
    }
   ],
   "source": [
    "Multiplicar(3.141692)"
   ]
  },
  {
   "cell_type": "code",
   "execution_count": 8,
   "id": "2ceb83ba",
   "metadata": {},
   "outputs": [
    {
     "name": "stdout",
     "output_type": "stream",
     "text": [
      "[12.   3.6  4. ] <class 'numpy.ndarray'>\n"
     ]
    }
   ],
   "source": [
    "lista1 = np.array([12.,3.6,4], dtype=np.float64)\n",
    "print(lista1,type(lista1))"
   ]
  },
  {
   "cell_type": "code",
   "execution_count": null,
   "id": "3ead7cb3",
   "metadata": {},
   "outputs": [],
   "source": []
  }
 ],
 "metadata": {
  "kernelspec": {
   "display_name": "Python 3 (ipykernel)",
   "language": "python",
   "name": "python3"
  },
  "language_info": {
   "codemirror_mode": {
    "name": "ipython",
    "version": 3
   },
   "file_extension": ".py",
   "mimetype": "text/x-python",
   "name": "python",
   "nbconvert_exporter": "python",
   "pygments_lexer": "ipython3",
   "version": "3.10.9"
  }
 },
 "nbformat": 4,
 "nbformat_minor": 5
}
